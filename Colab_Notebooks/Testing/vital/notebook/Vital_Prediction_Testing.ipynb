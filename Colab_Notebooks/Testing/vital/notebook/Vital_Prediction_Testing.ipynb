{
 "cells": [
  {
   "metadata": {
    "ExecuteTime": {
     "end_time": "2025-10-30T12:02:50.920676Z",
     "start_time": "2025-10-30T12:02:45.265150Z"
    }
   },
   "cell_type": "code",
   "source": [
    "import numpy as np\n",
    "import tensorflow as tf\n",
    "from mistune.toc import render_toc_ul\n",
    "from tensorflow.keras import layers, models\n",
    "from sklearn.model_selection import GroupShuffleSplit, train_test_split, GroupKFold\n",
    "import matplotlib.pyplot as plt\n",
    "from tensorflow.lite.python.schema_py_generated import Tensor"
   ],
   "id": "ad062281390fdb1d",
   "outputs": [
    {
     "name": "stderr",
     "output_type": "stream",
     "text": [
      "2025-10-30 20:02:46.766889: I tensorflow/core/util/port.cc:153] oneDNN custom operations are on. You may see slightly different numerical results due to floating-point round-off errors from different computation orders. To turn them off, set the environment variable `TF_ENABLE_ONEDNN_OPTS=0`.\n",
      "2025-10-30 20:02:47.496359: I tensorflow/core/platform/cpu_feature_guard.cc:210] This TensorFlow binary is optimized to use available CPU instructions in performance-critical operations.\n",
      "To enable the following instructions: AVX2 AVX_VNNI FMA, in other operations, rebuild TensorFlow with the appropriate compiler flags.\n",
      "2025-10-30 20:02:50.130625: I tensorflow/core/util/port.cc:153] oneDNN custom operations are on. You may see slightly different numerical results due to floating-point round-off errors from different computation orders. To turn them off, set the environment variable `TF_ENABLE_ONEDNN_OPTS=0`.\n"
     ]
    }
   ],
   "execution_count": 1
  },
  {
   "metadata": {
    "ExecuteTime": {
     "end_time": "2025-10-30T12:02:50.937666Z",
     "start_time": "2025-10-30T12:02:50.926122Z"
    }
   },
   "cell_type": "code",
   "source": [
    "# -----------------------\n",
    "# 1) Load data\n",
    "# -----------------------\n",
    "loaded = np.load(\"vitaldb_ecgii_stft.npz\", allow_pickle=True)"
   ],
   "id": "85de27e66689b7c1",
   "outputs": [],
   "execution_count": 2
  },
  {
   "metadata": {
    "ExecuteTime": {
     "end_time": "2025-10-30T12:02:50.979729Z",
     "start_time": "2025-10-30T12:02:50.974579Z"
    }
   },
   "cell_type": "code",
   "source": [
    "# S: np.ndarray, shape (N, F, T)  # STFT (log-magnitude, normalized per beat)\n",
    "# Y: np.ndarray, shape (N, 3)     # columns e.g. ['MAP', 'SPO2', 'ETCO2'] with NaNs where missing\n",
    "# f: np.ndarray, shape (F,)       # frequency axis (Hz)\n",
    "# t: np.ndarray, shape (T,)       # time axis (s), centered (0 ~ R-peak)\n",
    "# y_cols: list[str]               # e.g. ['MAP','SPO2','ETCO2']\n",
    "# beat_caseids: np.ndarray, shape (N,)  # optional; for group (patient) split\n",
    "list(loaded.keys())"
   ],
   "id": "3ffec1e647e73ccb",
   "outputs": [
    {
     "data": {
      "text/plain": [
       "['S', 'Y', 'f', 't', 'y_cols', 'beat_caseids']"
      ]
     },
     "execution_count": 3,
     "metadata": {},
     "output_type": "execute_result"
    }
   ],
   "execution_count": 3
  },
  {
   "metadata": {
    "ExecuteTime": {
     "end_time": "2025-10-30T12:02:58.415563Z",
     "start_time": "2025-10-30T12:02:51.027586Z"
    }
   },
   "cell_type": "code",
   "source": [
    "S = loaded[\"S\"]          # (N, F, T)\n",
    "Y = loaded[\"Y\"]          # (N, 3)\n",
    "f = loaded[\"f\"]          # (F,)\n",
    "t = loaded[\"t\"]          # (T,)\n",
    "beat_caseids = loaded[\"beat_caseids\"]  # (N,)\n",
    "y_cols = loaded[\"y_cols\"]  # list of target names"
   ],
   "id": "b72918414ba584c0",
   "outputs": [],
   "execution_count": 4
  },
  {
   "metadata": {
    "ExecuteTime": {
     "end_time": "2025-10-30T12:02:58.611344Z",
     "start_time": "2025-10-30T12:02:58.608122Z"
    }
   },
   "cell_type": "code",
   "source": "print(\"Shapes:\", S.shape, Y.shape, f.shape, t.shape, beat_caseids.shape, len(y_cols))",
   "id": "c90665323657e5e",
   "outputs": [
    {
     "name": "stdout",
     "output_type": "stream",
     "text": [
      "Shapes: (103188, 58, 17) (103188, 3) (58,) (17,) (103188,) 3\n"
     ]
    }
   ],
   "execution_count": 5
  },
  {
   "metadata": {
    "ExecuteTime": {
     "end_time": "2025-10-30T12:02:59.017501Z",
     "start_time": "2025-10-30T12:02:58.657058Z"
    }
   },
   "cell_type": "code",
   "source": [
    "# code to check if NaN are present in S, Y, f, t, beat_caseids, y_cols\n",
    "print(\"NaNs in S:\", np.isnan(S).any())\n",
    "print(\"NaNs in Y:\", np.isnan(Y).any())\n",
    "print(\"NaNs in f:\", np.isnan(f).any())\n",
    "print(\"NaNs in t:\", np.isnan(t).any())\n",
    "print(\"NaNs in beat_caseids:\", np.isnan(beat_caseids).any())\n",
    "print(\"NaNs in y_cols:\", any(col is None for col in y_cols))"
   ],
   "id": "276a54851fb174cf",
   "outputs": [
    {
     "name": "stdout",
     "output_type": "stream",
     "text": [
      "NaNs in S: False\n",
      "NaNs in Y: True\n",
      "NaNs in f: False\n",
      "NaNs in t: False\n",
      "NaNs in beat_caseids: False\n",
      "NaNs in y_cols: False\n"
     ]
    }
   ],
   "execution_count": 6
  },
  {
   "metadata": {
    "ExecuteTime": {
     "end_time": "2025-10-30T12:02:59.026699Z",
     "start_time": "2025-10-30T12:02:59.022262Z"
    }
   },
   "cell_type": "code",
   "source": [
    "# count number of NaNs in Y\n",
    "nan_counts = np.isnan(Y).sum(axis=0)\n",
    "for col, count in zip(y_cols, nan_counts):\n",
    "    print(f\"NaNs in {col}: {count}\")"
   ],
   "id": "1a3f9fbf3486cb53",
   "outputs": [
    {
     "name": "stdout",
     "output_type": "stream",
     "text": [
      "NaNs in MAP: 1538\n",
      "NaNs in SPO2: 101426\n",
      "NaNs in ETCO2: 102755\n"
     ]
    }
   ],
   "execution_count": 7
  },
  {
   "metadata": {
    "ExecuteTime": {
     "end_time": "2025-10-30T12:03:10.897169Z",
     "start_time": "2025-10-30T12:02:59.164175Z"
    }
   },
   "cell_type": "code",
   "source": [
    "N, F, T = S.shape\n",
    "X = S[..., None]  # channels_last -> (N, F, T, 1)\n",
    "\n",
    "# split (grouped by case if available)\n",
    "idx = np.arange(N)\n",
    "if beat_caseids is not None:\n",
    "    gkf = GroupKFold(n_splits=5)\n",
    "    tr_idx, te_idx = next(gkf.split(idx, groups=beat_caseids))\n",
    "    gkf2 = GroupKFold(n_splits=5)\n",
    "    tr_core, va_idx = next(gkf2.split(tr_idx, groups=beat_caseids[tr_idx]))\n",
    "    tr_idx = tr_idx[tr_core]\n",
    "else:\n",
    "    tr_idx, te_idx = train_test_split(idx, test_size=0.2, random_state=42)\n",
    "    tr_idx, va_idx = train_test_split(tr_idx, test_size=0.2, random_state=42)\n",
    "\n",
    "X_tr, X_va, X_te = X[tr_idx], X[va_idx], X[te_idx]\n",
    "Y_tr, Y_va, Y_te = Y[tr_idx], Y[va_idx], Y[te_idx]\n",
    "\n",
    "# per-target normalization on training set (ignore NaNs)\n",
    "y_mean = np.nanmean(Y_tr, axis=0)\n",
    "y_std  = np.nanstd (Y_tr, axis=0) + 1e-8\n",
    "def norm_y(a):  return (a - y_mean) / y_std\n",
    "def denorm_y(a): return a * y_std + y_mean\n",
    "\n",
    "Y_tr_n = norm_y(Y_tr); Y_va_n = norm_y(Y_va); Y_te_n = norm_y(Y_te)\n",
    "\n",
    "# ---------- tf.data datasets ----------\n",
    "def make_ds(X, Y, bs=256, shuffle=False):\n",
    "    # Keep NaNs in Y; our loss will mask them.\n",
    "    ds = tf.data.Dataset.from_tensor_slices((X.astype(np.float32), Y.astype(np.float32)))\n",
    "    if shuffle:\n",
    "        ds = ds.shuffle(min(len(X), 10000), seed=42)\n",
    "    ds = ds.batch(bs).prefetch(tf.data.AUTOTUNE)\n",
    "    return ds\n",
    "\n",
    "ds_tr = make_ds(X_tr, Y_tr_n, shuffle=True)\n",
    "ds_va = make_ds(X_va, Y_va_n)\n",
    "ds_te = make_ds(X_te, Y_te_n)"
   ],
   "id": "6548a761dccc5a08",
   "outputs": [
    {
     "name": "stderr",
     "output_type": "stream",
     "text": [
      "WARNING: All log messages before absl::InitializeLog() is called are written to STDERR\n",
      "I0000 00:00:1761825786.678648  132252 gpu_device.cc:2020] Created device /job:localhost/replica:0/task:0/device:GPU:0 with 5518 MB memory:  -> device: 0, name: NVIDIA GeForce RTX 4070 Laptop GPU, pci bus id: 0000:01:00.0, compute capability: 8.9\n"
     ]
    }
   ],
   "execution_count": 8
  },
  {
   "metadata": {
    "ExecuteTime": {
     "end_time": "2025-10-30T12:03:11.019770Z",
     "start_time": "2025-10-30T12:03:11.009852Z"
    }
   },
   "cell_type": "code",
   "source": [
    "# ---------- masked MAE loss ----------\n",
    "@tf.function\n",
    "def masked_mae(y_true, y_pred):\n",
    "    # mask: True where finite labels exist\n",
    "    mask = tf.math.is_finite(y_true)\n",
    "    y_true_clean = tf.where(mask, y_true, 0.0)\n",
    "    abs_err = tf.abs(y_pred - y_true_clean) * tf.cast(mask, tf.float32)\n",
    "    denom = tf.reduce_sum(tf.cast(mask, tf.float32)) + 1e-6\n",
    "    return tf.reduce_sum(abs_err) / denom\n",
    "\n",
    "# optional per-target masked MAE metric (reports in z-units)\n",
    "def make_masked_mae_k(k):\n",
    "    @tf.function\n",
    "    def m(y_true, y_pred):\n",
    "        yt = y_true[..., k:k+1]; yp = y_pred[..., k:k+1]\n",
    "        mask = tf.math.is_finite(yt)\n",
    "        yt = tf.where(mask, yt, 0.0)\n",
    "        err = tf.abs(yp - yt) * tf.cast(mask, tf.float32)\n",
    "        denom = tf.reduce_sum(tf.cast(mask, tf.float32)) + 1e-6\n",
    "        return tf.reduce_sum(err) / denom\n",
    "    return m"
   ],
   "id": "776b022f07419fe1",
   "outputs": [],
   "execution_count": 9
  },
  {
   "metadata": {
    "ExecuteTime": {
     "end_time": "2025-10-30T12:03:11.071508Z",
     "start_time": "2025-10-30T12:03:11.067111Z"
    }
   },
   "cell_type": "code",
   "source": [
    "# ---------- model ----------\n",
    "from tensorflow.keras import layers, models\n",
    "def model1():\n",
    "    inputs = layers.Input(shape=(F, T, 1))\n",
    "    x = layers.Conv2D(16, (3,3), padding=\"same\", activation=\"relu\")(inputs)\n",
    "    x = layers.BatchNormalization()(x)\n",
    "    x = layers.Conv2D(32, (3,3), padding=\"same\", activation=\"relu\")(x)\n",
    "    x = layers.MaxPool2D((2,2))(x)\n",
    "    x = layers.Conv2D(64, (3,3), padding=\"same\", activation=\"relu\")(x)\n",
    "    x = layers.BatchNormalization()(x)\n",
    "    x = layers.Conv2D(96, (3,3), padding=\"same\", activation=\"relu\")(x)\n",
    "    x = layers.GlobalAveragePooling2D()(x)\n",
    "    x = layers.Dense(64, activation=\"relu\")(x)\n",
    "    outputs = layers.Dense(3)(x)  # 3 targets (z-normalized)\n",
    "\n",
    "    model = models.Model(inputs, outputs)\n",
    "    model.summary()\n",
    "    return model"
   ],
   "id": "85b4dadec220c1af",
   "outputs": [],
   "execution_count": 10
  },
  {
   "metadata": {
    "ExecuteTime": {
     "end_time": "2025-10-30T12:03:57.924248Z",
     "start_time": "2025-10-30T12:03:11.121919Z"
    }
   },
   "cell_type": "code",
   "source": [
    "# ---------- train ----------\n",
    "ckpt = tf.keras.callbacks.ModelCheckpoint(\"best_spec_cnn.keras\", monitor=\"val_loss\",\n",
    "                                        save_best_only=True, mode=\"min\", verbose=1)\n",
    "es = tf.keras.callbacks.EarlyStopping(monitor=\"val_loss\", patience=5, restore_best_weights=True)\n",
    "model = model1()\n",
    "model.compile(\n",
    "        optimizer=tf.keras.optimizers.AdamW(1e-3, weight_decay=1e-4),\n",
    "        loss=masked_mae,\n",
    "        metrics=[make_masked_mae_k(0), make_masked_mae_k(1), make_masked_mae_k(2)]\n",
    "    )\n",
    "hist = model.fit(ds_tr, validation_data=ds_va, epochs=25, callbacks=[ckpt, es])"
   ],
   "id": "4885d367c1529416",
   "outputs": [
    {
     "data": {
      "text/plain": [
       "\u001B[1mModel: \"functional\"\u001B[0m\n"
      ],
      "text/html": [
       "<pre style=\"white-space:pre;overflow-x:auto;line-height:normal;font-family:Menlo,'DejaVu Sans Mono',consolas,'Courier New',monospace\"><span style=\"font-weight: bold\">Model: \"functional\"</span>\n",
       "</pre>\n"
      ]
     },
     "metadata": {},
     "output_type": "display_data"
    },
    {
     "data": {
      "text/plain": [
       "┏━━━━━━━━━━━━━━━━━━━━━━━━━━━━━━━━━┳━━━━━━━━━━━━━━━━━━━━━━━━┳━━━━━━━━━━━━━━━┓\n",
       "┃\u001B[1m \u001B[0m\u001B[1mLayer (type)                   \u001B[0m\u001B[1m \u001B[0m┃\u001B[1m \u001B[0m\u001B[1mOutput Shape          \u001B[0m\u001B[1m \u001B[0m┃\u001B[1m \u001B[0m\u001B[1m      Param #\u001B[0m\u001B[1m \u001B[0m┃\n",
       "┡━━━━━━━━━━━━━━━━━━━━━━━━━━━━━━━━━╇━━━━━━━━━━━━━━━━━━━━━━━━╇━━━━━━━━━━━━━━━┩\n",
       "│ input_layer (\u001B[38;5;33mInputLayer\u001B[0m)        │ (\u001B[38;5;45mNone\u001B[0m, \u001B[38;5;34m58\u001B[0m, \u001B[38;5;34m17\u001B[0m, \u001B[38;5;34m1\u001B[0m)      │             \u001B[38;5;34m0\u001B[0m │\n",
       "├─────────────────────────────────┼────────────────────────┼───────────────┤\n",
       "│ conv2d (\u001B[38;5;33mConv2D\u001B[0m)                 │ (\u001B[38;5;45mNone\u001B[0m, \u001B[38;5;34m58\u001B[0m, \u001B[38;5;34m17\u001B[0m, \u001B[38;5;34m16\u001B[0m)     │           \u001B[38;5;34m160\u001B[0m │\n",
       "├─────────────────────────────────┼────────────────────────┼───────────────┤\n",
       "│ batch_normalization             │ (\u001B[38;5;45mNone\u001B[0m, \u001B[38;5;34m58\u001B[0m, \u001B[38;5;34m17\u001B[0m, \u001B[38;5;34m16\u001B[0m)     │            \u001B[38;5;34m64\u001B[0m │\n",
       "│ (\u001B[38;5;33mBatchNormalization\u001B[0m)            │                        │               │\n",
       "├─────────────────────────────────┼────────────────────────┼───────────────┤\n",
       "│ conv2d_1 (\u001B[38;5;33mConv2D\u001B[0m)               │ (\u001B[38;5;45mNone\u001B[0m, \u001B[38;5;34m58\u001B[0m, \u001B[38;5;34m17\u001B[0m, \u001B[38;5;34m32\u001B[0m)     │         \u001B[38;5;34m4,640\u001B[0m │\n",
       "├─────────────────────────────────┼────────────────────────┼───────────────┤\n",
       "│ max_pooling2d (\u001B[38;5;33mMaxPooling2D\u001B[0m)    │ (\u001B[38;5;45mNone\u001B[0m, \u001B[38;5;34m29\u001B[0m, \u001B[38;5;34m8\u001B[0m, \u001B[38;5;34m32\u001B[0m)      │             \u001B[38;5;34m0\u001B[0m │\n",
       "├─────────────────────────────────┼────────────────────────┼───────────────┤\n",
       "│ conv2d_2 (\u001B[38;5;33mConv2D\u001B[0m)               │ (\u001B[38;5;45mNone\u001B[0m, \u001B[38;5;34m29\u001B[0m, \u001B[38;5;34m8\u001B[0m, \u001B[38;5;34m64\u001B[0m)      │        \u001B[38;5;34m18,496\u001B[0m │\n",
       "├─────────────────────────────────┼────────────────────────┼───────────────┤\n",
       "│ batch_normalization_1           │ (\u001B[38;5;45mNone\u001B[0m, \u001B[38;5;34m29\u001B[0m, \u001B[38;5;34m8\u001B[0m, \u001B[38;5;34m64\u001B[0m)      │           \u001B[38;5;34m256\u001B[0m │\n",
       "│ (\u001B[38;5;33mBatchNormalization\u001B[0m)            │                        │               │\n",
       "├─────────────────────────────────┼────────────────────────┼───────────────┤\n",
       "│ conv2d_3 (\u001B[38;5;33mConv2D\u001B[0m)               │ (\u001B[38;5;45mNone\u001B[0m, \u001B[38;5;34m29\u001B[0m, \u001B[38;5;34m8\u001B[0m, \u001B[38;5;34m96\u001B[0m)      │        \u001B[38;5;34m55,392\u001B[0m │\n",
       "├─────────────────────────────────┼────────────────────────┼───────────────┤\n",
       "│ global_average_pooling2d        │ (\u001B[38;5;45mNone\u001B[0m, \u001B[38;5;34m96\u001B[0m)             │             \u001B[38;5;34m0\u001B[0m │\n",
       "│ (\u001B[38;5;33mGlobalAveragePooling2D\u001B[0m)        │                        │               │\n",
       "├─────────────────────────────────┼────────────────────────┼───────────────┤\n",
       "│ dense (\u001B[38;5;33mDense\u001B[0m)                   │ (\u001B[38;5;45mNone\u001B[0m, \u001B[38;5;34m64\u001B[0m)             │         \u001B[38;5;34m6,208\u001B[0m │\n",
       "├─────────────────────────────────┼────────────────────────┼───────────────┤\n",
       "│ dense_1 (\u001B[38;5;33mDense\u001B[0m)                 │ (\u001B[38;5;45mNone\u001B[0m, \u001B[38;5;34m3\u001B[0m)              │           \u001B[38;5;34m195\u001B[0m │\n",
       "└─────────────────────────────────┴────────────────────────┴───────────────┘\n"
      ],
      "text/html": [
       "<pre style=\"white-space:pre;overflow-x:auto;line-height:normal;font-family:Menlo,'DejaVu Sans Mono',consolas,'Courier New',monospace\">┏━━━━━━━━━━━━━━━━━━━━━━━━━━━━━━━━━┳━━━━━━━━━━━━━━━━━━━━━━━━┳━━━━━━━━━━━━━━━┓\n",
       "┃<span style=\"font-weight: bold\"> Layer (type)                    </span>┃<span style=\"font-weight: bold\"> Output Shape           </span>┃<span style=\"font-weight: bold\">       Param # </span>┃\n",
       "┡━━━━━━━━━━━━━━━━━━━━━━━━━━━━━━━━━╇━━━━━━━━━━━━━━━━━━━━━━━━╇━━━━━━━━━━━━━━━┩\n",
       "│ input_layer (<span style=\"color: #0087ff; text-decoration-color: #0087ff\">InputLayer</span>)        │ (<span style=\"color: #00d7ff; text-decoration-color: #00d7ff\">None</span>, <span style=\"color: #00af00; text-decoration-color: #00af00\">58</span>, <span style=\"color: #00af00; text-decoration-color: #00af00\">17</span>, <span style=\"color: #00af00; text-decoration-color: #00af00\">1</span>)      │             <span style=\"color: #00af00; text-decoration-color: #00af00\">0</span> │\n",
       "├─────────────────────────────────┼────────────────────────┼───────────────┤\n",
       "│ conv2d (<span style=\"color: #0087ff; text-decoration-color: #0087ff\">Conv2D</span>)                 │ (<span style=\"color: #00d7ff; text-decoration-color: #00d7ff\">None</span>, <span style=\"color: #00af00; text-decoration-color: #00af00\">58</span>, <span style=\"color: #00af00; text-decoration-color: #00af00\">17</span>, <span style=\"color: #00af00; text-decoration-color: #00af00\">16</span>)     │           <span style=\"color: #00af00; text-decoration-color: #00af00\">160</span> │\n",
       "├─────────────────────────────────┼────────────────────────┼───────────────┤\n",
       "│ batch_normalization             │ (<span style=\"color: #00d7ff; text-decoration-color: #00d7ff\">None</span>, <span style=\"color: #00af00; text-decoration-color: #00af00\">58</span>, <span style=\"color: #00af00; text-decoration-color: #00af00\">17</span>, <span style=\"color: #00af00; text-decoration-color: #00af00\">16</span>)     │            <span style=\"color: #00af00; text-decoration-color: #00af00\">64</span> │\n",
       "│ (<span style=\"color: #0087ff; text-decoration-color: #0087ff\">BatchNormalization</span>)            │                        │               │\n",
       "├─────────────────────────────────┼────────────────────────┼───────────────┤\n",
       "│ conv2d_1 (<span style=\"color: #0087ff; text-decoration-color: #0087ff\">Conv2D</span>)               │ (<span style=\"color: #00d7ff; text-decoration-color: #00d7ff\">None</span>, <span style=\"color: #00af00; text-decoration-color: #00af00\">58</span>, <span style=\"color: #00af00; text-decoration-color: #00af00\">17</span>, <span style=\"color: #00af00; text-decoration-color: #00af00\">32</span>)     │         <span style=\"color: #00af00; text-decoration-color: #00af00\">4,640</span> │\n",
       "├─────────────────────────────────┼────────────────────────┼───────────────┤\n",
       "│ max_pooling2d (<span style=\"color: #0087ff; text-decoration-color: #0087ff\">MaxPooling2D</span>)    │ (<span style=\"color: #00d7ff; text-decoration-color: #00d7ff\">None</span>, <span style=\"color: #00af00; text-decoration-color: #00af00\">29</span>, <span style=\"color: #00af00; text-decoration-color: #00af00\">8</span>, <span style=\"color: #00af00; text-decoration-color: #00af00\">32</span>)      │             <span style=\"color: #00af00; text-decoration-color: #00af00\">0</span> │\n",
       "├─────────────────────────────────┼────────────────────────┼───────────────┤\n",
       "│ conv2d_2 (<span style=\"color: #0087ff; text-decoration-color: #0087ff\">Conv2D</span>)               │ (<span style=\"color: #00d7ff; text-decoration-color: #00d7ff\">None</span>, <span style=\"color: #00af00; text-decoration-color: #00af00\">29</span>, <span style=\"color: #00af00; text-decoration-color: #00af00\">8</span>, <span style=\"color: #00af00; text-decoration-color: #00af00\">64</span>)      │        <span style=\"color: #00af00; text-decoration-color: #00af00\">18,496</span> │\n",
       "├─────────────────────────────────┼────────────────────────┼───────────────┤\n",
       "│ batch_normalization_1           │ (<span style=\"color: #00d7ff; text-decoration-color: #00d7ff\">None</span>, <span style=\"color: #00af00; text-decoration-color: #00af00\">29</span>, <span style=\"color: #00af00; text-decoration-color: #00af00\">8</span>, <span style=\"color: #00af00; text-decoration-color: #00af00\">64</span>)      │           <span style=\"color: #00af00; text-decoration-color: #00af00\">256</span> │\n",
       "│ (<span style=\"color: #0087ff; text-decoration-color: #0087ff\">BatchNormalization</span>)            │                        │               │\n",
       "├─────────────────────────────────┼────────────────────────┼───────────────┤\n",
       "│ conv2d_3 (<span style=\"color: #0087ff; text-decoration-color: #0087ff\">Conv2D</span>)               │ (<span style=\"color: #00d7ff; text-decoration-color: #00d7ff\">None</span>, <span style=\"color: #00af00; text-decoration-color: #00af00\">29</span>, <span style=\"color: #00af00; text-decoration-color: #00af00\">8</span>, <span style=\"color: #00af00; text-decoration-color: #00af00\">96</span>)      │        <span style=\"color: #00af00; text-decoration-color: #00af00\">55,392</span> │\n",
       "├─────────────────────────────────┼────────────────────────┼───────────────┤\n",
       "│ global_average_pooling2d        │ (<span style=\"color: #00d7ff; text-decoration-color: #00d7ff\">None</span>, <span style=\"color: #00af00; text-decoration-color: #00af00\">96</span>)             │             <span style=\"color: #00af00; text-decoration-color: #00af00\">0</span> │\n",
       "│ (<span style=\"color: #0087ff; text-decoration-color: #0087ff\">GlobalAveragePooling2D</span>)        │                        │               │\n",
       "├─────────────────────────────────┼────────────────────────┼───────────────┤\n",
       "│ dense (<span style=\"color: #0087ff; text-decoration-color: #0087ff\">Dense</span>)                   │ (<span style=\"color: #00d7ff; text-decoration-color: #00d7ff\">None</span>, <span style=\"color: #00af00; text-decoration-color: #00af00\">64</span>)             │         <span style=\"color: #00af00; text-decoration-color: #00af00\">6,208</span> │\n",
       "├─────────────────────────────────┼────────────────────────┼───────────────┤\n",
       "│ dense_1 (<span style=\"color: #0087ff; text-decoration-color: #0087ff\">Dense</span>)                 │ (<span style=\"color: #00d7ff; text-decoration-color: #00d7ff\">None</span>, <span style=\"color: #00af00; text-decoration-color: #00af00\">3</span>)              │           <span style=\"color: #00af00; text-decoration-color: #00af00\">195</span> │\n",
       "└─────────────────────────────────┴────────────────────────┴───────────────┘\n",
       "</pre>\n"
      ]
     },
     "metadata": {},
     "output_type": "display_data"
    },
    {
     "data": {
      "text/plain": [
       "\u001B[1m Total params: \u001B[0m\u001B[38;5;34m85,411\u001B[0m (333.64 KB)\n"
      ],
      "text/html": [
       "<pre style=\"white-space:pre;overflow-x:auto;line-height:normal;font-family:Menlo,'DejaVu Sans Mono',consolas,'Courier New',monospace\"><span style=\"font-weight: bold\"> Total params: </span><span style=\"color: #00af00; text-decoration-color: #00af00\">85,411</span> (333.64 KB)\n",
       "</pre>\n"
      ]
     },
     "metadata": {},
     "output_type": "display_data"
    },
    {
     "data": {
      "text/plain": [
       "\u001B[1m Trainable params: \u001B[0m\u001B[38;5;34m85,251\u001B[0m (333.01 KB)\n"
      ],
      "text/html": [
       "<pre style=\"white-space:pre;overflow-x:auto;line-height:normal;font-family:Menlo,'DejaVu Sans Mono',consolas,'Courier New',monospace\"><span style=\"font-weight: bold\"> Trainable params: </span><span style=\"color: #00af00; text-decoration-color: #00af00\">85,251</span> (333.01 KB)\n",
       "</pre>\n"
      ]
     },
     "metadata": {},
     "output_type": "display_data"
    },
    {
     "data": {
      "text/plain": [
       "\u001B[1m Non-trainable params: \u001B[0m\u001B[38;5;34m160\u001B[0m (640.00 B)\n"
      ],
      "text/html": [
       "<pre style=\"white-space:pre;overflow-x:auto;line-height:normal;font-family:Menlo,'DejaVu Sans Mono',consolas,'Courier New',monospace\"><span style=\"font-weight: bold\"> Non-trainable params: </span><span style=\"color: #00af00; text-decoration-color: #00af00\">160</span> (640.00 B)\n",
       "</pre>\n"
      ]
     },
     "metadata": {},
     "output_type": "display_data"
    },
    {
     "name": "stdout",
     "output_type": "stream",
     "text": [
      "Epoch 1/25\n"
     ]
    },
    {
     "name": "stderr",
     "output_type": "stream",
     "text": [
      "2025-10-30 20:03:14.682018: I external/local_xla/xla/service/service.cc:163] XLA service 0x77bc7c0061a0 initialized for platform CUDA (this does not guarantee that XLA will be used). Devices:\n",
      "2025-10-30 20:03:14.682801: I external/local_xla/xla/service/service.cc:171]   StreamExecutor device (0): NVIDIA GeForce RTX 4070 Laptop GPU, Compute Capability 8.9\n",
      "2025-10-30 20:03:14.821989: I tensorflow/compiler/mlir/tensorflow/utils/dump_mlir_util.cc:269] disabling MLIR crash reproducer, set env var `MLIR_CRASH_REPRODUCER_DIRECTORY` to enable.\n",
      "2025-10-30 20:03:15.184793: I external/local_xla/xla/stream_executor/cuda/cuda_dnn.cc:473] Loaded cuDNN version 91002\n",
      "2025-10-30 20:03:15.263222: I external/local_xla/xla/service/gpu/autotuning/dot_search_space.cc:208] All configs were filtered out because none of them sufficiently match the hints. Maybe the hints set does not contain a good representative set of valid configs? Working around this by using the full hints set instead.\n",
      "2025-10-30 20:03:15.263313: I external/local_xla/xla/service/gpu/autotuning/dot_search_space.cc:208] All configs were filtered out because none of them sufficiently match the hints. Maybe the hints set does not contain a good representative set of valid configs? Working around this by using the full hints set instead.\n",
      "2025-10-30 20:03:15.263328: I external/local_xla/xla/service/gpu/autotuning/dot_search_space.cc:208] All configs were filtered out because none of them sufficiently match the hints. Maybe the hints set does not contain a good representative set of valid configs? Working around this by using the full hints set instead.\n",
      "2025-10-30 20:03:16.426793: I external/local_xla/xla/stream_executor/cuda/subprocess_compilation.cc:346] ptxas warning : Registers are spilled to local memory in function 'gemm_fusion_dot_1090', 116 bytes spill stores, 116 bytes spill loads\n",
      "\n",
      "2025-10-30 20:03:16.532079: I external/local_xla/xla/stream_executor/cuda/subprocess_compilation.cc:346] ptxas warning : Registers are spilled to local memory in function 'gemm_fusion_dot_1304', 64 bytes spill stores, 64 bytes spill loads\n",
      "\n",
      "2025-10-30 20:03:16.719325: I external/local_xla/xla/stream_executor/cuda/subprocess_compilation.cc:346] ptxas warning : Registers are spilled to local memory in function 'gemm_fusion_dot_1304', 684 bytes spill stores, 684 bytes spill loads\n",
      "\n"
     ]
    },
    {
     "name": "stdout",
     "output_type": "stream",
     "text": [
      "\u001B[1m 14/262\u001B[0m \u001B[32m━\u001B[0m\u001B[37m━━━━━━━━━━━━━━━━━━━\u001B[0m \u001B[1m3s\u001B[0m 13ms/step - loss: 0.7782 - m: 0.7853 - m_1: 0.3489 - m_2: 0.0715"
     ]
    },
    {
     "name": "stderr",
     "output_type": "stream",
     "text": [
      "I0000 00:00:1761825800.064892  132475 device_compiler.h:196] Compiled cluster using XLA!  This line is logged at most once for the lifetime of the process.\n"
     ]
    },
    {
     "name": "stdout",
     "output_type": "stream",
     "text": [
      "\u001B[1m259/262\u001B[0m \u001B[32m━━━━━━━━━━━━━━━━━━━\u001B[0m\u001B[37m━\u001B[0m \u001B[1m0s\u001B[0m 11ms/step - loss: 0.5988 - m: 0.6022 - m_1: 0.3365 - m_2: 0.2256"
     ]
    },
    {
     "name": "stderr",
     "output_type": "stream",
     "text": [
      "2025-10-30 20:03:23.205077: I external/local_xla/xla/service/gpu/autotuning/dot_search_space.cc:208] All configs were filtered out because none of them sufficiently match the hints. Maybe the hints set does not contain a good representative set of valid configs? Working around this by using the full hints set instead.\n",
      "2025-10-30 20:03:23.205166: I external/local_xla/xla/service/gpu/autotuning/dot_search_space.cc:208] All configs were filtered out because none of them sufficiently match the hints. Maybe the hints set does not contain a good representative set of valid configs? Working around this by using the full hints set instead.\n",
      "2025-10-30 20:03:23.205176: I external/local_xla/xla/service/gpu/autotuning/dot_search_space.cc:208] All configs were filtered out because none of them sufficiently match the hints. Maybe the hints set does not contain a good representative set of valid configs? Working around this by using the full hints set instead.\n",
      "2025-10-30 20:03:23.942183: I external/local_xla/xla/stream_executor/cuda/subprocess_compilation.cc:346] ptxas warning : Registers are spilled to local memory in function 'gemm_fusion_dot_1090', 116 bytes spill stores, 116 bytes spill loads\n",
      "\n",
      "2025-10-30 20:03:24.119624: I external/local_xla/xla/stream_executor/cuda/subprocess_compilation.cc:346] ptxas warning : Registers are spilled to local memory in function 'gemm_fusion_dot_1304', 64 bytes spill stores, 64 bytes spill loads\n",
      "\n",
      "2025-10-30 20:03:24.285695: I external/local_xla/xla/stream_executor/cuda/subprocess_compilation.cc:346] ptxas warning : Registers are spilled to local memory in function 'gemm_fusion_dot_1304', 8 bytes spill stores, 8 bytes spill loads\n",
      "\n"
     ]
    },
    {
     "name": "stdout",
     "output_type": "stream",
     "text": [
      "\u001B[1m262/262\u001B[0m \u001B[32m━━━━━━━━━━━━━━━━━━━━\u001B[0m\u001B[37m\u001B[0m \u001B[1m0s\u001B[0m 24ms/step - loss: 0.5986 - m: 0.6020 - m_1: 0.3369 - m_2: 0.2264"
     ]
    },
    {
     "name": "stderr",
     "output_type": "stream",
     "text": [
      "2025-10-30 20:03:27.562552: I external/local_xla/xla/service/gpu/autotuning/dot_search_space.cc:208] All configs were filtered out because none of them sufficiently match the hints. Maybe the hints set does not contain a good representative set of valid configs? Working around this by using the full hints set instead.\n"
     ]
    },
    {
     "name": "stdout",
     "output_type": "stream",
     "text": [
      "\n",
      "Epoch 1: val_loss improved from None to 0.72205, saving model to best_spec_cnn.keras\n",
      "\u001B[1m262/262\u001B[0m \u001B[32m━━━━━━━━━━━━━━━━━━━━\u001B[0m\u001B[37m\u001B[0m \u001B[1m17s\u001B[0m 33ms/step - loss: 0.5806 - m: 0.5837 - m_1: 0.3691 - m_2: 0.2962 - val_loss: 0.7220 - val_m: 0.7380 - val_m_1: 0.3396 - val_m_2: 0.1666\n",
      "Epoch 2/25\n",
      "\u001B[1m262/262\u001B[0m \u001B[32m━━━━━━━━━━━━━━━━━━━━\u001B[0m\u001B[37m\u001B[0m \u001B[1m0s\u001B[0m 10ms/step - loss: 0.5313 - m: 0.5339 - m_1: 0.2739 - m_2: 0.2290\n",
      "Epoch 2: val_loss improved from 0.72205 to 0.62967, saving model to best_spec_cnn.keras\n",
      "\u001B[1m262/262\u001B[0m \u001B[32m━━━━━━━━━━━━━━━━━━━━\u001B[0m\u001B[37m\u001B[0m \u001B[1m3s\u001B[0m 12ms/step - loss: 0.5304 - m: 0.5331 - m_1: 0.3226 - m_2: 0.2670 - val_loss: 0.6297 - val_m: 0.6567 - val_m_1: 0.1145 - val_m_2: 0.1742\n",
      "Epoch 3/25\n",
      "\u001B[1m257/262\u001B[0m \u001B[32m━━━━━━━━━━━━━━━━━━━\u001B[0m\u001B[37m━\u001B[0m \u001B[1m0s\u001B[0m 11ms/step - loss: 0.4987 - m: 0.5010 - m_1: 0.2465 - m_2: 0.3089\n",
      "Epoch 3: val_loss did not improve from 0.62967\n",
      "\u001B[1m262/262\u001B[0m \u001B[32m━━━━━━━━━━━━━━━━━━━━\u001B[0m\u001B[37m\u001B[0m \u001B[1m3s\u001B[0m 12ms/step - loss: 0.5069 - m: 0.5094 - m_1: 0.3133 - m_2: 0.3150 - val_loss: 0.6592 - val_m: 0.6956 - val_m_1: 0.1181 - val_m_2: 0.1756\n",
      "Epoch 4/25\n",
      "\u001B[1m262/262\u001B[0m \u001B[32m━━━━━━━━━━━━━━━━━━━━\u001B[0m\u001B[37m\u001B[0m \u001B[1m0s\u001B[0m 10ms/step - loss: 0.4809 - m: 0.4833 - m_1: 0.2465 - m_2: 0.2455\n",
      "Epoch 4: val_loss improved from 0.62967 to 0.54225, saving model to best_spec_cnn.keras\n",
      "\u001B[1m262/262\u001B[0m \u001B[32m━━━━━━━━━━━━━━━━━━━━\u001B[0m\u001B[37m\u001B[0m \u001B[1m3s\u001B[0m 12ms/step - loss: 0.4907 - m: 0.4929 - m_1: 0.3020 - m_2: 0.2804 - val_loss: 0.5422 - val_m: 0.5709 - val_m_1: 0.1151 - val_m_2: 0.1879\n",
      "Epoch 5/25\n",
      "\u001B[1m259/262\u001B[0m \u001B[32m━━━━━━━━━━━━━━━━━━━\u001B[0m\u001B[37m━\u001B[0m \u001B[1m0s\u001B[0m 12ms/step - loss: 0.4601 - m: 0.4620 - m_1: 0.1954 - m_2: 0.2763\n",
      "Epoch 5: val_loss improved from 0.54225 to 0.49462, saving model to best_spec_cnn.keras\n",
      "\u001B[1m262/262\u001B[0m \u001B[32m━━━━━━━━━━━━━━━━━━━━\u001B[0m\u001B[37m\u001B[0m \u001B[1m3s\u001B[0m 13ms/step - loss: 0.4764 - m: 0.4786 - m_1: 0.2697 - m_2: 0.2820 - val_loss: 0.4946 - val_m: 0.5258 - val_m_1: 0.1231 - val_m_2: 0.1694\n",
      "Epoch 6/25\n",
      "\u001B[1m261/262\u001B[0m \u001B[32m━━━━━━━━━━━━━━━━━━━\u001B[0m\u001B[37m━\u001B[0m \u001B[1m0s\u001B[0m 11ms/step - loss: 0.4558 - m: 0.4580 - m_1: 0.2290 - m_2: 0.2569\n",
      "Epoch 6: val_loss did not improve from 0.49462\n",
      "\u001B[1m262/262\u001B[0m \u001B[32m━━━━━━━━━━━━━━━━━━━━\u001B[0m\u001B[37m\u001B[0m \u001B[1m3s\u001B[0m 12ms/step - loss: 0.4687 - m: 0.4706 - m_1: 0.3086 - m_2: 0.3258 - val_loss: 0.5102 - val_m: 0.5369 - val_m_1: 0.1394 - val_m_2: 0.1756\n",
      "Epoch 7/25\n",
      "\u001B[1m258/262\u001B[0m \u001B[32m━━━━━━━━━━━━━━━━━━━\u001B[0m\u001B[37m━\u001B[0m \u001B[1m0s\u001B[0m 11ms/step - loss: 0.4406 - m: 0.4420 - m_1: 0.2601 - m_2: 0.2432\n",
      "Epoch 7: val_loss did not improve from 0.49462\n",
      "\u001B[1m262/262\u001B[0m \u001B[32m━━━━━━━━━━━━━━━━━━━━\u001B[0m\u001B[37m\u001B[0m \u001B[1m3s\u001B[0m 12ms/step - loss: 0.4567 - m: 0.4587 - m_1: 0.3137 - m_2: 0.2819 - val_loss: 0.6119 - val_m: 0.6514 - val_m_1: 0.1221 - val_m_2: 0.1749\n",
      "Epoch 8/25\n",
      "\u001B[1m258/262\u001B[0m \u001B[32m━━━━━━━━━━━━━━━━━━━\u001B[0m\u001B[37m━\u001B[0m \u001B[1m0s\u001B[0m 11ms/step - loss: 0.4426 - m: 0.4442 - m_1: 0.2277 - m_2: 0.2654\n",
      "Epoch 8: val_loss did not improve from 0.49462\n",
      "\u001B[1m262/262\u001B[0m \u001B[32m━━━━━━━━━━━━━━━━━━━━\u001B[0m\u001B[37m\u001B[0m \u001B[1m3s\u001B[0m 12ms/step - loss: 0.4514 - m: 0.4532 - m_1: 0.2819 - m_2: 0.3022 - val_loss: 0.5476 - val_m: 0.5800 - val_m_1: 0.1232 - val_m_2: 0.1699\n",
      "Epoch 9/25\n",
      "\u001B[1m262/262\u001B[0m \u001B[32m━━━━━━━━━━━━━━━━━━━━\u001B[0m\u001B[37m\u001B[0m \u001B[1m0s\u001B[0m 13ms/step - loss: 0.4227 - m: 0.4244 - m_1: 0.2321 - m_2: 0.2754\n",
      "Epoch 9: val_loss did not improve from 0.49462\n",
      "\u001B[1m262/262\u001B[0m \u001B[32m━━━━━━━━━━━━━━━━━━━━\u001B[0m\u001B[37m\u001B[0m \u001B[1m4s\u001B[0m 14ms/step - loss: 0.4431 - m: 0.4446 - m_1: 0.2951 - m_2: 0.2983 - val_loss: 0.5238 - val_m: 0.5548 - val_m_1: 0.1159 - val_m_2: 0.1697\n",
      "Epoch 10/25\n",
      "\u001B[1m260/262\u001B[0m \u001B[32m━━━━━━━━━━━━━━━━━━━\u001B[0m\u001B[37m━\u001B[0m \u001B[1m0s\u001B[0m 12ms/step - loss: 0.4162 - m: 0.4180 - m_1: 0.2122 - m_2: 0.1912\n",
      "Epoch 10: val_loss did not improve from 0.49462\n",
      "\u001B[1m262/262\u001B[0m \u001B[32m━━━━━━━━━━━━━━━━━━━━\u001B[0m\u001B[37m\u001B[0m \u001B[1m3s\u001B[0m 13ms/step - loss: 0.4388 - m: 0.4405 - m_1: 0.2927 - m_2: 0.2703 - val_loss: 0.5004 - val_m: 0.5338 - val_m_1: 0.1215 - val_m_2: 0.1696\n"
     ]
    }
   ],
   "execution_count": 11
  },
  {
   "metadata": {
    "ExecuteTime": {
     "end_time": "2025-10-30T12:03:58.005029Z",
     "start_time": "2025-10-30T12:03:57.988525Z"
    }
   },
   "cell_type": "code",
   "source": [
    "def compute_per_target_orig(eval_dict, y_std, metric_base='m'):\n",
    "    \"\"\"\n",
    "    Extract per-target z-mae metrics from eval_dict and return denormalized MAE array.\n",
    "    eval_dict: dict returned by model.evaluate(..., return_dict=True)\n",
    "    y_std: 1D array-like of per-target std used for normalization\n",
    "    \"\"\"\n",
    "    items = []\n",
    "    for k, v in eval_dict.items():\n",
    "        if k == metric_base:\n",
    "            items.append((0, float(v)))\n",
    "        elif k.startswith(metric_base + '_'):\n",
    "            try:\n",
    "                idx = int(k.split('_', 1)[1])\n",
    "                items.append((idx, float(v)))\n",
    "            except Exception:\n",
    "                continue\n",
    "    if not items:\n",
    "        raise ValueError(r\"No per-target metrics found in eval_dict (expected keys like `m`, `m_1`, ...).\")\n",
    "    items.sort(key=lambda x: x[0])\n",
    "    per_target_z = np.array([val for _, val in items], dtype=float)\n",
    "    y_std = np.asarray(y_std, dtype=float)\n",
    "    if per_target_z.shape[0] != y_std.shape[0]:\n",
    "        raise ValueError(\"Number of per-target metrics does not match length of y_std.\")\n",
    "    return per_target_z * y_std\n",
    "\n",
    "def append_record_with_orig(csv_path, rec, eval_dict, y_std, metric_prefix='eval_mae_'):\n",
    "    \"\"\"\n",
    "    Add per-target original-unit MAEs to rec and append to csv_path.\n",
    "    rec: dict of existing record fields (will be mutated/extended)\n",
    "    eval_dict: returned by model.evaluate(..., return_dict=True)\n",
    "    y_std: per-target stds\n",
    "    \"\"\"\n",
    "    per_orig = compute_per_target_orig(eval_dict, y_std)\n",
    "    for i, v in enumerate(per_orig):\n",
    "        rec[f\"{metric_prefix}{i}_orig\"] = float(v)\n",
    "\n",
    "    for k, v in eval_dict.items():\n",
    "        rec[k] = float(v)\n",
    "\n",
    "    y_std = np.asarray(y_std, dtype=float)\n",
    "    for i, y in enumerate(y_std):\n",
    "        rec[f'y_std_{i}'] = float(y)\n",
    "\n",
    "    df_new = pd.DataFrame([rec])\n",
    "    if not pd.io.common.file_exists(csv_path):\n",
    "        df_new.to_csv(csv_path, index=False)\n",
    "    else:\n",
    "        df_new.to_csv(csv_path, mode=\"a\", header=False, index=False)\n"
   ],
   "id": "f89fd3cc60c820d7",
   "outputs": [],
   "execution_count": 12
  },
  {
   "metadata": {
    "ExecuteTime": {
     "end_time": "2025-10-30T12:10:42.816042Z",
     "start_time": "2025-10-30T12:03:58.055310Z"
    }
   },
   "cell_type": "code",
   "source": [
    "import os\n",
    "import pandas as pd\n",
    "import tensorflow as tf\n",
    "from tensorflow.keras import layers, models, optimizers, callbacks\n",
    "\n",
    "input_shape = X_tr.shape[1:]  # (F, T, 1)\n",
    "num_targets = Y.shape[1]\n",
    "\n",
    "# --- model factories ---\n",
    "def model2(input_shape=input_shape, num_targets=num_targets):\n",
    "    inp = layers.Input(shape=input_shape)\n",
    "    x = layers.Conv2D(16, (3,3), padding=\"same\", activation=\"relu\")(inp)\n",
    "    x = layers.MaxPool2D((2,2))(x)\n",
    "    x = layers.GlobalAveragePooling2D()(x)\n",
    "    x = layers.Dense(32, activation=\"relu\")(x)\n",
    "    out = layers.Dense(num_targets)(x)\n",
    "    m = models.Model(inp, out)\n",
    "    return m\n",
    "\n",
    "def model3(input_shape=input_shape, num_targets=num_targets):\n",
    "    inp = layers.Input(shape=input_shape)\n",
    "    x = layers.Conv2D(16, (3,3), padding=\"same\", activation=\"relu\")(inp)\n",
    "    x = layers.BatchNormalization()(x)\n",
    "    x = layers.Conv2D(32, (3,3), padding=\"same\", activation=\"relu\")(x)\n",
    "    x = layers.MaxPool2D((2,2))(x)\n",
    "    x = layers.Conv2D(64, (3,3), padding=\"same\", activation=\"relu\")(x)\n",
    "    x = layers.GlobalAveragePooling2D()(x)\n",
    "    x = layers.Dense(64, activation=\"relu\")(x)\n",
    "    out = layers.Dense(num_targets)(x)\n",
    "    m = models.Model(inp, out)\n",
    "    return m\n",
    "\n",
    "def model4(input_shape=input_shape, num_targets=num_targets):\n",
    "    inp = layers.Input(shape=input_shape)\n",
    "    x = layers.Flatten()(inp)\n",
    "    x = layers.Dense(128, activation=\"relu\")(x)\n",
    "    x = layers.Dense(64, activation=\"relu\")(x)\n",
    "    out = layers.Dense(num_targets)(x)\n",
    "    m = models.Model(inp, out)\n",
    "    return m\n",
    "\n",
    "def model5(input_shape=input_shape, num_targets=num_targets):\n",
    "    inp = layers.Input(shape=input_shape)\n",
    "    x = layers.Conv2D(16, (3,3), padding=\"same\", activation=\"relu\")(inp)\n",
    "    x1 = layers.Conv2D(16, (3,3), padding=\"same\", activation=\"relu\")(x)\n",
    "    x1 = layers.Conv2D(16, (3,3), padding=\"same\")(x1)\n",
    "    x = layers.Add()([x, x1])\n",
    "    x = layers.Activation(\"relu\")(x)\n",
    "    x1 = layers.Conv2D(32, (3,3), padding=\"same\", activation=\"relu\")(x)\n",
    "    x1 = layers.Conv2D(32, (3,3), padding=\"same\")(x1)\n",
    "    x = layers.Add()([layers.Conv2D(32, (1,1), padding=\"same\")(x), x1])\n",
    "    x = layers.Activation(\"relu\")(x)\n",
    "    x = layers.GlobalAveragePooling2D()(x)\n",
    "    x = layers.Dense(64, activation=\"relu\")(x)\n",
    "    out = layers.Dense(num_targets)(x)\n",
    "    return models.Model(inp, out)\n",
    "\n",
    "def model6(input_shape=input_shape, num_targets=num_targets):\n",
    "    inp = layers.Input(shape=input_shape)\n",
    "    x = layers.Conv2D(32, (3,3), padding=\"same\", activation=\"relu\")(inp)\n",
    "    x = layers.BatchNormalization()(x)\n",
    "    x = layers.Conv2D(32, (3,3), padding=\"same\", activation=\"relu\")(x)\n",
    "    x = layers.MaxPool2D((2,2))(x)\n",
    "    x = layers.Conv2D(64, (3,3), padding=\"same\", activation=\"relu\")(x)\n",
    "    x = layers.BatchNormalization()(x)\n",
    "    x = layers.Conv2D(64, (3,3), padding=\"same\", activation=\"relu\")(x)\n",
    "    x = layers.MaxPool2D((2,2))(x)\n",
    "    x = layers.Conv2D(128, (3,3), padding=\"same\", activation=\"relu\")(x)\n",
    "    x = layers.GlobalAveragePooling2D()(x)\n",
    "    x = layers.Dense(128, activation=\"relu\")(x)\n",
    "    out = layers.Dense(num_targets)(x)\n",
    "    return models.Model(inp, out)\n",
    "\n",
    "\n",
    "# list of (name, factory)\n",
    "model_factories = [\n",
    "    (\"model1\", model1),\n",
    "    (\"model2\", model2),\n",
    "    (\"model3\", model3),\n",
    "    (\"model4\", model4),\n",
    "    (\"model5\", model5),\n",
    "    (\"model6\", model6)\n",
    "]\n",
    "\n",
    "# --- training loop and CSV logging ---\n",
    "csv_path = \"model_comparison.csv\"\n",
    "if os.path.exists(csv_path):\n",
    "    os.remove(csv_path)\n",
    "    print(\"Removed existing\", csv_path)\n",
    "records = []\n",
    "\n",
    "for name, factory in model_factories:\n",
    "    ckpt_path = f\"best_{name}.keras\"\n",
    "    print(f\"Training {name} ...\")\n",
    "    model = factory()\n",
    "\n",
    "    model.compile(\n",
    "        optimizer=tf.keras.optimizers.AdamW(1e-3, weight_decay=1e-4),\n",
    "        loss=masked_mae,\n",
    "        metrics=[make_masked_mae_k(0), make_masked_mae_k(1), make_masked_mae_k(2)]\n",
    "    )\n",
    "\n",
    "    ckpt = tf.keras.callbacks.ModelCheckpoint(ckpt_path, monitor=\"val_loss\", save_best_only=True, mode=\"min\", verbose=1)\n",
    "    es = tf.keras.callbacks.EarlyStopping(monitor=\"val_loss\", patience=5, restore_best_weights=True)\n",
    "\n",
    "    history = model.fit(ds_tr, validation_data=ds_va, epochs=25, callbacks=[ckpt, es])\n",
    "\n",
    "    val_losses = history.history.get(\"val_loss\", [])\n",
    "    if val_losses:\n",
    "        best_epoch = int(np.argmin(val_losses))\n",
    "        best_val_loss = float(np.min(val_losses))\n",
    "    else:\n",
    "        best_epoch = None\n",
    "        best_val_loss = None\n",
    "\n",
    "    best_model = tf.keras.models.load_model(ckpt_path, compile=False)\n",
    "    best_model.compile(\n",
    "        optimizer=tf.keras.optimizers.AdamW(1e-3, weight_decay=1e-4),\n",
    "        loss=masked_mae,\n",
    "        metrics=[make_masked_mae_k(0), make_masked_mae_k(1), make_masked_mae_k(2)]\n",
    "    )\n",
    "\n",
    "    rec = {\n",
    "        \"model\": name,\n",
    "        \"best_epoch\": best_epoch,\n",
    "        \"checkpoint\": ckpt_path,\n",
    "        \"best_val_loss\": best_val_loss,\n",
    "    }\n",
    "\n",
    "    print(\"/\"*20)\n",
    "    eval_results = best_model.evaluate(ds_te, return_dict=True)\n",
    "    append_record_with_orig(csv_path, rec, eval_results, y_std)\n",
    "    print(\"/\"*20)\n",
    "\n",
    "print(\"Done. Results saved to\", csv_path)"
   ],
   "id": "3d711e7e5367d12d",
   "outputs": [
    {
     "name": "stdout",
     "output_type": "stream",
     "text": [
      "Removed existing model_comparison.csv\n",
      "Training model1 ...\n"
     ]
    },
    {
     "data": {
      "text/plain": [
       "\u001B[1mModel: \"functional_1\"\u001B[0m\n"
      ],
      "text/html": [
       "<pre style=\"white-space:pre;overflow-x:auto;line-height:normal;font-family:Menlo,'DejaVu Sans Mono',consolas,'Courier New',monospace\"><span style=\"font-weight: bold\">Model: \"functional_1\"</span>\n",
       "</pre>\n"
      ]
     },
     "metadata": {},
     "output_type": "display_data"
    },
    {
     "data": {
      "text/plain": [
       "┏━━━━━━━━━━━━━━━━━━━━━━━━━━━━━━━━━┳━━━━━━━━━━━━━━━━━━━━━━━━┳━━━━━━━━━━━━━━━┓\n",
       "┃\u001B[1m \u001B[0m\u001B[1mLayer (type)                   \u001B[0m\u001B[1m \u001B[0m┃\u001B[1m \u001B[0m\u001B[1mOutput Shape          \u001B[0m\u001B[1m \u001B[0m┃\u001B[1m \u001B[0m\u001B[1m      Param #\u001B[0m\u001B[1m \u001B[0m┃\n",
       "┡━━━━━━━━━━━━━━━━━━━━━━━━━━━━━━━━━╇━━━━━━━━━━━━━━━━━━━━━━━━╇━━━━━━━━━━━━━━━┩\n",
       "│ input_layer_1 (\u001B[38;5;33mInputLayer\u001B[0m)      │ (\u001B[38;5;45mNone\u001B[0m, \u001B[38;5;34m58\u001B[0m, \u001B[38;5;34m17\u001B[0m, \u001B[38;5;34m1\u001B[0m)      │             \u001B[38;5;34m0\u001B[0m │\n",
       "├─────────────────────────────────┼────────────────────────┼───────────────┤\n",
       "│ conv2d_4 (\u001B[38;5;33mConv2D\u001B[0m)               │ (\u001B[38;5;45mNone\u001B[0m, \u001B[38;5;34m58\u001B[0m, \u001B[38;5;34m17\u001B[0m, \u001B[38;5;34m16\u001B[0m)     │           \u001B[38;5;34m160\u001B[0m │\n",
       "├─────────────────────────────────┼────────────────────────┼───────────────┤\n",
       "│ batch_normalization_2           │ (\u001B[38;5;45mNone\u001B[0m, \u001B[38;5;34m58\u001B[0m, \u001B[38;5;34m17\u001B[0m, \u001B[38;5;34m16\u001B[0m)     │            \u001B[38;5;34m64\u001B[0m │\n",
       "│ (\u001B[38;5;33mBatchNormalization\u001B[0m)            │                        │               │\n",
       "├─────────────────────────────────┼────────────────────────┼───────────────┤\n",
       "│ conv2d_5 (\u001B[38;5;33mConv2D\u001B[0m)               │ (\u001B[38;5;45mNone\u001B[0m, \u001B[38;5;34m58\u001B[0m, \u001B[38;5;34m17\u001B[0m, \u001B[38;5;34m32\u001B[0m)     │         \u001B[38;5;34m4,640\u001B[0m │\n",
       "├─────────────────────────────────┼────────────────────────┼───────────────┤\n",
       "│ max_pooling2d_1 (\u001B[38;5;33mMaxPooling2D\u001B[0m)  │ (\u001B[38;5;45mNone\u001B[0m, \u001B[38;5;34m29\u001B[0m, \u001B[38;5;34m8\u001B[0m, \u001B[38;5;34m32\u001B[0m)      │             \u001B[38;5;34m0\u001B[0m │\n",
       "├─────────────────────────────────┼────────────────────────┼───────────────┤\n",
       "│ conv2d_6 (\u001B[38;5;33mConv2D\u001B[0m)               │ (\u001B[38;5;45mNone\u001B[0m, \u001B[38;5;34m29\u001B[0m, \u001B[38;5;34m8\u001B[0m, \u001B[38;5;34m64\u001B[0m)      │        \u001B[38;5;34m18,496\u001B[0m │\n",
       "├─────────────────────────────────┼────────────────────────┼───────────────┤\n",
       "│ batch_normalization_3           │ (\u001B[38;5;45mNone\u001B[0m, \u001B[38;5;34m29\u001B[0m, \u001B[38;5;34m8\u001B[0m, \u001B[38;5;34m64\u001B[0m)      │           \u001B[38;5;34m256\u001B[0m │\n",
       "│ (\u001B[38;5;33mBatchNormalization\u001B[0m)            │                        │               │\n",
       "├─────────────────────────────────┼────────────────────────┼───────────────┤\n",
       "│ conv2d_7 (\u001B[38;5;33mConv2D\u001B[0m)               │ (\u001B[38;5;45mNone\u001B[0m, \u001B[38;5;34m29\u001B[0m, \u001B[38;5;34m8\u001B[0m, \u001B[38;5;34m96\u001B[0m)      │        \u001B[38;5;34m55,392\u001B[0m │\n",
       "├─────────────────────────────────┼────────────────────────┼───────────────┤\n",
       "│ global_average_pooling2d_1      │ (\u001B[38;5;45mNone\u001B[0m, \u001B[38;5;34m96\u001B[0m)             │             \u001B[38;5;34m0\u001B[0m │\n",
       "│ (\u001B[38;5;33mGlobalAveragePooling2D\u001B[0m)        │                        │               │\n",
       "├─────────────────────────────────┼────────────────────────┼───────────────┤\n",
       "│ dense_2 (\u001B[38;5;33mDense\u001B[0m)                 │ (\u001B[38;5;45mNone\u001B[0m, \u001B[38;5;34m64\u001B[0m)             │         \u001B[38;5;34m6,208\u001B[0m │\n",
       "├─────────────────────────────────┼────────────────────────┼───────────────┤\n",
       "│ dense_3 (\u001B[38;5;33mDense\u001B[0m)                 │ (\u001B[38;5;45mNone\u001B[0m, \u001B[38;5;34m3\u001B[0m)              │           \u001B[38;5;34m195\u001B[0m │\n",
       "└─────────────────────────────────┴────────────────────────┴───────────────┘\n"
      ],
      "text/html": [
       "<pre style=\"white-space:pre;overflow-x:auto;line-height:normal;font-family:Menlo,'DejaVu Sans Mono',consolas,'Courier New',monospace\">┏━━━━━━━━━━━━━━━━━━━━━━━━━━━━━━━━━┳━━━━━━━━━━━━━━━━━━━━━━━━┳━━━━━━━━━━━━━━━┓\n",
       "┃<span style=\"font-weight: bold\"> Layer (type)                    </span>┃<span style=\"font-weight: bold\"> Output Shape           </span>┃<span style=\"font-weight: bold\">       Param # </span>┃\n",
       "┡━━━━━━━━━━━━━━━━━━━━━━━━━━━━━━━━━╇━━━━━━━━━━━━━━━━━━━━━━━━╇━━━━━━━━━━━━━━━┩\n",
       "│ input_layer_1 (<span style=\"color: #0087ff; text-decoration-color: #0087ff\">InputLayer</span>)      │ (<span style=\"color: #00d7ff; text-decoration-color: #00d7ff\">None</span>, <span style=\"color: #00af00; text-decoration-color: #00af00\">58</span>, <span style=\"color: #00af00; text-decoration-color: #00af00\">17</span>, <span style=\"color: #00af00; text-decoration-color: #00af00\">1</span>)      │             <span style=\"color: #00af00; text-decoration-color: #00af00\">0</span> │\n",
       "├─────────────────────────────────┼────────────────────────┼───────────────┤\n",
       "│ conv2d_4 (<span style=\"color: #0087ff; text-decoration-color: #0087ff\">Conv2D</span>)               │ (<span style=\"color: #00d7ff; text-decoration-color: #00d7ff\">None</span>, <span style=\"color: #00af00; text-decoration-color: #00af00\">58</span>, <span style=\"color: #00af00; text-decoration-color: #00af00\">17</span>, <span style=\"color: #00af00; text-decoration-color: #00af00\">16</span>)     │           <span style=\"color: #00af00; text-decoration-color: #00af00\">160</span> │\n",
       "├─────────────────────────────────┼────────────────────────┼───────────────┤\n",
       "│ batch_normalization_2           │ (<span style=\"color: #00d7ff; text-decoration-color: #00d7ff\">None</span>, <span style=\"color: #00af00; text-decoration-color: #00af00\">58</span>, <span style=\"color: #00af00; text-decoration-color: #00af00\">17</span>, <span style=\"color: #00af00; text-decoration-color: #00af00\">16</span>)     │            <span style=\"color: #00af00; text-decoration-color: #00af00\">64</span> │\n",
       "│ (<span style=\"color: #0087ff; text-decoration-color: #0087ff\">BatchNormalization</span>)            │                        │               │\n",
       "├─────────────────────────────────┼────────────────────────┼───────────────┤\n",
       "│ conv2d_5 (<span style=\"color: #0087ff; text-decoration-color: #0087ff\">Conv2D</span>)               │ (<span style=\"color: #00d7ff; text-decoration-color: #00d7ff\">None</span>, <span style=\"color: #00af00; text-decoration-color: #00af00\">58</span>, <span style=\"color: #00af00; text-decoration-color: #00af00\">17</span>, <span style=\"color: #00af00; text-decoration-color: #00af00\">32</span>)     │         <span style=\"color: #00af00; text-decoration-color: #00af00\">4,640</span> │\n",
       "├─────────────────────────────────┼────────────────────────┼───────────────┤\n",
       "│ max_pooling2d_1 (<span style=\"color: #0087ff; text-decoration-color: #0087ff\">MaxPooling2D</span>)  │ (<span style=\"color: #00d7ff; text-decoration-color: #00d7ff\">None</span>, <span style=\"color: #00af00; text-decoration-color: #00af00\">29</span>, <span style=\"color: #00af00; text-decoration-color: #00af00\">8</span>, <span style=\"color: #00af00; text-decoration-color: #00af00\">32</span>)      │             <span style=\"color: #00af00; text-decoration-color: #00af00\">0</span> │\n",
       "├─────────────────────────────────┼────────────────────────┼───────────────┤\n",
       "│ conv2d_6 (<span style=\"color: #0087ff; text-decoration-color: #0087ff\">Conv2D</span>)               │ (<span style=\"color: #00d7ff; text-decoration-color: #00d7ff\">None</span>, <span style=\"color: #00af00; text-decoration-color: #00af00\">29</span>, <span style=\"color: #00af00; text-decoration-color: #00af00\">8</span>, <span style=\"color: #00af00; text-decoration-color: #00af00\">64</span>)      │        <span style=\"color: #00af00; text-decoration-color: #00af00\">18,496</span> │\n",
       "├─────────────────────────────────┼────────────────────────┼───────────────┤\n",
       "│ batch_normalization_3           │ (<span style=\"color: #00d7ff; text-decoration-color: #00d7ff\">None</span>, <span style=\"color: #00af00; text-decoration-color: #00af00\">29</span>, <span style=\"color: #00af00; text-decoration-color: #00af00\">8</span>, <span style=\"color: #00af00; text-decoration-color: #00af00\">64</span>)      │           <span style=\"color: #00af00; text-decoration-color: #00af00\">256</span> │\n",
       "│ (<span style=\"color: #0087ff; text-decoration-color: #0087ff\">BatchNormalization</span>)            │                        │               │\n",
       "├─────────────────────────────────┼────────────────────────┼───────────────┤\n",
       "│ conv2d_7 (<span style=\"color: #0087ff; text-decoration-color: #0087ff\">Conv2D</span>)               │ (<span style=\"color: #00d7ff; text-decoration-color: #00d7ff\">None</span>, <span style=\"color: #00af00; text-decoration-color: #00af00\">29</span>, <span style=\"color: #00af00; text-decoration-color: #00af00\">8</span>, <span style=\"color: #00af00; text-decoration-color: #00af00\">96</span>)      │        <span style=\"color: #00af00; text-decoration-color: #00af00\">55,392</span> │\n",
       "├─────────────────────────────────┼────────────────────────┼───────────────┤\n",
       "│ global_average_pooling2d_1      │ (<span style=\"color: #00d7ff; text-decoration-color: #00d7ff\">None</span>, <span style=\"color: #00af00; text-decoration-color: #00af00\">96</span>)             │             <span style=\"color: #00af00; text-decoration-color: #00af00\">0</span> │\n",
       "│ (<span style=\"color: #0087ff; text-decoration-color: #0087ff\">GlobalAveragePooling2D</span>)        │                        │               │\n",
       "├─────────────────────────────────┼────────────────────────┼───────────────┤\n",
       "│ dense_2 (<span style=\"color: #0087ff; text-decoration-color: #0087ff\">Dense</span>)                 │ (<span style=\"color: #00d7ff; text-decoration-color: #00d7ff\">None</span>, <span style=\"color: #00af00; text-decoration-color: #00af00\">64</span>)             │         <span style=\"color: #00af00; text-decoration-color: #00af00\">6,208</span> │\n",
       "├─────────────────────────────────┼────────────────────────┼───────────────┤\n",
       "│ dense_3 (<span style=\"color: #0087ff; text-decoration-color: #0087ff\">Dense</span>)                 │ (<span style=\"color: #00d7ff; text-decoration-color: #00d7ff\">None</span>, <span style=\"color: #00af00; text-decoration-color: #00af00\">3</span>)              │           <span style=\"color: #00af00; text-decoration-color: #00af00\">195</span> │\n",
       "└─────────────────────────────────┴────────────────────────┴───────────────┘\n",
       "</pre>\n"
      ]
     },
     "metadata": {},
     "output_type": "display_data"
    },
    {
     "data": {
      "text/plain": [
       "\u001B[1m Total params: \u001B[0m\u001B[38;5;34m85,411\u001B[0m (333.64 KB)\n"
      ],
      "text/html": [
       "<pre style=\"white-space:pre;overflow-x:auto;line-height:normal;font-family:Menlo,'DejaVu Sans Mono',consolas,'Courier New',monospace\"><span style=\"font-weight: bold\"> Total params: </span><span style=\"color: #00af00; text-decoration-color: #00af00\">85,411</span> (333.64 KB)\n",
       "</pre>\n"
      ]
     },
     "metadata": {},
     "output_type": "display_data"
    },
    {
     "data": {
      "text/plain": [
       "\u001B[1m Trainable params: \u001B[0m\u001B[38;5;34m85,251\u001B[0m (333.01 KB)\n"
      ],
      "text/html": [
       "<pre style=\"white-space:pre;overflow-x:auto;line-height:normal;font-family:Menlo,'DejaVu Sans Mono',consolas,'Courier New',monospace\"><span style=\"font-weight: bold\"> Trainable params: </span><span style=\"color: #00af00; text-decoration-color: #00af00\">85,251</span> (333.01 KB)\n",
       "</pre>\n"
      ]
     },
     "metadata": {},
     "output_type": "display_data"
    },
    {
     "data": {
      "text/plain": [
       "\u001B[1m Non-trainable params: \u001B[0m\u001B[38;5;34m160\u001B[0m (640.00 B)\n"
      ],
      "text/html": [
       "<pre style=\"white-space:pre;overflow-x:auto;line-height:normal;font-family:Menlo,'DejaVu Sans Mono',consolas,'Courier New',monospace\"><span style=\"font-weight: bold\"> Non-trainable params: </span><span style=\"color: #00af00; text-decoration-color: #00af00\">160</span> (640.00 B)\n",
       "</pre>\n"
      ]
     },
     "metadata": {},
     "output_type": "display_data"
    },
    {
     "name": "stdout",
     "output_type": "stream",
     "text": [
      "Epoch 1/25\n",
      "\u001B[1m262/262\u001B[0m \u001B[32m━━━━━━━━━━━━━━━━━━━━\u001B[0m\u001B[37m\u001B[0m \u001B[1m0s\u001B[0m 18ms/step - loss: 0.6238 - m: 0.6279 - m_1: 0.2921 - m_2: 0.1961\n",
      "Epoch 1: val_loss improved from None to 0.76571, saving model to best_model1.keras\n",
      "\u001B[1m262/262\u001B[0m \u001B[32m━━━━━━━━━━━━━━━━━━━━\u001B[0m\u001B[37m\u001B[0m \u001B[1m9s\u001B[0m 24ms/step - loss: 0.5913 - m: 0.5944 - m_1: 0.3233 - m_2: 0.2894 - val_loss: 0.7657 - val_m: 0.7880 - val_m_1: 0.4773 - val_m_2: 0.3036\n",
      "Epoch 2/25\n",
      "\u001B[1m260/262\u001B[0m \u001B[32m━━━━━━━━━━━━━━━━━━━\u001B[0m\u001B[37m━\u001B[0m \u001B[1m0s\u001B[0m 13ms/step - loss: 0.5353 - m: 0.5381 - m_1: 0.2412 - m_2: 0.1709\n",
      "Epoch 2: val_loss improved from 0.76571 to 0.59564, saving model to best_model1.keras\n",
      "\u001B[1m262/262\u001B[0m \u001B[32m━━━━━━━━━━━━━━━━━━━━\u001B[0m\u001B[37m\u001B[0m \u001B[1m4s\u001B[0m 14ms/step - loss: 0.5338 - m: 0.5366 - m_1: 0.3068 - m_2: 0.2609 - val_loss: 0.5956 - val_m: 0.6236 - val_m_1: 0.2319 - val_m_2: 0.1980\n",
      "Epoch 3/25\n",
      "\u001B[1m258/262\u001B[0m \u001B[32m━━━━━━━━━━━━━━━━━━━\u001B[0m\u001B[37m━\u001B[0m \u001B[1m0s\u001B[0m 12ms/step - loss: 0.5105 - m: 0.5130 - m_1: 0.2537 - m_2: 0.2203\n",
      "Epoch 3: val_loss did not improve from 0.59564\n",
      "\u001B[1m262/262\u001B[0m \u001B[32m━━━━━━━━━━━━━━━━━━━━\u001B[0m\u001B[37m\u001B[0m \u001B[1m3s\u001B[0m 13ms/step - loss: 0.5145 - m: 0.5170 - m_1: 0.3117 - m_2: 0.2763 - val_loss: 0.6877 - val_m: 0.7233 - val_m_1: 0.1403 - val_m_2: 0.1902\n",
      "Epoch 4/25\n",
      "\u001B[1m259/262\u001B[0m \u001B[32m━━━━━━━━━━━━━━━━━━━\u001B[0m\u001B[37m━\u001B[0m \u001B[1m0s\u001B[0m 12ms/step - loss: 0.4880 - m: 0.4904 - m_1: 0.2356 - m_2: 0.2696\n",
      "Epoch 4: val_loss did not improve from 0.59564\n",
      "\u001B[1m262/262\u001B[0m \u001B[32m━━━━━━━━━━━━━━━━━━━━\u001B[0m\u001B[37m\u001B[0m \u001B[1m3s\u001B[0m 13ms/step - loss: 0.4964 - m: 0.4988 - m_1: 0.3014 - m_2: 0.2838 - val_loss: 0.6573 - val_m: 0.6936 - val_m_1: 0.1307 - val_m_2: 0.1738\n",
      "Epoch 5/25\n",
      "\u001B[1m260/262\u001B[0m \u001B[32m━━━━━━━━━━━━━━━━━━━\u001B[0m\u001B[37m━\u001B[0m \u001B[1m0s\u001B[0m 12ms/step - loss: 0.4774 - m: 0.4796 - m_1: 0.2563 - m_2: 0.2535\n",
      "Epoch 5: val_loss did not improve from 0.59564\n",
      "\u001B[1m262/262\u001B[0m \u001B[32m━━━━━━━━━━━━━━━━━━━━\u001B[0m\u001B[37m\u001B[0m \u001B[1m3s\u001B[0m 13ms/step - loss: 0.4842 - m: 0.4864 - m_1: 0.3542 - m_2: 0.2915 - val_loss: 0.6322 - val_m: 0.6718 - val_m_1: 0.1292 - val_m_2: 0.1719\n",
      "Epoch 6/25\n",
      "\u001B[1m262/262\u001B[0m \u001B[32m━━━━━━━━━━━━━━━━━━━━\u001B[0m\u001B[37m\u001B[0m \u001B[1m0s\u001B[0m 12ms/step - loss: 0.4560 - m: 0.4580 - m_1: 0.2343 - m_2: 0.2762\n",
      "Epoch 6: val_loss improved from 0.59564 to 0.58777, saving model to best_model1.keras\n",
      "\u001B[1m262/262\u001B[0m \u001B[32m━━━━━━━━━━━━━━━━━━━━\u001B[0m\u001B[37m\u001B[0m \u001B[1m3s\u001B[0m 13ms/step - loss: 0.4716 - m: 0.4736 - m_1: 0.3187 - m_2: 0.2664 - val_loss: 0.5878 - val_m: 0.6283 - val_m_1: 0.1238 - val_m_2: 0.1627\n",
      "Epoch 7/25\n",
      "\u001B[1m262/262\u001B[0m \u001B[32m━━━━━━━━━━━━━━━━━━━━\u001B[0m\u001B[37m\u001B[0m \u001B[1m0s\u001B[0m 12ms/step - loss: 0.4455 - m: 0.4472 - m_1: 0.3086 - m_2: 0.2587\n",
      "Epoch 7: val_loss did not improve from 0.58777\n",
      "\u001B[1m262/262\u001B[0m \u001B[32m━━━━━━━━━━━━━━━━━━━━\u001B[0m\u001B[37m\u001B[0m \u001B[1m3s\u001B[0m 13ms/step - loss: 0.4611 - m: 0.4628 - m_1: 0.3600 - m_2: 0.2873 - val_loss: 0.6419 - val_m: 0.6807 - val_m_1: 0.1241 - val_m_2: 0.1669\n",
      "Epoch 8/25\n",
      "\u001B[1m261/262\u001B[0m \u001B[32m━━━━━━━━━━━━━━━━━━━\u001B[0m\u001B[37m━\u001B[0m \u001B[1m0s\u001B[0m 12ms/step - loss: 0.4356 - m: 0.4376 - m_1: 0.2243 - m_2: 0.2078\n",
      "Epoch 8: val_loss did not improve from 0.58777\n",
      "\u001B[1m262/262\u001B[0m \u001B[32m━━━━━━━━━━━━━━━━━━━━\u001B[0m\u001B[37m\u001B[0m \u001B[1m3s\u001B[0m 13ms/step - loss: 0.4532 - m: 0.4549 - m_1: 0.2890 - m_2: 0.2603 - val_loss: 0.7348 - val_m: 0.7717 - val_m_1: 0.1192 - val_m_2: 0.1683\n",
      "Epoch 9/25\n",
      "\u001B[1m259/262\u001B[0m \u001B[32m━━━━━━━━━━━━━━━━━━━\u001B[0m\u001B[37m━\u001B[0m \u001B[1m0s\u001B[0m 12ms/step - loss: 0.4228 - m: 0.4247 - m_1: 0.2091 - m_2: 0.2437\n",
      "Epoch 9: val_loss improved from 0.58777 to 0.52214, saving model to best_model1.keras\n",
      "\u001B[1m262/262\u001B[0m \u001B[32m━━━━━━━━━━━━━━━━━━━━\u001B[0m\u001B[37m\u001B[0m \u001B[1m3s\u001B[0m 13ms/step - loss: 0.4441 - m: 0.4460 - m_1: 0.3136 - m_2: 0.2804 - val_loss: 0.5221 - val_m: 0.5500 - val_m_1: 0.1122 - val_m_2: 0.1612\n",
      "Epoch 10/25\n",
      "\u001B[1m261/262\u001B[0m \u001B[32m━━━━━━━━━━━━━━━━━━━\u001B[0m\u001B[37m━\u001B[0m \u001B[1m0s\u001B[0m 13ms/step - loss: 0.4183 - m: 0.4200 - m_1: 0.2138 - m_2: 0.2689\n",
      "Epoch 10: val_loss improved from 0.52214 to 0.50142, saving model to best_model1.keras\n",
      "\u001B[1m262/262\u001B[0m \u001B[32m━━━━━━━━━━━━━━━━━━━━\u001B[0m\u001B[37m\u001B[0m \u001B[1m4s\u001B[0m 14ms/step - loss: 0.4378 - m: 0.4397 - m_1: 0.2801 - m_2: 0.2497 - val_loss: 0.5014 - val_m: 0.5305 - val_m_1: 0.1057 - val_m_2: 0.1709\n",
      "Epoch 11/25\n",
      "\u001B[1m259/262\u001B[0m \u001B[32m━━━━━━━━━━━━━━━━━━━\u001B[0m\u001B[37m━\u001B[0m \u001B[1m0s\u001B[0m 12ms/step - loss: 0.4089 - m: 0.4106 - m_1: 0.2216 - m_2: 0.2310\n",
      "Epoch 11: val_loss improved from 0.50142 to 0.45709, saving model to best_model1.keras\n",
      "\u001B[1m262/262\u001B[0m \u001B[32m━━━━━━━━━━━━━━━━━━━━\u001B[0m\u001B[37m\u001B[0m \u001B[1m3s\u001B[0m 13ms/step - loss: 0.4319 - m: 0.4337 - m_1: 0.2860 - m_2: 0.2637 - val_loss: 0.4571 - val_m: 0.4891 - val_m_1: 0.1041 - val_m_2: 0.1647\n",
      "Epoch 12/25\n",
      "\u001B[1m261/262\u001B[0m \u001B[32m━━━━━━━━━━━━━━━━━━━\u001B[0m\u001B[37m━\u001B[0m \u001B[1m0s\u001B[0m 12ms/step - loss: 0.4080 - m: 0.4097 - m_1: 0.2233 - m_2: 0.2651\n",
      "Epoch 12: val_loss did not improve from 0.45709\n",
      "\u001B[1m262/262\u001B[0m \u001B[32m━━━━━━━━━━━━━━━━━━━━\u001B[0m\u001B[37m\u001B[0m \u001B[1m5s\u001B[0m 13ms/step - loss: 0.4265 - m: 0.4283 - m_1: 0.2813 - m_2: 0.2715 - val_loss: 0.5366 - val_m: 0.5673 - val_m_1: 0.1376 - val_m_2: 0.1654\n",
      "Epoch 13/25\n",
      "\u001B[1m260/262\u001B[0m \u001B[32m━━━━━━━━━━━━━━━━━━━\u001B[0m\u001B[37m━\u001B[0m \u001B[1m0s\u001B[0m 12ms/step - loss: 0.3979 - m: 0.3995 - m_1: 0.2077 - m_2: 0.2055\n",
      "Epoch 13: val_loss did not improve from 0.45709\n",
      "\u001B[1m262/262\u001B[0m \u001B[32m━━━━━━━━━━━━━━━━━━━━\u001B[0m\u001B[37m\u001B[0m \u001B[1m3s\u001B[0m 13ms/step - loss: 0.4226 - m: 0.4243 - m_1: 0.2591 - m_2: 0.2238 - val_loss: 0.4750 - val_m: 0.5045 - val_m_1: 0.1332 - val_m_2: 0.1664\n",
      "Epoch 14/25\n",
      "\u001B[1m258/262\u001B[0m \u001B[32m━━━━━━━━━━━━━━━━━━━\u001B[0m\u001B[37m━\u001B[0m \u001B[1m0s\u001B[0m 12ms/step - loss: 0.3947 - m: 0.3963 - m_1: 0.1895 - m_2: 0.2643\n",
      "Epoch 14: val_loss did not improve from 0.45709\n",
      "\u001B[1m262/262\u001B[0m \u001B[32m━━━━━━━━━━━━━━━━━━━━\u001B[0m\u001B[37m\u001B[0m \u001B[1m3s\u001B[0m 13ms/step - loss: 0.4164 - m: 0.4181 - m_1: 0.2546 - m_2: 0.2640 - val_loss: 0.4699 - val_m: 0.4950 - val_m_1: 0.1411 - val_m_2: 0.1706\n",
      "Epoch 15/25\n",
      "\u001B[1m262/262\u001B[0m \u001B[32m━━━━━━━━━━━━━━━━━━━━\u001B[0m\u001B[37m\u001B[0m \u001B[1m0s\u001B[0m 13ms/step - loss: 0.3899 - m: 0.3913 - m_1: 0.1971 - m_2: 0.2204\n",
      "Epoch 15: val_loss improved from 0.45709 to 0.43694, saving model to best_model1.keras\n",
      "\u001B[1m262/262\u001B[0m \u001B[32m━━━━━━━━━━━━━━━━━━━━\u001B[0m\u001B[37m\u001B[0m \u001B[1m4s\u001B[0m 14ms/step - loss: 0.4117 - m: 0.4134 - m_1: 0.2594 - m_2: 0.2379 - val_loss: 0.4369 - val_m: 0.4643 - val_m_1: 0.1271 - val_m_2: 0.1676\n",
      "Epoch 16/25\n",
      "\u001B[1m262/262\u001B[0m \u001B[32m━━━━━━━━━━━━━━━━━━━━\u001B[0m\u001B[37m\u001B[0m \u001B[1m0s\u001B[0m 12ms/step - loss: 0.3858 - m: 0.3874 - m_1: 0.2116 - m_2: 0.1871\n",
      "Epoch 16: val_loss did not improve from 0.43694\n",
      "\u001B[1m262/262\u001B[0m \u001B[32m━━━━━━━━━━━━━━━━━━━━\u001B[0m\u001B[37m\u001B[0m \u001B[1m4s\u001B[0m 13ms/step - loss: 0.4075 - m: 0.4090 - m_1: 0.2721 - m_2: 0.2414 - val_loss: 0.4740 - val_m: 0.5041 - val_m_1: 0.1519 - val_m_2: 0.1651\n",
      "Epoch 17/25\n",
      "\u001B[1m259/262\u001B[0m \u001B[32m━━━━━━━━━━━━━━━━━━━\u001B[0m\u001B[37m━\u001B[0m \u001B[1m0s\u001B[0m 12ms/step - loss: 0.3836 - m: 0.3852 - m_1: 0.2012 - m_2: 0.2445\n",
      "Epoch 17: val_loss improved from 0.43694 to 0.42553, saving model to best_model1.keras\n",
      "\u001B[1m262/262\u001B[0m \u001B[32m━━━━━━━━━━━━━━━━━━━━\u001B[0m\u001B[37m\u001B[0m \u001B[1m4s\u001B[0m 14ms/step - loss: 0.4068 - m: 0.4085 - m_1: 0.2731 - m_2: 0.2604 - val_loss: 0.4255 - val_m: 0.4475 - val_m_1: 0.1334 - val_m_2: 0.1602\n",
      "Epoch 18/25\n",
      "\u001B[1m260/262\u001B[0m \u001B[32m━━━━━━━━━━━━━━━━━━━\u001B[0m\u001B[37m━\u001B[0m \u001B[1m0s\u001B[0m 13ms/step - loss: 0.3774 - m: 0.3788 - m_1: 0.2144 - m_2: 0.1964\n",
      "Epoch 18: val_loss did not improve from 0.42553\n",
      "\u001B[1m262/262\u001B[0m \u001B[32m━━━━━━━━━━━━━━━━━━━━\u001B[0m\u001B[37m\u001B[0m \u001B[1m4s\u001B[0m 14ms/step - loss: 0.4018 - m: 0.4035 - m_1: 0.2789 - m_2: 0.2362 - val_loss: 0.4480 - val_m: 0.4771 - val_m_1: 0.1264 - val_m_2: 0.1644\n",
      "Epoch 19/25\n",
      "\u001B[1m259/262\u001B[0m \u001B[32m━━━━━━━━━━━━━━━━━━━\u001B[0m\u001B[37m━\u001B[0m \u001B[1m0s\u001B[0m 13ms/step - loss: 0.3678 - m: 0.3692 - m_1: 0.2185 - m_2: 0.2221\n",
      "Epoch 19: val_loss did not improve from 0.42553\n",
      "\u001B[1m262/262\u001B[0m \u001B[32m━━━━━━━━━━━━━━━━━━━━\u001B[0m\u001B[37m\u001B[0m \u001B[1m4s\u001B[0m 14ms/step - loss: 0.3944 - m: 0.3959 - m_1: 0.2700 - m_2: 0.2434 - val_loss: 0.4501 - val_m: 0.4772 - val_m_1: 0.1321 - val_m_2: 0.1614\n",
      "Epoch 20/25\n",
      "\u001B[1m261/262\u001B[0m \u001B[32m━━━━━━━━━━━━━━━━━━━\u001B[0m\u001B[37m━\u001B[0m \u001B[1m0s\u001B[0m 12ms/step - loss: 0.3646 - m: 0.3660 - m_1: 0.1962 - m_2: 0.2018\n",
      "Epoch 20: val_loss did not improve from 0.42553\n",
      "\u001B[1m262/262\u001B[0m \u001B[32m━━━━━━━━━━━━━━━━━━━━\u001B[0m\u001B[37m\u001B[0m \u001B[1m4s\u001B[0m 14ms/step - loss: 0.3921 - m: 0.3936 - m_1: 0.2601 - m_2: 0.2323 - val_loss: 0.4302 - val_m: 0.4546 - val_m_1: 0.1559 - val_m_2: 0.1691\n",
      "Epoch 21/25\n",
      "\u001B[1m262/262\u001B[0m \u001B[32m━━━━━━━━━━━━━━━━━━━━\u001B[0m\u001B[37m\u001B[0m \u001B[1m0s\u001B[0m 13ms/step - loss: 0.3662 - m: 0.3675 - m_1: 0.2084 - m_2: 0.2343\n",
      "Epoch 21: val_loss improved from 0.42553 to 0.41936, saving model to best_model1.keras\n",
      "\u001B[1m262/262\u001B[0m \u001B[32m━━━━━━━━━━━━━━━━━━━━\u001B[0m\u001B[37m\u001B[0m \u001B[1m4s\u001B[0m 14ms/step - loss: 0.3912 - m: 0.3926 - m_1: 0.2612 - m_2: 0.2477 - val_loss: 0.4194 - val_m: 0.4452 - val_m_1: 0.1399 - val_m_2: 0.1649\n",
      "Epoch 22/25\n",
      "\u001B[1m259/262\u001B[0m \u001B[32m━━━━━━━━━━━━━━━━━━━\u001B[0m\u001B[37m━\u001B[0m \u001B[1m0s\u001B[0m 12ms/step - loss: 0.3630 - m: 0.3643 - m_1: 0.2351 - m_2: 0.1915\n",
      "Epoch 22: val_loss did not improve from 0.41936\n",
      "\u001B[1m262/262\u001B[0m \u001B[32m━━━━━━━━━━━━━━━━━━━━\u001B[0m\u001B[37m\u001B[0m \u001B[1m3s\u001B[0m 13ms/step - loss: 0.3897 - m: 0.3909 - m_1: 0.2783 - m_2: 0.2471 - val_loss: 0.4367 - val_m: 0.4608 - val_m_1: 0.1251 - val_m_2: 0.1686\n",
      "Epoch 23/25\n",
      "\u001B[1m260/262\u001B[0m \u001B[32m━━━━━━━━━━━━━━━━━━━\u001B[0m\u001B[37m━\u001B[0m \u001B[1m0s\u001B[0m 12ms/step - loss: 0.3538 - m: 0.3552 - m_1: 0.1728 - m_2: 0.1853\n",
      "Epoch 23: val_loss improved from 0.41936 to 0.41217, saving model to best_model1.keras\n",
      "\u001B[1m262/262\u001B[0m \u001B[32m━━━━━━━━━━━━━━━━━━━━\u001B[0m\u001B[37m\u001B[0m \u001B[1m4s\u001B[0m 14ms/step - loss: 0.3821 - m: 0.3833 - m_1: 0.2351 - m_2: 0.2268 - val_loss: 0.4122 - val_m: 0.4337 - val_m_1: 0.1577 - val_m_2: 0.1647\n",
      "Epoch 24/25\n",
      "\u001B[1m261/262\u001B[0m \u001B[32m━━━━━━━━━━━━━━━━━━━\u001B[0m\u001B[37m━\u001B[0m \u001B[1m0s\u001B[0m 13ms/step - loss: 0.3522 - m: 0.3531 - m_1: 0.1985 - m_2: 0.2573\n",
      "Epoch 24: val_loss did not improve from 0.41217\n",
      "\u001B[1m262/262\u001B[0m \u001B[32m━━━━━━━━━━━━━━━━━━━━\u001B[0m\u001B[37m\u001B[0m \u001B[1m4s\u001B[0m 14ms/step - loss: 0.3799 - m: 0.3811 - m_1: 0.2289 - m_2: 0.2548 - val_loss: 0.4528 - val_m: 0.4796 - val_m_1: 0.1576 - val_m_2: 0.1626\n",
      "Epoch 25/25\n",
      "\u001B[1m258/262\u001B[0m \u001B[32m━━━━━━━━━━━━━━━━━━━\u001B[0m\u001B[37m━\u001B[0m \u001B[1m0s\u001B[0m 12ms/step - loss: 0.3504 - m: 0.3515 - m_1: 0.1843 - m_2: 0.2351\n",
      "Epoch 25: val_loss did not improve from 0.41217\n",
      "\u001B[1m262/262\u001B[0m \u001B[32m━━━━━━━━━━━━━━━━━━━━\u001B[0m\u001B[37m\u001B[0m \u001B[1m3s\u001B[0m 13ms/step - loss: 0.3777 - m: 0.3789 - m_1: 0.2529 - m_2: 0.2335 - val_loss: 0.4488 - val_m: 0.4770 - val_m_1: 0.1054 - val_m_2: 0.1622\n",
      "////////////////////\n",
      "\u001B[1m70/77\u001B[0m \u001B[32m━━━━━━━━━━━━━━━━━━\u001B[0m\u001B[37m━━\u001B[0m \u001B[1m0s\u001B[0m 5ms/step - loss: 0.9734 - m: 0.9864 - m_1: 0.3542 - m_2: 0.1981"
     ]
    },
    {
     "name": "stderr",
     "output_type": "stream",
     "text": [
      "2025-10-30 20:05:35.204970: I external/local_xla/xla/service/gpu/autotuning/dot_search_space.cc:208] All configs were filtered out because none of them sufficiently match the hints. Maybe the hints set does not contain a good representative set of valid configs? Working around this by using the full hints set instead.\n"
     ]
    },
    {
     "name": "stdout",
     "output_type": "stream",
     "text": [
      "\u001B[1m77/77\u001B[0m \u001B[32m━━━━━━━━━━━━━━━━━━━━\u001B[0m\u001B[37m\u001B[0m \u001B[1m2s\u001B[0m 22ms/step - loss: 0.8417 - m: 0.8623 - m_1: 0.1831 - m_2: 0.1855\n",
      "////////////////////\n",
      "Training model2 ...\n",
      "Epoch 1/25\n",
      "\u001B[1m262/262\u001B[0m \u001B[32m━━━━━━━━━━━━━━━━━━━━\u001B[0m\u001B[37m\u001B[0m \u001B[1m0s\u001B[0m 8ms/step - loss: 0.7217 - m: 0.7253 - m_1: 0.3615 - m_2: 0.3283\n",
      "Epoch 1: val_loss improved from None to 0.66453, saving model to best_model2.keras\n",
      "\u001B[1m262/262\u001B[0m \u001B[32m━━━━━━━━━━━━━━━━━━━━\u001B[0m\u001B[37m\u001B[0m \u001B[1m5s\u001B[0m 12ms/step - loss: 0.7222 - m: 0.7280 - m_1: 0.3411 - m_2: 0.3487 - val_loss: 0.6645 - val_m: 0.6945 - val_m_1: 0.1013 - val_m_2: 0.1787\n",
      "Epoch 2/25\n",
      "\u001B[1m257/262\u001B[0m \u001B[32m━━━━━━━━━━━━━━━━━━━\u001B[0m\u001B[37m━\u001B[0m \u001B[1m0s\u001B[0m 4ms/step - loss: 0.7310 - m: 0.7371 - m_1: 0.1993 - m_2: 0.2209\n",
      "Epoch 2: val_loss did not improve from 0.66453\n",
      "\u001B[1m262/262\u001B[0m \u001B[32m━━━━━━━━━━━━━━━━━━━━\u001B[0m\u001B[37m\u001B[0m \u001B[1m1s\u001B[0m 4ms/step - loss: 0.7241 - m: 0.7310 - m_1: 0.2780 - m_2: 0.2768 - val_loss: 0.6648 - val_m: 0.6950 - val_m_1: 0.1050 - val_m_2: 0.1691\n",
      "Epoch 3/25\n",
      "\u001B[1m261/262\u001B[0m \u001B[32m━━━━━━━━━━━━━━━━━━━\u001B[0m\u001B[37m━\u001B[0m \u001B[1m0s\u001B[0m 4ms/step - loss: 0.7325 - m: 0.7381 - m_1: 0.2076 - m_2: 0.2557\n",
      "Epoch 3: val_loss improved from 0.66453 to 0.66321, saving model to best_model2.keras\n",
      "\u001B[1m262/262\u001B[0m \u001B[32m━━━━━━━━━━━━━━━━━━━━\u001B[0m\u001B[37m\u001B[0m \u001B[1m1s\u001B[0m 4ms/step - loss: 0.7242 - m: 0.7307 - m_1: 0.2949 - m_2: 0.2918 - val_loss: 0.6632 - val_m: 0.6930 - val_m_1: 0.1047 - val_m_2: 0.1687\n",
      "Epoch 4/25\n",
      "\u001B[1m258/262\u001B[0m \u001B[32m━━━━━━━━━━━━━━━━━━━\u001B[0m\u001B[37m━\u001B[0m \u001B[1m0s\u001B[0m 3ms/step - loss: 0.7261 - m: 0.7319 - m_1: 0.2451 - m_2: 0.2287\n",
      "Epoch 4: val_loss did not improve from 0.66321\n",
      "\u001B[1m262/262\u001B[0m \u001B[32m━━━━━━━━━━━━━━━━━━━━\u001B[0m\u001B[37m\u001B[0m \u001B[1m1s\u001B[0m 4ms/step - loss: 0.7239 - m: 0.7306 - m_1: 0.2880 - m_2: 0.2786 - val_loss: 0.6644 - val_m: 0.6943 - val_m_1: 0.1082 - val_m_2: 0.1707\n",
      "Epoch 5/25\n",
      "\u001B[1m259/262\u001B[0m \u001B[32m━━━━━━━━━━━━━━━━━━━\u001B[0m\u001B[37m━\u001B[0m \u001B[1m0s\u001B[0m 4ms/step - loss: 0.7284 - m: 0.7337 - m_1: 0.2604 - m_2: 0.2790\n",
      "Epoch 5: val_loss did not improve from 0.66321\n",
      "\u001B[1m262/262\u001B[0m \u001B[32m━━━━━━━━━━━━━━━━━━━━\u001B[0m\u001B[37m\u001B[0m \u001B[1m1s\u001B[0m 4ms/step - loss: 0.7237 - m: 0.7301 - m_1: 0.2911 - m_2: 0.2942 - val_loss: 0.6639 - val_m: 0.6939 - val_m_1: 0.1009 - val_m_2: 0.1738\n",
      "Epoch 6/25\n",
      "\u001B[1m258/262\u001B[0m \u001B[32m━━━━━━━━━━━━━━━━━━━\u001B[0m\u001B[37m━\u001B[0m \u001B[1m0s\u001B[0m 4ms/step - loss: 0.7310 - m: 0.7370 - m_1: 0.2214 - m_2: 0.2174\n",
      "Epoch 6: val_loss did not improve from 0.66321\n",
      "\u001B[1m262/262\u001B[0m \u001B[32m━━━━━━━━━━━━━━━━━━━━\u001B[0m\u001B[37m\u001B[0m \u001B[1m1s\u001B[0m 4ms/step - loss: 0.7242 - m: 0.7310 - m_1: 0.2942 - m_2: 0.2582 - val_loss: 0.6640 - val_m: 0.6941 - val_m_1: 0.1021 - val_m_2: 0.1668\n",
      "Epoch 7/25\n",
      "\u001B[1m257/262\u001B[0m \u001B[32m━━━━━━━━━━━━━━━━━━━\u001B[0m\u001B[37m━\u001B[0m \u001B[1m0s\u001B[0m 4ms/step - loss: 0.7254 - m: 0.7305 - m_1: 0.2556 - m_2: 0.2569\n",
      "Epoch 7: val_loss improved from 0.66321 to 0.66198, saving model to best_model2.keras\n",
      "\u001B[1m262/262\u001B[0m \u001B[32m━━━━━━━━━━━━━━━━━━━━\u001B[0m\u001B[37m\u001B[0m \u001B[1m1s\u001B[0m 4ms/step - loss: 0.7244 - m: 0.7313 - m_1: 0.3383 - m_2: 0.2736 - val_loss: 0.6620 - val_m: 0.6915 - val_m_1: 0.1008 - val_m_2: 0.1649\n",
      "Epoch 8/25\n",
      "\u001B[1m257/262\u001B[0m \u001B[32m━━━━━━━━━━━━━━━━━━━\u001B[0m\u001B[37m━\u001B[0m \u001B[1m0s\u001B[0m 4ms/step - loss: 0.7284 - m: 0.7339 - m_1: 0.2085 - m_2: 0.2261\n",
      "Epoch 8: val_loss did not improve from 0.66198\n",
      "\u001B[1m262/262\u001B[0m \u001B[32m━━━━━━━━━━━━━━━━━━━━\u001B[0m\u001B[37m\u001B[0m \u001B[1m1s\u001B[0m 4ms/step - loss: 0.7242 - m: 0.7309 - m_1: 0.2727 - m_2: 0.2814 - val_loss: 0.6654 - val_m: 0.6957 - val_m_1: 0.1013 - val_m_2: 0.1756\n",
      "Epoch 9/25\n",
      "\u001B[1m253/262\u001B[0m \u001B[32m━━━━━━━━━━━━━━━━━━━\u001B[0m\u001B[37m━\u001B[0m \u001B[1m0s\u001B[0m 4ms/step - loss: 0.7286 - m: 0.7342 - m_1: 0.2194 - m_2: 0.2483\n",
      "Epoch 9: val_loss did not improve from 0.66198\n",
      "\u001B[1m262/262\u001B[0m \u001B[32m━━━━━━━━━━━━━━━━━━━━\u001B[0m\u001B[37m\u001B[0m \u001B[1m1s\u001B[0m 5ms/step - loss: 0.7240 - m: 0.7306 - m_1: 0.3002 - m_2: 0.2952 - val_loss: 0.6632 - val_m: 0.6931 - val_m_1: 0.1020 - val_m_2: 0.1670\n",
      "Epoch 10/25\n",
      "\u001B[1m259/262\u001B[0m \u001B[32m━━━━━━━━━━━━━━━━━━━\u001B[0m\u001B[37m━\u001B[0m \u001B[1m0s\u001B[0m 4ms/step - loss: 0.7299 - m: 0.7354 - m_1: 0.2034 - m_2: 0.3110\n",
      "Epoch 10: val_loss did not improve from 0.66198\n",
      "\u001B[1m262/262\u001B[0m \u001B[32m━━━━━━━━━━━━━━━━━━━━\u001B[0m\u001B[37m\u001B[0m \u001B[1m1s\u001B[0m 4ms/step - loss: 0.7244 - m: 0.7309 - m_1: 0.2629 - m_2: 0.2974 - val_loss: 0.6635 - val_m: 0.6936 - val_m_1: 0.1004 - val_m_2: 0.1666\n",
      "Epoch 11/25\n",
      "\u001B[1m254/262\u001B[0m \u001B[32m━━━━━━━━━━━━━━━━━━━\u001B[0m\u001B[37m━\u001B[0m \u001B[1m0s\u001B[0m 3ms/step - loss: 0.7297 - m: 0.7352 - m_1: 0.2033 - m_2: 0.2581\n",
      "Epoch 11: val_loss did not improve from 0.66198\n",
      "\u001B[1m262/262\u001B[0m \u001B[32m━━━━━━━━━━━━━━━━━━━━\u001B[0m\u001B[37m\u001B[0m \u001B[1m1s\u001B[0m 4ms/step - loss: 0.7244 - m: 0.7312 - m_1: 0.2701 - m_2: 0.3056 - val_loss: 0.6627 - val_m: 0.6925 - val_m_1: 0.1000 - val_m_2: 0.1670\n",
      "Epoch 12/25\n",
      "\u001B[1m255/262\u001B[0m \u001B[32m━━━━━━━━━━━━━━━━━━━\u001B[0m\u001B[37m━\u001B[0m \u001B[1m0s\u001B[0m 3ms/step - loss: 0.7328 - m: 0.7389 - m_1: 0.2044 - m_2: 0.2498\n",
      "Epoch 12: val_loss did not improve from 0.66198\n",
      "\u001B[1m262/262\u001B[0m \u001B[32m━━━━━━━━━━━━━━━━━━━━\u001B[0m\u001B[37m\u001B[0m \u001B[1m1s\u001B[0m 4ms/step - loss: 0.7253 - m: 0.7322 - m_1: 0.2702 - m_2: 0.2832 - val_loss: 0.6635 - val_m: 0.6933 - val_m_1: 0.1047 - val_m_2: 0.1695\n",
      "////////////////////\n",
      "\u001B[1m77/77\u001B[0m \u001B[32m━━━━━━━━━━━━━━━━━━━━\u001B[0m\u001B[37m\u001B[0m \u001B[1m1s\u001B[0m 8ms/step - loss: 0.8577 - m: 0.8714 - m_1: 0.1442 - m_2: 0.1861\n",
      "////////////////////\n",
      "Training model3 ...\n",
      "Epoch 1/25\n"
     ]
    },
    {
     "name": "stderr",
     "output_type": "stream",
     "text": [
      "2025-10-30 20:05:56.874806: I external/local_xla/xla/service/gpu/autotuning/dot_search_space.cc:208] All configs were filtered out because none of them sufficiently match the hints. Maybe the hints set does not contain a good representative set of valid configs? Working around this by using the full hints set instead.\n",
      "2025-10-30 20:05:56.874886: I external/local_xla/xla/service/gpu/autotuning/dot_search_space.cc:208] All configs were filtered out because none of them sufficiently match the hints. Maybe the hints set does not contain a good representative set of valid configs? Working around this by using the full hints set instead.\n",
      "2025-10-30 20:05:56.874899: I external/local_xla/xla/service/gpu/autotuning/dot_search_space.cc:208] All configs were filtered out because none of them sufficiently match the hints. Maybe the hints set does not contain a good representative set of valid configs? Working around this by using the full hints set instead.\n",
      "2025-10-30 20:05:57.662259: I external/local_xla/xla/stream_executor/cuda/subprocess_compilation.cc:346] ptxas warning : Registers are spilled to local memory in function 'gemm_fusion_dot_780', 128 bytes spill stores, 128 bytes spill loads\n",
      "\n",
      "2025-10-30 20:05:57.863059: I external/local_xla/xla/stream_executor/cuda/subprocess_compilation.cc:346] ptxas warning : Registers are spilled to local memory in function 'gemm_fusion_dot_642', 104 bytes spill stores, 104 bytes spill loads\n",
      "\n",
      "2025-10-30 20:05:57.873929: I external/local_xla/xla/stream_executor/cuda/subprocess_compilation.cc:346] ptxas warning : Registers are spilled to local memory in function 'gemm_fusion_dot_921', 64 bytes spill stores, 64 bytes spill loads\n",
      "\n",
      "2025-10-30 20:05:58.049226: I external/local_xla/xla/stream_executor/cuda/subprocess_compilation.cc:346] ptxas warning : Registers are spilled to local memory in function 'gemm_fusion_dot_921', 928 bytes spill stores, 928 bytes spill loads\n",
      "\n"
     ]
    },
    {
     "name": "stdout",
     "output_type": "stream",
     "text": [
      "\u001B[1m260/262\u001B[0m \u001B[32m━━━━━━━━━━━━━━━━━━━\u001B[0m\u001B[37m━\u001B[0m \u001B[1m0s\u001B[0m 9ms/step - loss: 0.7127 - m: 0.7182 - m_1: 0.2328 - m_2: 0.2244"
     ]
    },
    {
     "name": "stderr",
     "output_type": "stream",
     "text": [
      "2025-10-30 20:06:01.995228: I external/local_xla/xla/service/gpu/autotuning/dot_search_space.cc:208] All configs were filtered out because none of them sufficiently match the hints. Maybe the hints set does not contain a good representative set of valid configs? Working around this by using the full hints set instead.\n",
      "2025-10-30 20:06:01.995285: I external/local_xla/xla/service/gpu/autotuning/dot_search_space.cc:208] All configs were filtered out because none of them sufficiently match the hints. Maybe the hints set does not contain a good representative set of valid configs? Working around this by using the full hints set instead.\n",
      "2025-10-30 20:06:01.995294: I external/local_xla/xla/service/gpu/autotuning/dot_search_space.cc:208] All configs were filtered out because none of them sufficiently match the hints. Maybe the hints set does not contain a good representative set of valid configs? Working around this by using the full hints set instead.\n",
      "2025-10-30 20:06:02.743432: I external/local_xla/xla/stream_executor/cuda/subprocess_compilation.cc:346] ptxas warning : Registers are spilled to local memory in function 'gemm_fusion_dot_642', 104 bytes spill stores, 104 bytes spill loads\n",
      "\n",
      "2025-10-30 20:06:02.832433: I external/local_xla/xla/stream_executor/cuda/subprocess_compilation.cc:346] ptxas warning : Registers are spilled to local memory in function 'gemm_fusion_dot_921', 64 bytes spill stores, 64 bytes spill loads\n",
      "\n",
      "2025-10-30 20:06:02.862393: I external/local_xla/xla/stream_executor/cuda/subprocess_compilation.cc:346] ptxas warning : Registers are spilled to local memory in function 'gemm_fusion_dot_780', 128 bytes spill stores, 128 bytes spill loads\n",
      "\n"
     ]
    },
    {
     "name": "stdout",
     "output_type": "stream",
     "text": [
      "\u001B[1m262/262\u001B[0m \u001B[32m━━━━━━━━━━━━━━━━━━━━\u001B[0m\u001B[37m\u001B[0m \u001B[1m0s\u001B[0m 17ms/step - loss: 0.7127 - m: 0.7183 - m_1: 0.2332 - m_2: 0.2247"
     ]
    },
    {
     "name": "stderr",
     "output_type": "stream",
     "text": [
      "2025-10-30 20:06:04.718739: I external/local_xla/xla/service/gpu/autotuning/dot_search_space.cc:208] All configs were filtered out because none of them sufficiently match the hints. Maybe the hints set does not contain a good representative set of valid configs? Working around this by using the full hints set instead.\n",
      "2025-10-30 20:06:04.870989: I external/local_xla/xla/stream_executor/cuda/subprocess_compilation.cc:346] ptxas warning : Registers are spilled to local memory in function 'gemm_fusion_dot_185', 4 bytes spill stores, 4 bytes spill loads\n",
      "\n",
      "2025-10-30 20:06:05.065493: I external/local_xla/xla/stream_executor/cuda/subprocess_compilation.cc:346] ptxas warning : Registers are spilled to local memory in function 'gemm_fusion_dot_185', 8 bytes spill stores, 8 bytes spill loads\n",
      "\n",
      "2025-10-30 20:06:05.219637: I external/local_xla/xla/stream_executor/cuda/subprocess_compilation.cc:346] ptxas warning : Registers are spilled to local memory in function 'gemm_fusion_dot_185', 384 bytes spill stores, 384 bytes spill loads\n",
      "\n"
     ]
    },
    {
     "name": "stdout",
     "output_type": "stream",
     "text": [
      "\n",
      "Epoch 1: val_loss improved from None to 0.66330, saving model to best_model3.keras\n",
      "\u001B[1m262/262\u001B[0m \u001B[32m━━━━━━━━━━━━━━━━━━━━\u001B[0m\u001B[37m\u001B[0m \u001B[1m10s\u001B[0m 23ms/step - loss: 0.7138 - m: 0.7200 - m_1: 0.2879 - m_2: 0.2634 - val_loss: 0.6633 - val_m: 0.6909 - val_m_1: 0.2234 - val_m_2: 0.1693\n",
      "Epoch 2/25\n",
      "\u001B[1m256/262\u001B[0m \u001B[32m━━━━━━━━━━━━━━━━━━━\u001B[0m\u001B[37m━\u001B[0m \u001B[1m0s\u001B[0m 9ms/step - loss: 0.6989 - m: 0.7040 - m_1: 0.2503 - m_2: 0.3041\n",
      "Epoch 2: val_loss did not improve from 0.66330\n",
      "\u001B[1m262/262\u001B[0m \u001B[32m━━━━━━━━━━━━━━━━━━━━\u001B[0m\u001B[37m\u001B[0m \u001B[1m3s\u001B[0m 10ms/step - loss: 0.6936 - m: 0.6989 - m_1: 0.3279 - m_2: 0.3046 - val_loss: 0.7174 - val_m: 0.7623 - val_m_1: 0.1370 - val_m_2: 0.1646\n",
      "Epoch 3/25\n",
      "\u001B[1m261/262\u001B[0m \u001B[32m━━━━━━━━━━━━━━━━━━━\u001B[0m\u001B[37m━\u001B[0m \u001B[1m0s\u001B[0m 9ms/step - loss: 0.6675 - m: 0.6721 - m_1: 0.2683 - m_2: 0.3158\n",
      "Epoch 3: val_loss did not improve from 0.66330\n",
      "\u001B[1m262/262\u001B[0m \u001B[32m━━━━━━━━━━━━━━━━━━━━\u001B[0m\u001B[37m\u001B[0m \u001B[1m3s\u001B[0m 10ms/step - loss: 0.6684 - m: 0.6737 - m_1: 0.3122 - m_2: 0.3079 - val_loss: 0.7138 - val_m: 0.7589 - val_m_1: 0.1177 - val_m_2: 0.1652\n",
      "Epoch 4/25\n",
      "\u001B[1m257/262\u001B[0m \u001B[32m━━━━━━━━━━━━━━━━━━━\u001B[0m\u001B[37m━\u001B[0m \u001B[1m0s\u001B[0m 9ms/step - loss: 0.6413 - m: 0.6459 - m_1: 0.2314 - m_2: 0.2387\n",
      "Epoch 4: val_loss improved from 0.66330 to 0.65596, saving model to best_model3.keras\n",
      "\u001B[1m262/262\u001B[0m \u001B[32m━━━━━━━━━━━━━━━━━━━━\u001B[0m\u001B[37m\u001B[0m \u001B[1m3s\u001B[0m 10ms/step - loss: 0.6389 - m: 0.6437 - m_1: 0.3038 - m_2: 0.2965 - val_loss: 0.6560 - val_m: 0.6955 - val_m_1: 0.1348 - val_m_2: 0.1723\n",
      "Epoch 5/25\n",
      "\u001B[1m260/262\u001B[0m \u001B[32m━━━━━━━━━━━━━━━━━━━\u001B[0m\u001B[37m━\u001B[0m \u001B[1m0s\u001B[0m 9ms/step - loss: 0.6073 - m: 0.6112 - m_1: 0.2475 - m_2: 0.2416\n",
      "Epoch 5: val_loss improved from 0.65596 to 0.65139, saving model to best_model3.keras\n",
      "\u001B[1m262/262\u001B[0m \u001B[32m━━━━━━━━━━━━━━━━━━━━\u001B[0m\u001B[37m\u001B[0m \u001B[1m3s\u001B[0m 10ms/step - loss: 0.6117 - m: 0.6160 - m_1: 0.3096 - m_2: 0.2884 - val_loss: 0.6514 - val_m: 0.6923 - val_m_1: 0.1246 - val_m_2: 0.1633\n",
      "Epoch 6/25\n",
      "\u001B[1m261/262\u001B[0m \u001B[32m━━━━━━━━━━━━━━━━━━━\u001B[0m\u001B[37m━\u001B[0m \u001B[1m0s\u001B[0m 9ms/step - loss: 0.5765 - m: 0.5805 - m_1: 0.2207 - m_2: 0.2196\n",
      "Epoch 6: val_loss improved from 0.65139 to 0.57454, saving model to best_model3.keras\n",
      "\u001B[1m262/262\u001B[0m \u001B[32m━━━━━━━━━━━━━━━━━━━━\u001B[0m\u001B[37m\u001B[0m \u001B[1m3s\u001B[0m 11ms/step - loss: 0.5903 - m: 0.5943 - m_1: 0.2882 - m_2: 0.2675 - val_loss: 0.5745 - val_m: 0.6084 - val_m_1: 0.1408 - val_m_2: 0.1670\n",
      "Epoch 7/25\n",
      "\u001B[1m256/262\u001B[0m \u001B[32m━━━━━━━━━━━━━━━━━━━\u001B[0m\u001B[37m━\u001B[0m \u001B[1m0s\u001B[0m 9ms/step - loss: 0.5661 - m: 0.5698 - m_1: 0.2233 - m_2: 0.2462\n",
      "Epoch 7: val_loss improved from 0.57454 to 0.56195, saving model to best_model3.keras\n",
      "\u001B[1m262/262\u001B[0m \u001B[32m━━━━━━━━━━━━━━━━━━━━\u001B[0m\u001B[37m\u001B[0m \u001B[1m3s\u001B[0m 10ms/step - loss: 0.5756 - m: 0.5793 - m_1: 0.2835 - m_2: 0.2955 - val_loss: 0.5620 - val_m: 0.5945 - val_m_1: 0.1123 - val_m_2: 0.1715\n",
      "Epoch 8/25\n",
      "\u001B[1m262/262\u001B[0m \u001B[32m━━━━━━━━━━━━━━━━━━━━\u001B[0m\u001B[37m\u001B[0m \u001B[1m0s\u001B[0m 9ms/step - loss: 0.5530 - m: 0.5563 - m_1: 0.2413 - m_2: 0.2460\n",
      "Epoch 8: val_loss improved from 0.56195 to 0.55471, saving model to best_model3.keras\n",
      "\u001B[1m262/262\u001B[0m \u001B[32m━━━━━━━━━━━━━━━━━━━━\u001B[0m\u001B[37m\u001B[0m \u001B[1m3s\u001B[0m 10ms/step - loss: 0.5622 - m: 0.5659 - m_1: 0.2991 - m_2: 0.2485 - val_loss: 0.5547 - val_m: 0.5856 - val_m_1: 0.1115 - val_m_2: 0.1651\n",
      "Epoch 9/25\n",
      "\u001B[1m260/262\u001B[0m \u001B[32m━━━━━━━━━━━━━━━━━━━\u001B[0m\u001B[37m━\u001B[0m \u001B[1m0s\u001B[0m 9ms/step - loss: 0.5406 - m: 0.5442 - m_1: 0.2019 - m_2: 0.1879\n",
      "Epoch 9: val_loss improved from 0.55471 to 0.53821, saving model to best_model3.keras\n",
      "\u001B[1m262/262\u001B[0m \u001B[32m━━━━━━━━━━━━━━━━━━━━\u001B[0m\u001B[37m\u001B[0m \u001B[1m3s\u001B[0m 10ms/step - loss: 0.5499 - m: 0.5533 - m_1: 0.2567 - m_2: 0.2402 - val_loss: 0.5382 - val_m: 0.5698 - val_m_1: 0.1108 - val_m_2: 0.1635\n",
      "Epoch 10/25\n",
      "\u001B[1m257/262\u001B[0m \u001B[32m━━━━━━━━━━━━━━━━━━━\u001B[0m\u001B[37m━\u001B[0m \u001B[1m0s\u001B[0m 9ms/step - loss: 0.5251 - m: 0.5283 - m_1: 0.2113 - m_2: 0.2806\n",
      "Epoch 10: val_loss improved from 0.53821 to 0.52961, saving model to best_model3.keras\n",
      "\u001B[1m262/262\u001B[0m \u001B[32m━━━━━━━━━━━━━━━━━━━━\u001B[0m\u001B[37m\u001B[0m \u001B[1m3s\u001B[0m 10ms/step - loss: 0.5368 - m: 0.5402 - m_1: 0.2718 - m_2: 0.2721 - val_loss: 0.5296 - val_m: 0.5623 - val_m_1: 0.1169 - val_m_2: 0.1658\n",
      "Epoch 11/25\n",
      "\u001B[1m260/262\u001B[0m \u001B[32m━━━━━━━━━━━━━━━━━━━\u001B[0m\u001B[37m━\u001B[0m \u001B[1m0s\u001B[0m 9ms/step - loss: 0.5150 - m: 0.5182 - m_1: 0.2131 - m_2: 0.2215\n",
      "Epoch 11: val_loss did not improve from 0.52961\n",
      "\u001B[1m262/262\u001B[0m \u001B[32m━━━━━━━━━━━━━━━━━━━━\u001B[0m\u001B[37m\u001B[0m \u001B[1m3s\u001B[0m 10ms/step - loss: 0.5281 - m: 0.5313 - m_1: 0.2752 - m_2: 0.2765 - val_loss: 0.5318 - val_m: 0.5632 - val_m_1: 0.1117 - val_m_2: 0.1657\n",
      "Epoch 12/25\n",
      "\u001B[1m257/262\u001B[0m \u001B[32m━━━━━━━━━━━━━━━━━━━\u001B[0m\u001B[37m━\u001B[0m \u001B[1m0s\u001B[0m 9ms/step - loss: 0.4990 - m: 0.5018 - m_1: 0.2090 - m_2: 0.2151\n",
      "Epoch 12: val_loss did not improve from 0.52961\n",
      "\u001B[1m262/262\u001B[0m \u001B[32m━━━━━━━━━━━━━━━━━━━━\u001B[0m\u001B[37m\u001B[0m \u001B[1m2s\u001B[0m 9ms/step - loss: 0.5153 - m: 0.5183 - m_1: 0.2605 - m_2: 0.2563 - val_loss: 0.5328 - val_m: 0.5625 - val_m_1: 0.1079 - val_m_2: 0.1688\n",
      "Epoch 13/25\n",
      "\u001B[1m261/262\u001B[0m \u001B[32m━━━━━━━━━━━━━━━━━━━\u001B[0m\u001B[37m━\u001B[0m \u001B[1m0s\u001B[0m 9ms/step - loss: 0.4889 - m: 0.4917 - m_1: 0.1872 - m_2: 0.2182\n",
      "Epoch 13: val_loss improved from 0.52961 to 0.51676, saving model to best_model3.keras\n",
      "\u001B[1m262/262\u001B[0m \u001B[32m━━━━━━━━━━━━━━━━━━━━\u001B[0m\u001B[37m\u001B[0m \u001B[1m3s\u001B[0m 10ms/step - loss: 0.5060 - m: 0.5087 - m_1: 0.2741 - m_2: 0.2648 - val_loss: 0.5168 - val_m: 0.5468 - val_m_1: 0.1080 - val_m_2: 0.1620\n",
      "Epoch 14/25\n",
      "\u001B[1m262/262\u001B[0m \u001B[32m━━━━━━━━━━━━━━━━━━━━\u001B[0m\u001B[37m\u001B[0m \u001B[1m0s\u001B[0m 9ms/step - loss: 0.4833 - m: 0.4858 - m_1: 0.1991 - m_2: 0.2633\n",
      "Epoch 14: val_loss did not improve from 0.51676\n",
      "\u001B[1m262/262\u001B[0m \u001B[32m━━━━━━━━━━━━━━━━━━━━\u001B[0m\u001B[37m\u001B[0m \u001B[1m3s\u001B[0m 10ms/step - loss: 0.4991 - m: 0.5020 - m_1: 0.2656 - m_2: 0.3097 - val_loss: 0.5204 - val_m: 0.5527 - val_m_1: 0.1082 - val_m_2: 0.1621\n",
      "Epoch 15/25\n",
      "\u001B[1m262/262\u001B[0m \u001B[32m━━━━━━━━━━━━━━━━━━━━\u001B[0m\u001B[37m\u001B[0m \u001B[1m0s\u001B[0m 9ms/step - loss: 0.4730 - m: 0.4753 - m_1: 0.2216 - m_2: 0.2175\n",
      "Epoch 15: val_loss improved from 0.51676 to 0.50633, saving model to best_model3.keras\n",
      "\u001B[1m262/262\u001B[0m \u001B[32m━━━━━━━━━━━━━━━━━━━━\u001B[0m\u001B[37m\u001B[0m \u001B[1m3s\u001B[0m 10ms/step - loss: 0.4928 - m: 0.4952 - m_1: 0.2835 - m_2: 0.2726 - val_loss: 0.5063 - val_m: 0.5372 - val_m_1: 0.1201 - val_m_2: 0.1640\n",
      "Epoch 16/25\n",
      "\u001B[1m257/262\u001B[0m \u001B[32m━━━━━━━━━━━━━━━━━━━\u001B[0m\u001B[37m━\u001B[0m \u001B[1m0s\u001B[0m 9ms/step - loss: 0.4734 - m: 0.4754 - m_1: 0.2274 - m_2: 0.2448\n",
      "Epoch 16: val_loss did not improve from 0.50633\n",
      "\u001B[1m262/262\u001B[0m \u001B[32m━━━━━━━━━━━━━━━━━━━━\u001B[0m\u001B[37m\u001B[0m \u001B[1m2s\u001B[0m 9ms/step - loss: 0.4910 - m: 0.4938 - m_1: 0.2685 - m_2: 0.2664 - val_loss: 0.5173 - val_m: 0.5458 - val_m_1: 0.1105 - val_m_2: 0.1640\n",
      "Epoch 17/25\n",
      "\u001B[1m257/262\u001B[0m \u001B[32m━━━━━━━━━━━━━━━━━━━\u001B[0m\u001B[37m━\u001B[0m \u001B[1m0s\u001B[0m 9ms/step - loss: 0.4663 - m: 0.4686 - m_1: 0.2378 - m_2: 0.2999\n",
      "Epoch 17: val_loss improved from 0.50633 to 0.50371, saving model to best_model3.keras\n",
      "\u001B[1m262/262\u001B[0m \u001B[32m━━━━━━━━━━━━━━━━━━━━\u001B[0m\u001B[37m\u001B[0m \u001B[1m3s\u001B[0m 10ms/step - loss: 0.4859 - m: 0.4885 - m_1: 0.3384 - m_2: 0.2771 - val_loss: 0.5037 - val_m: 0.5309 - val_m_1: 0.1076 - val_m_2: 0.1648\n",
      "Epoch 18/25\n",
      "\u001B[1m258/262\u001B[0m \u001B[32m━━━━━━━━━━━━━━━━━━━\u001B[0m\u001B[37m━\u001B[0m \u001B[1m0s\u001B[0m 9ms/step - loss: 0.4553 - m: 0.4574 - m_1: 0.2344 - m_2: 0.2445 \n",
      "Epoch 18: val_loss did not improve from 0.50371\n",
      "\u001B[1m262/262\u001B[0m \u001B[32m━━━━━━━━━━━━━━━━━━━━\u001B[0m\u001B[37m\u001B[0m \u001B[1m3s\u001B[0m 10ms/step - loss: 0.4771 - m: 0.4795 - m_1: 0.2909 - m_2: 0.2694 - val_loss: 0.5039 - val_m: 0.5323 - val_m_1: 0.1141 - val_m_2: 0.1656\n",
      "Epoch 19/25\n",
      "\u001B[1m258/262\u001B[0m \u001B[32m━━━━━━━━━━━━━━━━━━━\u001B[0m\u001B[37m━\u001B[0m \u001B[1m0s\u001B[0m 9ms/step - loss: 0.4532 - m: 0.4554 - m_1: 0.2060 - m_2: 0.2203\n",
      "Epoch 19: val_loss improved from 0.50371 to 0.49217, saving model to best_model3.keras\n",
      "\u001B[1m262/262\u001B[0m \u001B[32m━━━━━━━━━━━━━━━━━━━━\u001B[0m\u001B[37m\u001B[0m \u001B[1m3s\u001B[0m 10ms/step - loss: 0.4716 - m: 0.4740 - m_1: 0.2739 - m_2: 0.2701 - val_loss: 0.4922 - val_m: 0.5183 - val_m_1: 0.1076 - val_m_2: 0.1657\n",
      "Epoch 20/25\n",
      "\u001B[1m260/262\u001B[0m \u001B[32m━━━━━━━━━━━━━━━━━━━\u001B[0m\u001B[37m━\u001B[0m \u001B[1m0s\u001B[0m 8ms/step - loss: 0.4489 - m: 0.4508 - m_1: 0.2167 - m_2: 0.2304\n",
      "Epoch 20: val_loss did not improve from 0.49217\n",
      "\u001B[1m262/262\u001B[0m \u001B[32m━━━━━━━━━━━━━━━━━━━━\u001B[0m\u001B[37m\u001B[0m \u001B[1m2s\u001B[0m 9ms/step - loss: 0.4677 - m: 0.4699 - m_1: 0.2802 - m_2: 0.2191 - val_loss: 0.4935 - val_m: 0.5250 - val_m_1: 0.1133 - val_m_2: 0.1790\n",
      "Epoch 21/25\n",
      "\u001B[1m261/262\u001B[0m \u001B[32m━━━━━━━━━━━━━━━━━━━\u001B[0m\u001B[37m━\u001B[0m \u001B[1m0s\u001B[0m 9ms/step - loss: 0.4416 - m: 0.4434 - m_1: 0.2198 - m_2: 0.2422\n",
      "Epoch 21: val_loss improved from 0.49217 to 0.48164, saving model to best_model3.keras\n",
      "\u001B[1m262/262\u001B[0m \u001B[32m━━━━━━━━━━━━━━━━━━━━\u001B[0m\u001B[37m\u001B[0m \u001B[1m3s\u001B[0m 10ms/step - loss: 0.4629 - m: 0.4650 - m_1: 0.2896 - m_2: 0.2605 - val_loss: 0.4816 - val_m: 0.5124 - val_m_1: 0.1077 - val_m_2: 0.1673\n",
      "Epoch 22/25\n",
      "\u001B[1m258/262\u001B[0m \u001B[32m━━━━━━━━━━━━━━━━━━━\u001B[0m\u001B[37m━\u001B[0m \u001B[1m0s\u001B[0m 9ms/step - loss: 0.4407 - m: 0.4425 - m_1: 0.2020 - m_2: 0.2150\n",
      "Epoch 22: val_loss did not improve from 0.48164\n",
      "\u001B[1m262/262\u001B[0m \u001B[32m━━━━━━━━━━━━━━━━━━━━\u001B[0m\u001B[37m\u001B[0m \u001B[1m2s\u001B[0m 9ms/step - loss: 0.4615 - m: 0.4637 - m_1: 0.2818 - m_2: 0.2414 - val_loss: 0.4850 - val_m: 0.5160 - val_m_1: 0.1075 - val_m_2: 0.1658\n",
      "Epoch 23/25\n",
      "\u001B[1m260/262\u001B[0m \u001B[32m━━━━━━━━━━━━━━━━━━━\u001B[0m\u001B[37m━\u001B[0m \u001B[1m0s\u001B[0m 9ms/step - loss: 0.4350 - m: 0.4371 - m_1: 0.2250 - m_2: 0.2645\n",
      "Epoch 23: val_loss improved from 0.48164 to 0.47919, saving model to best_model3.keras\n",
      "\u001B[1m262/262\u001B[0m \u001B[32m━━━━━━━━━━━━━━━━━━━━\u001B[0m\u001B[37m\u001B[0m \u001B[1m3s\u001B[0m 9ms/step - loss: 0.4577 - m: 0.4598 - m_1: 0.2853 - m_2: 0.2668 - val_loss: 0.4792 - val_m: 0.5093 - val_m_1: 0.1081 - val_m_2: 0.1662\n",
      "Epoch 24/25\n",
      "\u001B[1m259/262\u001B[0m \u001B[32m━━━━━━━━━━━━━━━━━━━\u001B[0m\u001B[37m━\u001B[0m \u001B[1m0s\u001B[0m 9ms/step - loss: 0.4240 - m: 0.4261 - m_1: 0.1946 - m_2: 0.2359\n",
      "Epoch 24: val_loss improved from 0.47919 to 0.46773, saving model to best_model3.keras\n",
      "\u001B[1m262/262\u001B[0m \u001B[32m━━━━━━━━━━━━━━━━━━━━\u001B[0m\u001B[37m\u001B[0m \u001B[1m3s\u001B[0m 10ms/step - loss: 0.4524 - m: 0.4545 - m_1: 0.2711 - m_2: 0.2629 - val_loss: 0.4677 - val_m: 0.4939 - val_m_1: 0.1125 - val_m_2: 0.1691\n",
      "Epoch 25/25\n",
      "\u001B[1m259/262\u001B[0m \u001B[32m━━━━━━━━━━━━━━━━━━━\u001B[0m\u001B[37m━\u001B[0m \u001B[1m0s\u001B[0m 9ms/step - loss: 0.4375 - m: 0.4394 - m_1: 0.2225 - m_2: 0.2000\n",
      "Epoch 25: val_loss did not improve from 0.46773\n",
      "\u001B[1m262/262\u001B[0m \u001B[32m━━━━━━━━━━━━━━━━━━━━\u001B[0m\u001B[37m\u001B[0m \u001B[1m3s\u001B[0m 10ms/step - loss: 0.4545 - m: 0.4563 - m_1: 0.2881 - m_2: 0.2620 - val_loss: 0.4717 - val_m: 0.5027 - val_m_1: 0.1072 - val_m_2: 0.1709\n",
      "////////////////////\n",
      "\u001B[1m76/77\u001B[0m \u001B[32m━━━━━━━━━━━━━━━━━━━\u001B[0m\u001B[37m━\u001B[0m \u001B[1m0s\u001B[0m 3ms/step - loss: 1.0075 - m: 1.0150 - m_1: 0.3177 - m_2: 0.2086"
     ]
    },
    {
     "name": "stderr",
     "output_type": "stream",
     "text": [
      "2025-10-30 20:07:08.735323: I external/local_xla/xla/service/gpu/autotuning/dot_search_space.cc:208] All configs were filtered out because none of them sufficiently match the hints. Maybe the hints set does not contain a good representative set of valid configs? Working around this by using the full hints set instead.\n",
      "2025-10-30 20:07:08.920055: I external/local_xla/xla/stream_executor/cuda/subprocess_compilation.cc:346] ptxas warning : Registers are spilled to local memory in function 'gemm_fusion_dot_185', 4 bytes spill stores, 4 bytes spill loads\n",
      "\n",
      "2025-10-30 20:07:09.110956: I external/local_xla/xla/stream_executor/cuda/subprocess_compilation.cc:346] ptxas warning : Registers are spilled to local memory in function 'gemm_fusion_dot_185', 8 bytes spill stores, 8 bytes spill loads\n",
      "\n",
      "2025-10-30 20:07:09.279279: I external/local_xla/xla/stream_executor/cuda/subprocess_compilation.cc:346] ptxas warning : Registers are spilled to local memory in function 'gemm_fusion_dot_185', 384 bytes spill stores, 384 bytes spill loads\n",
      "\n"
     ]
    },
    {
     "name": "stdout",
     "output_type": "stream",
     "text": [
      "\u001B[1m77/77\u001B[0m \u001B[32m━━━━━━━━━━━━━━━━━━━━\u001B[0m\u001B[37m\u001B[0m \u001B[1m2s\u001B[0m 17ms/step - loss: 0.8112 - m: 0.8258 - m_1: 0.1536 - m_2: 0.2010\n",
      "////////////////////\n",
      "Training model4 ...\n",
      "Epoch 1/25\n"
     ]
    },
    {
     "name": "stderr",
     "output_type": "stream",
     "text": [
      "2025-10-30 20:07:10.380868: I external/local_xla/xla/service/gpu/autotuning/dot_search_space.cc:208] All configs were filtered out because none of them sufficiently match the hints. Maybe the hints set does not contain a good representative set of valid configs? Working around this by using the full hints set instead.\n",
      "2025-10-30 20:07:10.380920: I external/local_xla/xla/service/gpu/autotuning/dot_search_space.cc:208] All configs were filtered out because none of them sufficiently match the hints. Maybe the hints set does not contain a good representative set of valid configs? Working around this by using the full hints set instead.\n",
      "2025-10-30 20:07:10.380960: I external/local_xla/xla/service/gpu/autotuning/dot_search_space.cc:208] All configs were filtered out because none of them sufficiently match the hints. Maybe the hints set does not contain a good representative set of valid configs? Working around this by using the full hints set instead.\n",
      "2025-10-30 20:07:11.076397: I external/local_xla/xla/stream_executor/cuda/subprocess_compilation.cc:346] ptxas warning : Registers are spilled to local memory in function 'gemm_fusion_dot_263', 116 bytes spill stores, 116 bytes spill loads\n",
      "\n",
      "2025-10-30 20:07:11.184817: I external/local_xla/xla/stream_executor/cuda/subprocess_compilation.cc:346] ptxas warning : Registers are spilled to local memory in function 'gemm_fusion_dot_370', 124 bytes spill stores, 124 bytes spill loads\n",
      "\n",
      "2025-10-30 20:07:11.302801: I external/local_xla/xla/stream_executor/cuda/subprocess_compilation.cc:346] ptxas warning : Registers are spilled to local memory in function 'gemm_fusion_dot_384', 8 bytes spill stores, 8 bytes spill loads\n",
      "\n",
      "2025-10-30 20:07:11.411341: I external/local_xla/xla/stream_executor/cuda/subprocess_compilation.cc:346] ptxas warning : Registers are spilled to local memory in function 'gemm_fusion_dot_384', 152 bytes spill stores, 152 bytes spill loads\n",
      "\n",
      "2025-10-30 20:07:11.667490: I external/local_xla/xla/stream_executor/cuda/subprocess_compilation.cc:346] ptxas warning : Registers are spilled to local memory in function 'gemm_fusion_dot_384', 1092 bytes spill stores, 1092 bytes spill loads\n",
      "\n"
     ]
    },
    {
     "name": "stdout",
     "output_type": "stream",
     "text": [
      "\u001B[1m246/262\u001B[0m \u001B[32m━━━━━━━━━━━━━━━━━━\u001B[0m\u001B[37m━━\u001B[0m \u001B[1m0s\u001B[0m 4ms/step - loss: 0.6913 - m: 0.6902 - m_1: 0.3925 - m_2: 1.1346"
     ]
    },
    {
     "name": "stderr",
     "output_type": "stream",
     "text": [
      "2025-10-30 20:07:13.618634: I external/local_xla/xla/service/gpu/autotuning/dot_search_space.cc:208] All configs were filtered out because none of them sufficiently match the hints. Maybe the hints set does not contain a good representative set of valid configs? Working around this by using the full hints set instead.\n",
      "2025-10-30 20:07:13.618694: I external/local_xla/xla/service/gpu/autotuning/dot_search_space.cc:208] All configs were filtered out because none of them sufficiently match the hints. Maybe the hints set does not contain a good representative set of valid configs? Working around this by using the full hints set instead.\n",
      "2025-10-30 20:07:13.618740: I external/local_xla/xla/service/gpu/autotuning/dot_search_space.cc:208] All configs were filtered out because none of them sufficiently match the hints. Maybe the hints set does not contain a good representative set of valid configs? Working around this by using the full hints set instead.\n",
      "2025-10-30 20:07:14.261366: I external/local_xla/xla/stream_executor/cuda/subprocess_compilation.cc:346] ptxas warning : Registers are spilled to local memory in function 'gemm_fusion_dot_370', 124 bytes spill stores, 124 bytes spill loads\n",
      "\n",
      "2025-10-30 20:07:14.377407: I external/local_xla/xla/stream_executor/cuda/subprocess_compilation.cc:346] ptxas warning : Registers are spilled to local memory in function 'gemm_fusion_dot_263', 116 bytes spill stores, 116 bytes spill loads\n",
      "\n",
      "2025-10-30 20:07:14.491788: I external/local_xla/xla/stream_executor/cuda/subprocess_compilation.cc:346] ptxas warning : Registers are spilled to local memory in function 'gemm_fusion_dot_384', 8 bytes spill stores, 8 bytes spill loads\n",
      "\n",
      "2025-10-30 20:07:14.672521: I external/local_xla/xla/stream_executor/cuda/subprocess_compilation.cc:346] ptxas warning : Registers are spilled to local memory in function 'gemm_fusion_dot_384', 152 bytes spill stores, 152 bytes spill loads\n",
      "\n"
     ]
    },
    {
     "name": "stdout",
     "output_type": "stream",
     "text": [
      "\u001B[1m262/262\u001B[0m \u001B[32m━━━━━━━━━━━━━━━━━━━━\u001B[0m\u001B[37m\u001B[0m \u001B[1m0s\u001B[0m 13ms/step - loss: 0.6885 - m: 0.6875 - m_1: 0.3956 - m_2: 1.1070"
     ]
    },
    {
     "name": "stderr",
     "output_type": "stream",
     "text": [
      "2025-10-30 20:07:16.477415: I external/local_xla/xla/service/gpu/autotuning/dot_search_space.cc:208] All configs were filtered out because none of them sufficiently match the hints. Maybe the hints set does not contain a good representative set of valid configs? Working around this by using the full hints set instead.\n",
      "2025-10-30 20:07:16.825914: I external/local_xla/xla/stream_executor/cuda/subprocess_compilation.cc:346] ptxas warning : Registers are spilled to local memory in function 'gemm_fusion_dot_125', 12 bytes spill stores, 12 bytes spill loads\n",
      "\n",
      "2025-10-30 20:07:16.862656: I external/local_xla/xla/stream_executor/cuda/subprocess_compilation.cc:346] ptxas warning : Registers are spilled to local memory in function 'gemm_fusion_dot_125', 8 bytes spill stores, 8 bytes spill loads\n",
      "\n",
      "2025-10-30 20:07:16.938610: I external/local_xla/xla/stream_executor/cuda/subprocess_compilation.cc:346] ptxas warning : Registers are spilled to local memory in function 'gemm_fusion_dot_125', 116 bytes spill stores, 116 bytes spill loads\n",
      "\n"
     ]
    },
    {
     "name": "stdout",
     "output_type": "stream",
     "text": [
      "\n",
      "Epoch 1: val_loss improved from None to 0.60759, saving model to best_model4.keras\n",
      "\u001B[1m262/262\u001B[0m \u001B[32m━━━━━━━━━━━━━━━━━━━━\u001B[0m\u001B[37m\u001B[0m \u001B[1m8s\u001B[0m 18ms/step - loss: 0.6443 - m: 0.6452 - m_1: 0.4421 - m_2: 0.6755 - val_loss: 0.6076 - val_m: 0.6366 - val_m_1: 0.1926 - val_m_2: 0.2291\n",
      "Epoch 2/25\n",
      "\u001B[1m256/262\u001B[0m \u001B[32m━━━━━━━━━━━━━━━━━━━\u001B[0m\u001B[37m━\u001B[0m \u001B[1m0s\u001B[0m 3ms/step - loss: 0.5883 - m: 0.5912 - m_1: 0.3107 - m_2: 0.2381\n",
      "Epoch 2: val_loss improved from 0.60759 to 0.59903, saving model to best_model4.keras\n",
      "\u001B[1m262/262\u001B[0m \u001B[32m━━━━━━━━━━━━━━━━━━━━\u001B[0m\u001B[37m\u001B[0m \u001B[1m1s\u001B[0m 4ms/step - loss: 0.6011 - m: 0.6038 - m_1: 0.3785 - m_2: 0.3209 - val_loss: 0.5990 - val_m: 0.6288 - val_m_1: 0.1793 - val_m_2: 0.1876\n",
      "Epoch 3/25\n",
      "\u001B[1m253/262\u001B[0m \u001B[32m━━━━━━━━━━━━━━━━━━━\u001B[0m\u001B[37m━\u001B[0m \u001B[1m0s\u001B[0m 4ms/step - loss: 0.5666 - m: 0.5689 - m_1: 0.3030 - m_2: 0.2974\n",
      "Epoch 3: val_loss improved from 0.59903 to 0.57294, saving model to best_model4.keras\n",
      "\u001B[1m262/262\u001B[0m \u001B[32m━━━━━━━━━━━━━━━━━━━━\u001B[0m\u001B[37m\u001B[0m \u001B[1m1s\u001B[0m 5ms/step - loss: 0.5849 - m: 0.5874 - m_1: 0.3647 - m_2: 0.3333 - val_loss: 0.5729 - val_m: 0.6024 - val_m_1: 0.1773 - val_m_2: 0.1976\n",
      "Epoch 4/25\n",
      "\u001B[1m262/262\u001B[0m \u001B[32m━━━━━━━━━━━━━━━━━━━━\u001B[0m\u001B[37m\u001B[0m \u001B[1m0s\u001B[0m 4ms/step - loss: 0.5581 - m: 0.5603 - m_1: 0.2593 - m_2: 0.3636\n",
      "Epoch 4: val_loss improved from 0.57294 to 0.55632, saving model to best_model4.keras\n",
      "\u001B[1m262/262\u001B[0m \u001B[32m━━━━━━━━━━━━━━━━━━━━\u001B[0m\u001B[37m\u001B[0m \u001B[1m1s\u001B[0m 6ms/step - loss: 0.5695 - m: 0.5719 - m_1: 0.3059 - m_2: 0.3618 - val_loss: 0.5563 - val_m: 0.5854 - val_m_1: 0.1456 - val_m_2: 0.1809\n",
      "Epoch 5/25\n",
      "\u001B[1m259/262\u001B[0m \u001B[32m━━━━━━━━━━━━━━━━━━━\u001B[0m\u001B[37m━\u001B[0m \u001B[1m0s\u001B[0m 4ms/step - loss: 0.5361 - m: 0.5383 - m_1: 0.2895 - m_2: 0.2911\n",
      "Epoch 5: val_loss improved from 0.55632 to 0.53301, saving model to best_model4.keras\n",
      "\u001B[1m262/262\u001B[0m \u001B[32m━━━━━━━━━━━━━━━━━━━━\u001B[0m\u001B[37m\u001B[0m \u001B[1m1s\u001B[0m 5ms/step - loss: 0.5525 - m: 0.5548 - m_1: 0.3478 - m_2: 0.3670 - val_loss: 0.5330 - val_m: 0.5624 - val_m_1: 0.1270 - val_m_2: 0.1820\n",
      "Epoch 6/25\n",
      "\u001B[1m258/262\u001B[0m \u001B[32m━━━━━━━━━━━━━━━━━━━\u001B[0m\u001B[37m━\u001B[0m \u001B[1m0s\u001B[0m 4ms/step - loss: 0.5211 - m: 0.5234 - m_1: 0.2829 - m_2: 0.2526\n",
      "Epoch 6: val_loss improved from 0.53301 to 0.53075, saving model to best_model4.keras\n",
      "\u001B[1m262/262\u001B[0m \u001B[32m━━━━━━━━━━━━━━━━━━━━\u001B[0m\u001B[37m\u001B[0m \u001B[1m1s\u001B[0m 6ms/step - loss: 0.5432 - m: 0.5458 - m_1: 0.3354 - m_2: 0.3150 - val_loss: 0.5307 - val_m: 0.5631 - val_m_1: 0.1415 - val_m_2: 0.1894\n",
      "Epoch 7/25\n",
      "\u001B[1m257/262\u001B[0m \u001B[32m━━━━━━━━━━━━━━━━━━━\u001B[0m\u001B[37m━\u001B[0m \u001B[1m0s\u001B[0m 4ms/step - loss: 0.5065 - m: 0.5088 - m_1: 0.2424 - m_2: 0.2490\n",
      "Epoch 7: val_loss did not improve from 0.53075\n",
      "\u001B[1m262/262\u001B[0m \u001B[32m━━━━━━━━━━━━━━━━━━━━\u001B[0m\u001B[37m\u001B[0m \u001B[1m1s\u001B[0m 4ms/step - loss: 0.5320 - m: 0.5347 - m_1: 0.3074 - m_2: 0.2966 - val_loss: 0.5519 - val_m: 0.5882 - val_m_1: 0.1583 - val_m_2: 0.1710\n",
      "Epoch 8/25\n",
      "\u001B[1m246/262\u001B[0m \u001B[32m━━━━━━━━━━━━━━━━━━\u001B[0m\u001B[37m━━\u001B[0m \u001B[1m0s\u001B[0m 3ms/step - loss: 0.4945 - m: 0.4964 - m_1: 0.2510 - m_2: 0.3036\n",
      "Epoch 8: val_loss improved from 0.53075 to 0.52164, saving model to best_model4.keras\n",
      "\u001B[1m262/262\u001B[0m \u001B[32m━━━━━━━━━━━━━━━━━━━━\u001B[0m\u001B[37m\u001B[0m \u001B[1m1s\u001B[0m 4ms/step - loss: 0.5172 - m: 0.5197 - m_1: 0.2993 - m_2: 0.2814 - val_loss: 0.5216 - val_m: 0.5514 - val_m_1: 0.1290 - val_m_2: 0.1636\n",
      "Epoch 9/25\n",
      "\u001B[1m259/262\u001B[0m \u001B[32m━━━━━━━━━━━━━━━━━━━\u001B[0m\u001B[37m━\u001B[0m \u001B[1m0s\u001B[0m 3ms/step - loss: 0.4879 - m: 0.4901 - m_1: 0.2303 - m_2: 0.2610\n",
      "Epoch 9: val_loss improved from 0.52164 to 0.51633, saving model to best_model4.keras\n",
      "\u001B[1m262/262\u001B[0m \u001B[32m━━━━━━━━━━━━━━━━━━━━\u001B[0m\u001B[37m\u001B[0m \u001B[1m1s\u001B[0m 4ms/step - loss: 0.5103 - m: 0.5130 - m_1: 0.2743 - m_2: 0.2715 - val_loss: 0.5163 - val_m: 0.5464 - val_m_1: 0.1461 - val_m_2: 0.1633\n",
      "Epoch 10/25\n",
      "\u001B[1m257/262\u001B[0m \u001B[32m━━━━━━━━━━━━━━━━━━━\u001B[0m\u001B[37m━\u001B[0m \u001B[1m0s\u001B[0m 4ms/step - loss: 0.4746 - m: 0.4767 - m_1: 0.2287 - m_2: 0.2429\n",
      "Epoch 10: val_loss improved from 0.51633 to 0.50192, saving model to best_model4.keras\n",
      "\u001B[1m262/262\u001B[0m \u001B[32m━━━━━━━━━━━━━━━━━━━━\u001B[0m\u001B[37m\u001B[0m \u001B[1m1s\u001B[0m 5ms/step - loss: 0.5014 - m: 0.5041 - m_1: 0.2870 - m_2: 0.2994 - val_loss: 0.5019 - val_m: 0.5323 - val_m_1: 0.1335 - val_m_2: 0.1662\n",
      "Epoch 11/25\n",
      "\u001B[1m257/262\u001B[0m \u001B[32m━━━━━━━━━━━━━━━━━━━\u001B[0m\u001B[37m━\u001B[0m \u001B[1m0s\u001B[0m 4ms/step - loss: 0.4680 - m: 0.4703 - m_1: 0.2143 - m_2: 0.2725\n",
      "Epoch 11: val_loss did not improve from 0.50192\n",
      "\u001B[1m262/262\u001B[0m \u001B[32m━━━━━━━━━━━━━━━━━━━━\u001B[0m\u001B[37m\u001B[0m \u001B[1m1s\u001B[0m 5ms/step - loss: 0.4978 - m: 0.5006 - m_1: 0.2647 - m_2: 0.2977 - val_loss: 0.5251 - val_m: 0.5532 - val_m_1: 0.1117 - val_m_2: 0.1687\n",
      "Epoch 12/25\n",
      "\u001B[1m252/262\u001B[0m \u001B[32m━━━━━━━━━━━━━━━━━━━\u001B[0m\u001B[37m━\u001B[0m \u001B[1m0s\u001B[0m 5ms/step - loss: 0.4632 - m: 0.4651 - m_1: 0.2351 - m_2: 0.2190\n",
      "Epoch 12: val_loss improved from 0.50192 to 0.49386, saving model to best_model4.keras\n",
      "\u001B[1m262/262\u001B[0m \u001B[32m━━━━━━━━━━━━━━━━━━━━\u001B[0m\u001B[37m\u001B[0m \u001B[1m2s\u001B[0m 6ms/step - loss: 0.4870 - m: 0.4895 - m_1: 0.2927 - m_2: 0.2469 - val_loss: 0.4939 - val_m: 0.5248 - val_m_1: 0.1260 - val_m_2: 0.1753\n",
      "Epoch 13/25\n",
      "\u001B[1m260/262\u001B[0m \u001B[32m━━━━━━━━━━━━━━━━━━━\u001B[0m\u001B[37m━\u001B[0m \u001B[1m0s\u001B[0m 4ms/step - loss: 0.4525 - m: 0.4543 - m_1: 0.2262 - m_2: 0.2748\n",
      "Epoch 13: val_loss did not improve from 0.49386\n",
      "\u001B[1m262/262\u001B[0m \u001B[32m━━━━━━━━━━━━━━━━━━━━\u001B[0m\u001B[37m\u001B[0m \u001B[1m1s\u001B[0m 4ms/step - loss: 0.4811 - m: 0.4835 - m_1: 0.3008 - m_2: 0.2625 - val_loss: 0.5372 - val_m: 0.5630 - val_m_1: 0.1506 - val_m_2: 0.1626\n",
      "Epoch 14/25\n",
      "\u001B[1m261/262\u001B[0m \u001B[32m━━━━━━━━━━━━━━━━━━━\u001B[0m\u001B[37m━\u001B[0m \u001B[1m0s\u001B[0m 3ms/step - loss: 0.4527 - m: 0.4549 - m_1: 0.2073 - m_2: 0.2428\n",
      "Epoch 14: val_loss improved from 0.49386 to 0.48486, saving model to best_model4.keras\n",
      "\u001B[1m262/262\u001B[0m \u001B[32m━━━━━━━━━━━━━━━━━━━━\u001B[0m\u001B[37m\u001B[0m \u001B[1m1s\u001B[0m 4ms/step - loss: 0.4788 - m: 0.4815 - m_1: 0.2771 - m_2: 0.2534 - val_loss: 0.4849 - val_m: 0.5168 - val_m_1: 0.1089 - val_m_2: 0.1596\n",
      "Epoch 15/25\n",
      "\u001B[1m258/262\u001B[0m \u001B[32m━━━━━━━━━━━━━━━━━━━\u001B[0m\u001B[37m━\u001B[0m \u001B[1m0s\u001B[0m 3ms/step - loss: 0.4453 - m: 0.4475 - m_1: 0.2153 - m_2: 0.2177\n",
      "Epoch 15: val_loss did not improve from 0.48486\n",
      "\u001B[1m262/262\u001B[0m \u001B[32m━━━━━━━━━━━━━━━━━━━━\u001B[0m\u001B[37m\u001B[0m \u001B[1m1s\u001B[0m 4ms/step - loss: 0.4727 - m: 0.4754 - m_1: 0.2721 - m_2: 0.2538 - val_loss: 0.4998 - val_m: 0.5290 - val_m_1: 0.1083 - val_m_2: 0.1638\n",
      "Epoch 16/25\n",
      "\u001B[1m258/262\u001B[0m \u001B[32m━━━━━━━━━━━━━━━━━━━\u001B[0m\u001B[37m━\u001B[0m \u001B[1m0s\u001B[0m 3ms/step - loss: 0.4423 - m: 0.4441 - m_1: 0.2106 - m_2: 0.2692\n",
      "Epoch 16: val_loss did not improve from 0.48486\n",
      "\u001B[1m262/262\u001B[0m \u001B[32m━━━━━━━━━━━━━━━━━━━━\u001B[0m\u001B[37m\u001B[0m \u001B[1m1s\u001B[0m 4ms/step - loss: 0.4695 - m: 0.4719 - m_1: 0.2620 - m_2: 0.2515 - val_loss: 0.4859 - val_m: 0.5165 - val_m_1: 0.1267 - val_m_2: 0.1683\n",
      "Epoch 17/25\n",
      "\u001B[1m262/262\u001B[0m \u001B[32m━━━━━━━━━━━━━━━━━━━━\u001B[0m\u001B[37m\u001B[0m \u001B[1m0s\u001B[0m 4ms/step - loss: 0.4350 - m: 0.4372 - m_1: 0.2062 - m_2: 0.1436\n",
      "Epoch 17: val_loss improved from 0.48486 to 0.48371, saving model to best_model4.keras\n",
      "\u001B[1m262/262\u001B[0m \u001B[32m━━━━━━━━━━━━━━━━━━━━\u001B[0m\u001B[37m\u001B[0m \u001B[1m1s\u001B[0m 4ms/step - loss: 0.4648 - m: 0.4675 - m_1: 0.2604 - m_2: 0.2097 - val_loss: 0.4837 - val_m: 0.5135 - val_m_1: 0.1220 - val_m_2: 0.1740\n",
      "Epoch 18/25\n",
      "\u001B[1m261/262\u001B[0m \u001B[32m━━━━━━━━━━━━━━━━━━━\u001B[0m\u001B[37m━\u001B[0m \u001B[1m0s\u001B[0m 3ms/step - loss: 0.4397 - m: 0.4416 - m_1: 0.2396 - m_2: 0.2272\n",
      "Epoch 18: val_loss did not improve from 0.48371\n",
      "\u001B[1m262/262\u001B[0m \u001B[32m━━━━━━━━━━━━━━━━━━━━\u001B[0m\u001B[37m\u001B[0m \u001B[1m1s\u001B[0m 4ms/step - loss: 0.4641 - m: 0.4661 - m_1: 0.2931 - m_2: 0.2834 - val_loss: 0.5026 - val_m: 0.5309 - val_m_1: 0.1087 - val_m_2: 0.1628\n",
      "Epoch 19/25\n",
      "\u001B[1m254/262\u001B[0m \u001B[32m━━━━━━━━━━━━━━━━━━━\u001B[0m\u001B[37m━\u001B[0m \u001B[1m0s\u001B[0m 4ms/step - loss: 0.4339 - m: 0.4359 - m_1: 0.2174 - m_2: 0.2482\n",
      "Epoch 19: val_loss improved from 0.48371 to 0.46888, saving model to best_model4.keras\n",
      "\u001B[1m262/262\u001B[0m \u001B[32m━━━━━━━━━━━━━━━━━━━━\u001B[0m\u001B[37m\u001B[0m \u001B[1m1s\u001B[0m 5ms/step - loss: 0.4634 - m: 0.4659 - m_1: 0.2764 - m_2: 0.2715 - val_loss: 0.4689 - val_m: 0.4990 - val_m_1: 0.0963 - val_m_2: 0.1667\n",
      "Epoch 20/25\n",
      "\u001B[1m255/262\u001B[0m \u001B[32m━━━━━━━━━━━━━━━━━━━\u001B[0m\u001B[37m━\u001B[0m \u001B[1m0s\u001B[0m 4ms/step - loss: 0.4277 - m: 0.4297 - m_1: 0.1947 - m_2: 0.2526\n",
      "Epoch 20: val_loss did not improve from 0.46888\n",
      "\u001B[1m262/262\u001B[0m \u001B[32m━━━━━━━━━━━━━━━━━━━━\u001B[0m\u001B[37m\u001B[0m \u001B[1m1s\u001B[0m 5ms/step - loss: 0.4567 - m: 0.4590 - m_1: 0.2574 - m_2: 0.2671 - val_loss: 0.4759 - val_m: 0.5089 - val_m_1: 0.1153 - val_m_2: 0.1609\n",
      "Epoch 21/25\n",
      "\u001B[1m252/262\u001B[0m \u001B[32m━━━━━━━━━━━━━━━━━━━\u001B[0m\u001B[37m━\u001B[0m \u001B[1m0s\u001B[0m 3ms/step - loss: 0.4207 - m: 0.4226 - m_1: 0.2059 - m_2: 0.2197\n",
      "Epoch 21: val_loss improved from 0.46888 to 0.46559, saving model to best_model4.keras\n",
      "\u001B[1m262/262\u001B[0m \u001B[32m━━━━━━━━━━━━━━━━━━━━\u001B[0m\u001B[37m\u001B[0m \u001B[1m1s\u001B[0m 5ms/step - loss: 0.4499 - m: 0.4522 - m_1: 0.2637 - m_2: 0.2819 - val_loss: 0.4656 - val_m: 0.4968 - val_m_1: 0.0877 - val_m_2: 0.1724\n",
      "Epoch 22/25\n",
      "\u001B[1m254/262\u001B[0m \u001B[32m━━━━━━━━━━━━━━━━━━━\u001B[0m\u001B[37m━\u001B[0m \u001B[1m0s\u001B[0m 3ms/step - loss: 0.4182 - m: 0.4202 - m_1: 0.2085 - m_2: 0.1809\n",
      "Epoch 22: val_loss did not improve from 0.46559\n",
      "\u001B[1m262/262\u001B[0m \u001B[32m━━━━━━━━━━━━━━━━━━━━\u001B[0m\u001B[37m\u001B[0m \u001B[1m1s\u001B[0m 4ms/step - loss: 0.4470 - m: 0.4493 - m_1: 0.2759 - m_2: 0.2104 - val_loss: 0.4685 - val_m: 0.4986 - val_m_1: 0.1095 - val_m_2: 0.1641\n",
      "Epoch 23/25\n",
      "\u001B[1m249/262\u001B[0m \u001B[32m━━━━━━━━━━━━━━━━━━━\u001B[0m\u001B[37m━\u001B[0m \u001B[1m0s\u001B[0m 4ms/step - loss: 0.4127 - m: 0.4145 - m_1: 0.2047 - m_2: 0.2117\n",
      "Epoch 23: val_loss improved from 0.46559 to 0.46367, saving model to best_model4.keras\n",
      "\u001B[1m262/262\u001B[0m \u001B[32m━━━━━━━━━━━━━━━━━━━━\u001B[0m\u001B[37m\u001B[0m \u001B[1m1s\u001B[0m 5ms/step - loss: 0.4458 - m: 0.4479 - m_1: 0.2570 - m_2: 0.2537 - val_loss: 0.4637 - val_m: 0.4957 - val_m_1: 0.1051 - val_m_2: 0.1576\n",
      "Epoch 24/25\n",
      "\u001B[1m259/262\u001B[0m \u001B[32m━━━━━━━━━━━━━━━━━━━\u001B[0m\u001B[37m━\u001B[0m \u001B[1m0s\u001B[0m 4ms/step - loss: 0.4137 - m: 0.4158 - m_1: 0.2084 - m_2: 0.2226\n",
      "Epoch 24: val_loss did not improve from 0.46367\n",
      "\u001B[1m262/262\u001B[0m \u001B[32m━━━━━━━━━━━━━━━━━━━━\u001B[0m\u001B[37m\u001B[0m \u001B[1m1s\u001B[0m 5ms/step - loss: 0.4443 - m: 0.4465 - m_1: 0.2723 - m_2: 0.2731 - val_loss: 0.4878 - val_m: 0.5155 - val_m_1: 0.1054 - val_m_2: 0.1762\n",
      "Epoch 25/25\n",
      "\u001B[1m251/262\u001B[0m \u001B[32m━━━━━━━━━━━━━━━━━━━\u001B[0m\u001B[37m━\u001B[0m \u001B[1m0s\u001B[0m 4ms/step - loss: 0.4128 - m: 0.4146 - m_1: 0.2180 - m_2: 0.2472\n",
      "Epoch 25: val_loss did not improve from 0.46367\n",
      "\u001B[1m262/262\u001B[0m \u001B[32m━━━━━━━━━━━━━━━━━━━━\u001B[0m\u001B[37m\u001B[0m \u001B[1m1s\u001B[0m 4ms/step - loss: 0.4395 - m: 0.4418 - m_1: 0.2744 - m_2: 0.2417 - val_loss: 0.4919 - val_m: 0.5220 - val_m_1: 0.1026 - val_m_2: 0.1756\n",
      "////////////////////\n",
      "\u001B[1m69/77\u001B[0m \u001B[32m━━━━━━━━━━━━━━━━━\u001B[0m\u001B[37m━━━\u001B[0m \u001B[1m0s\u001B[0m 4ms/step - loss: 1.0375 - m: 1.0517 - m_1: 0.3471 - m_2: 0.2160"
     ]
    },
    {
     "name": "stderr",
     "output_type": "stream",
     "text": [
      "2025-10-30 20:07:48.069025: I external/local_xla/xla/service/gpu/autotuning/dot_search_space.cc:208] All configs were filtered out because none of them sufficiently match the hints. Maybe the hints set does not contain a good representative set of valid configs? Working around this by using the full hints set instead.\n",
      "2025-10-30 20:07:48.465234: I external/local_xla/xla/stream_executor/cuda/subprocess_compilation.cc:346] ptxas warning : Registers are spilled to local memory in function 'gemm_fusion_dot_125', 12 bytes spill stores, 12 bytes spill loads\n",
      "\n",
      "2025-10-30 20:07:48.520081: I external/local_xla/xla/stream_executor/cuda/subprocess_compilation.cc:346] ptxas warning : Registers are spilled to local memory in function 'gemm_fusion_dot_125', 8 bytes spill stores, 8 bytes spill loads\n",
      "\n",
      "2025-10-30 20:07:48.575147: I external/local_xla/xla/stream_executor/cuda/subprocess_compilation.cc:346] ptxas warning : Registers are spilled to local memory in function 'gemm_fusion_dot_125', 116 bytes spill stores, 116 bytes spill loads\n",
      "\n"
     ]
    },
    {
     "name": "stdout",
     "output_type": "stream",
     "text": [
      "\u001B[1m77/77\u001B[0m \u001B[32m━━━━━━━━━━━━━━━━━━━━\u001B[0m\u001B[37m\u001B[0m \u001B[1m2s\u001B[0m 17ms/step - loss: 0.8365 - m: 0.8565 - m_1: 0.1684 - m_2: 0.1937\n",
      "////////////////////\n",
      "Training model5 ...\n",
      "Epoch 1/25\n"
     ]
    },
    {
     "name": "stderr",
     "output_type": "stream",
     "text": [
      "2025-10-30 20:07:50.817073: I external/local_xla/xla/service/gpu/autotuning/dot_search_space.cc:208] All configs were filtered out because none of them sufficiently match the hints. Maybe the hints set does not contain a good representative set of valid configs? Working around this by using the full hints set instead.\n",
      "2025-10-30 20:07:50.817135: I external/local_xla/xla/service/gpu/autotuning/dot_search_space.cc:208] All configs were filtered out because none of them sufficiently match the hints. Maybe the hints set does not contain a good representative set of valid configs? Working around this by using the full hints set instead.\n",
      "2025-10-30 20:07:50.817145: I external/local_xla/xla/service/gpu/autotuning/dot_search_space.cc:208] All configs were filtered out because none of them sufficiently match the hints. Maybe the hints set does not contain a good representative set of valid configs? Working around this by using the full hints set instead.\n",
      "2025-10-30 20:07:51.482368: I external/local_xla/xla/stream_executor/cuda/subprocess_compilation.cc:346] ptxas warning : Registers are spilled to local memory in function 'gemm_fusion_dot_810', 128 bytes spill stores, 128 bytes spill loads\n",
      "\n",
      "2025-10-30 20:07:51.515630: I external/local_xla/xla/stream_executor/cuda/subprocess_compilation.cc:346] ptxas warning : Registers are spilled to local memory in function 'gemm_fusion_dot_691', 424 bytes spill stores, 440 bytes spill loads\n",
      "\n",
      "2025-10-30 20:07:51.872136: I external/local_xla/xla/stream_executor/cuda/subprocess_compilation.cc:346] ptxas warning : Registers are spilled to local memory in function 'gemm_fusion_dot_911', 1048 bytes spill stores, 1048 bytes spill loads\n",
      "\n",
      "2025-10-30 20:07:51.892191: I external/local_xla/xla/stream_executor/cuda/subprocess_compilation.cc:346] ptxas warning : Registers are spilled to local memory in function 'gemm_fusion_dot_911', 72 bytes spill stores, 72 bytes spill loads\n",
      "\n"
     ]
    },
    {
     "name": "stdout",
     "output_type": "stream",
     "text": [
      "\u001B[1m261/262\u001B[0m \u001B[32m━━━━━━━━━━━━━━━━━━━\u001B[0m\u001B[37m━\u001B[0m \u001B[1m0s\u001B[0m 14ms/step - loss: 0.7160 - m: 0.7202 - m_1: 0.2988 - m_2: 0.2757"
     ]
    },
    {
     "name": "stderr",
     "output_type": "stream",
     "text": [
      "2025-10-30 20:08:00.051827: I external/local_xla/xla/service/gpu/autotuning/dot_search_space.cc:208] All configs were filtered out because none of them sufficiently match the hints. Maybe the hints set does not contain a good representative set of valid configs? Working around this by using the full hints set instead.\n",
      "2025-10-30 20:08:00.051944: I external/local_xla/xla/service/gpu/autotuning/dot_search_space.cc:208] All configs were filtered out because none of them sufficiently match the hints. Maybe the hints set does not contain a good representative set of valid configs? Working around this by using the full hints set instead.\n",
      "2025-10-30 20:08:00.804746: I external/local_xla/xla/stream_executor/cuda/subprocess_compilation.cc:346] ptxas warning : Registers are spilled to local memory in function 'gemm_fusion_dot_691', 424 bytes spill stores, 440 bytes spill loads\n",
      "\n",
      "2025-10-30 20:08:00.817192: I external/local_xla/xla/stream_executor/cuda/subprocess_compilation.cc:346] ptxas warning : Registers are spilled to local memory in function 'gemm_fusion_dot_911', 72 bytes spill stores, 72 bytes spill loads\n",
      "\n"
     ]
    },
    {
     "name": "stdout",
     "output_type": "stream",
     "text": [
      "\u001B[1m262/262\u001B[0m \u001B[32m━━━━━━━━━━━━━━━━━━━━\u001B[0m\u001B[37m\u001B[0m \u001B[1m0s\u001B[0m 25ms/step - loss: 0.7160 - m: 0.7203 - m_1: 0.2988 - m_2: 0.2759"
     ]
    },
    {
     "name": "stderr",
     "output_type": "stream",
     "text": [
      "2025-10-30 20:08:03.965906: I external/local_xla/xla/service/gpu/autotuning/dot_search_space.cc:208] All configs were filtered out because none of them sufficiently match the hints. Maybe the hints set does not contain a good representative set of valid configs? Working around this by using the full hints set instead.\n",
      "2025-10-30 20:08:04.353708: I external/local_xla/xla/stream_executor/cuda/subprocess_compilation.cc:346] ptxas warning : Registers are spilled to local memory in function 'gemm_fusion_dot_189', 36 bytes spill stores, 36 bytes spill loads\n",
      "\n",
      "2025-10-30 20:08:04.447129: I external/local_xla/xla/stream_executor/cuda/subprocess_compilation.cc:346] ptxas warning : Registers are spilled to local memory in function 'gemm_fusion_dot_189', 176 bytes spill stores, 176 bytes spill loads\n",
      "\n"
     ]
    },
    {
     "name": "stdout",
     "output_type": "stream",
     "text": [
      "\n",
      "Epoch 1: val_loss improved from None to 0.66695, saving model to best_model5.keras\n",
      "\u001B[1m262/262\u001B[0m \u001B[32m━━━━━━━━━━━━━━━━━━━━\u001B[0m\u001B[37m\u001B[0m \u001B[1m16s\u001B[0m 34ms/step - loss: 0.7210 - m: 0.7271 - m_1: 0.3106 - m_2: 0.3165 - val_loss: 0.6670 - val_m: 0.6973 - val_m_1: 0.1170 - val_m_2: 0.1701\n",
      "Epoch 2/25\n",
      "\u001B[1m261/262\u001B[0m \u001B[32m━━━━━━━━━━━━━━━━━━━\u001B[0m\u001B[37m━\u001B[0m \u001B[1m0s\u001B[0m 12ms/step - loss: 0.7308 - m: 0.7363 - m_1: 0.2309 - m_2: 0.2474\n",
      "Epoch 2: val_loss improved from 0.66695 to 0.66451, saving model to best_model5.keras\n",
      "\u001B[1m262/262\u001B[0m \u001B[32m━━━━━━━━━━━━━━━━━━━━\u001B[0m\u001B[37m\u001B[0m \u001B[1m3s\u001B[0m 13ms/step - loss: 0.7242 - m: 0.7309 - m_1: 0.2757 - m_2: 0.2641 - val_loss: 0.6645 - val_m: 0.6948 - val_m_1: 0.0995 - val_m_2: 0.1694\n",
      "Epoch 3/25\n",
      "\u001B[1m258/262\u001B[0m \u001B[32m━━━━━━━━━━━━━━━━━━━\u001B[0m\u001B[37m━\u001B[0m \u001B[1m0s\u001B[0m 12ms/step - loss: 0.7336 - m: 0.7393 - m_1: 0.2004 - m_2: 0.2263\n",
      "Epoch 3: val_loss did not improve from 0.66451\n",
      "\u001B[1m262/262\u001B[0m \u001B[32m━━━━━━━━━━━━━━━━━━━━\u001B[0m\u001B[37m\u001B[0m \u001B[1m3s\u001B[0m 13ms/step - loss: 0.7240 - m: 0.7307 - m_1: 0.2676 - m_2: 0.2784 - val_loss: 0.6668 - val_m: 0.6976 - val_m_1: 0.0997 - val_m_2: 0.1695\n",
      "Epoch 4/25\n",
      "\u001B[1m262/262\u001B[0m \u001B[32m━━━━━━━━━━━━━━━━━━━━\u001B[0m\u001B[37m\u001B[0m \u001B[1m0s\u001B[0m 12ms/step - loss: 0.7217 - m: 0.7279 - m_1: 0.2010 - m_2: 0.2589\n",
      "Epoch 4: val_loss did not improve from 0.66451\n",
      "\u001B[1m262/262\u001B[0m \u001B[32m━━━━━━━━━━━━━━━━━━━━\u001B[0m\u001B[37m\u001B[0m \u001B[1m4s\u001B[0m 14ms/step - loss: 0.7105 - m: 0.7168 - m_1: 0.2658 - m_2: 0.2858 - val_loss: 0.7117 - val_m: 0.7451 - val_m_1: 0.1040 - val_m_2: 0.1671\n",
      "Epoch 5/25\n",
      "\u001B[1m258/262\u001B[0m \u001B[32m━━━━━━━━━━━━━━━━━━━\u001B[0m\u001B[37m━\u001B[0m \u001B[1m0s\u001B[0m 12ms/step - loss: 0.6893 - m: 0.6946 - m_1: 0.2597 - m_2: 0.2176\n",
      "Epoch 5: val_loss did not improve from 0.66451\n",
      "\u001B[1m262/262\u001B[0m \u001B[32m━━━━━━━━━━━━━━━━━━━━\u001B[0m\u001B[37m\u001B[0m \u001B[1m4s\u001B[0m 14ms/step - loss: 0.6864 - m: 0.6924 - m_1: 0.3075 - m_2: 0.2737 - val_loss: 0.6652 - val_m: 0.6972 - val_m_1: 0.1046 - val_m_2: 0.1649\n",
      "Epoch 6/25\n",
      "\u001B[1m259/262\u001B[0m \u001B[32m━━━━━━━━━━━━━━━━━━━\u001B[0m\u001B[37m━\u001B[0m \u001B[1m0s\u001B[0m 13ms/step - loss: 0.6822 - m: 0.6872 - m_1: 0.2191 - m_2: 0.2317\n",
      "Epoch 6: val_loss did not improve from 0.66451\n",
      "\u001B[1m262/262\u001B[0m \u001B[32m━━━━━━━━━━━━━━━━━━━━\u001B[0m\u001B[37m\u001B[0m \u001B[1m4s\u001B[0m 14ms/step - loss: 0.6779 - m: 0.6838 - m_1: 0.2898 - m_2: 0.2868 - val_loss: 0.6677 - val_m: 0.7001 - val_m_1: 0.1024 - val_m_2: 0.1664\n",
      "Epoch 7/25\n",
      "\u001B[1m258/262\u001B[0m \u001B[32m━━━━━━━━━━━━━━━━━━━\u001B[0m\u001B[37m━\u001B[0m \u001B[1m0s\u001B[0m 13ms/step - loss: 0.6733 - m: 0.6783 - m_1: 0.2036 - m_2: 0.2302\n",
      "Epoch 7: val_loss improved from 0.66451 to 0.66209, saving model to best_model5.keras\n",
      "\u001B[1m262/262\u001B[0m \u001B[32m━━━━━━━━━━━━━━━━━━━━\u001B[0m\u001B[37m\u001B[0m \u001B[1m4s\u001B[0m 14ms/step - loss: 0.6717 - m: 0.6780 - m_1: 0.2887 - m_2: 0.2896 - val_loss: 0.6621 - val_m: 0.6933 - val_m_1: 0.1016 - val_m_2: 0.1690\n",
      "Epoch 8/25\n",
      "\u001B[1m259/262\u001B[0m \u001B[32m━━━━━━━━━━━━━━━━━━━\u001B[0m\u001B[37m━\u001B[0m \u001B[1m0s\u001B[0m 14ms/step - loss: 0.6463 - m: 0.6508 - m_1: 0.2220 - m_2: 0.3010\n",
      "Epoch 8: val_loss did not improve from 0.66209\n",
      "\u001B[1m262/262\u001B[0m \u001B[32m━━━━━━━━━━━━━━━━━━━━\u001B[0m\u001B[37m\u001B[0m \u001B[1m4s\u001B[0m 16ms/step - loss: 0.6589 - m: 0.6647 - m_1: 0.2659 - m_2: 0.3150 - val_loss: 0.6633 - val_m: 0.6951 - val_m_1: 0.1012 - val_m_2: 0.1698\n",
      "Epoch 9/25\n",
      "\u001B[1m259/262\u001B[0m \u001B[32m━━━━━━━━━━━━━━━━━━━\u001B[0m\u001B[37m━\u001B[0m \u001B[1m0s\u001B[0m 14ms/step - loss: 0.6277 - m: 0.6322 - m_1: 0.1901 - m_2: 0.1963\n",
      "Epoch 9: val_loss did not improve from 0.66209\n",
      "\u001B[1m262/262\u001B[0m \u001B[32m━━━━━━━━━━━━━━━━━━━━\u001B[0m\u001B[37m\u001B[0m \u001B[1m4s\u001B[0m 16ms/step - loss: 0.6502 - m: 0.6561 - m_1: 0.2799 - m_2: 0.2593 - val_loss: 0.6734 - val_m: 0.7057 - val_m_1: 0.1005 - val_m_2: 0.1702\n",
      "Epoch 10/25\n",
      "\u001B[1m258/262\u001B[0m \u001B[32m━━━━━━━━━━━━━━━━━━━\u001B[0m\u001B[37m━\u001B[0m \u001B[1m0s\u001B[0m 13ms/step - loss: 0.6189 - m: 0.6235 - m_1: 0.1989 - m_2: 0.2234\n",
      "Epoch 10: val_loss did not improve from 0.66209\n",
      "\u001B[1m262/262\u001B[0m \u001B[32m━━━━━━━━━━━━━━━━━━━━\u001B[0m\u001B[37m\u001B[0m \u001B[1m4s\u001B[0m 14ms/step - loss: 0.6444 - m: 0.6500 - m_1: 0.2647 - m_2: 0.2767 - val_loss: 0.6665 - val_m: 0.6983 - val_m_1: 0.1023 - val_m_2: 0.1722\n",
      "Epoch 11/25\n",
      "\u001B[1m258/262\u001B[0m \u001B[32m━━━━━━━━━━━━━━━━━━━\u001B[0m\u001B[37m━\u001B[0m \u001B[1m0s\u001B[0m 13ms/step - loss: 0.6281 - m: 0.6327 - m_1: 0.1934 - m_2: 0.2455\n",
      "Epoch 11: val_loss did not improve from 0.66209\n",
      "\u001B[1m262/262\u001B[0m \u001B[32m━━━━━━━━━━━━━━━━━━━━\u001B[0m\u001B[37m\u001B[0m \u001B[1m4s\u001B[0m 14ms/step - loss: 0.6472 - m: 0.6529 - m_1: 0.2646 - m_2: 0.2755 - val_loss: 0.6689 - val_m: 0.7004 - val_m_1: 0.1015 - val_m_2: 0.1703\n",
      "Epoch 12/25\n",
      "\u001B[1m258/262\u001B[0m \u001B[32m━━━━━━━━━━━━━━━━━━━\u001B[0m\u001B[37m━\u001B[0m \u001B[1m0s\u001B[0m 13ms/step - loss: 0.6296 - m: 0.6344 - m_1: 0.1827 - m_2: 0.2306\n",
      "Epoch 12: val_loss did not improve from 0.66209\n",
      "\u001B[1m262/262\u001B[0m \u001B[32m━━━━━━━━━━━━━━━━━━━━\u001B[0m\u001B[37m\u001B[0m \u001B[1m4s\u001B[0m 14ms/step - loss: 0.6425 - m: 0.6478 - m_1: 0.2580 - m_2: 0.2676 - val_loss: 0.6653 - val_m: 0.6968 - val_m_1: 0.1031 - val_m_2: 0.1703\n",
      "////////////////////\n",
      "\u001B[1m70/77\u001B[0m \u001B[32m━━━━━━━━━━━━━━━━━━\u001B[0m\u001B[37m━━\u001B[0m \u001B[1m0s\u001B[0m 4ms/step - loss: 1.1353 - m: 1.1464 - m_1: 0.3255 - m_2: 0.1998"
     ]
    },
    {
     "name": "stderr",
     "output_type": "stream",
     "text": [
      "2025-10-30 20:08:47.724514: I external/local_xla/xla/service/gpu/autotuning/dot_search_space.cc:208] All configs were filtered out because none of them sufficiently match the hints. Maybe the hints set does not contain a good representative set of valid configs? Working around this by using the full hints set instead.\n",
      "2025-10-30 20:08:48.141929: I external/local_xla/xla/stream_executor/cuda/subprocess_compilation.cc:346] ptxas warning : Registers are spilled to local memory in function 'gemm_fusion_dot_189', 36 bytes spill stores, 36 bytes spill loads\n",
      "\n",
      "2025-10-30 20:08:48.254832: I external/local_xla/xla/stream_executor/cuda/subprocess_compilation.cc:346] ptxas warning : Registers are spilled to local memory in function 'gemm_fusion_dot_189', 176 bytes spill stores, 176 bytes spill loads\n",
      "\n"
     ]
    },
    {
     "name": "stdout",
     "output_type": "stream",
     "text": [
      "\u001B[1m77/77\u001B[0m \u001B[32m━━━━━━━━━━━━━━━━━━━━\u001B[0m\u001B[37m\u001B[0m \u001B[1m2s\u001B[0m 23ms/step - loss: 0.8979 - m: 0.9119 - m_1: 0.1447 - m_2: 0.1989\n",
      "////////////////////\n",
      "Training model6 ...\n",
      "Epoch 1/25\n"
     ]
    },
    {
     "name": "stderr",
     "output_type": "stream",
     "text": [
      "2025-10-30 20:08:50.816841: I external/local_xla/xla/service/gpu/autotuning/dot_search_space.cc:208] All configs were filtered out because none of them sufficiently match the hints. Maybe the hints set does not contain a good representative set of valid configs? Working around this by using the full hints set instead.\n",
      "2025-10-30 20:08:50.816937: I external/local_xla/xla/service/gpu/autotuning/dot_search_space.cc:208] All configs were filtered out because none of them sufficiently match the hints. Maybe the hints set does not contain a good representative set of valid configs? Working around this by using the full hints set instead.\n",
      "2025-10-30 20:08:51.134899: I external/local_xla/xla/stream_executor/cuda/subprocess_compilation.cc:346] ptxas warning : Registers are spilled to local memory in function 'gemm_fusion_dot_1018', 8 bytes spill stores, 8 bytes spill loads\n",
      "\n"
     ]
    },
    {
     "name": "stdout",
     "output_type": "stream",
     "text": [
      "\u001B[1m259/262\u001B[0m \u001B[32m━━━━━━━━━━━━━━━━━━━\u001B[0m\u001B[37m━\u001B[0m \u001B[1m0s\u001B[0m 14ms/step - loss: 0.6345 - m: 0.6384 - m_1: 0.2403 - m_2: 0.2639"
     ]
    },
    {
     "name": "stderr",
     "output_type": "stream",
     "text": [
      "2025-10-30 20:08:58.215710: I external/local_xla/xla/service/gpu/autotuning/dot_search_space.cc:208] All configs were filtered out because none of them sufficiently match the hints. Maybe the hints set does not contain a good representative set of valid configs? Working around this by using the full hints set instead.\n",
      "2025-10-30 20:08:58.215783: I external/local_xla/xla/service/gpu/autotuning/dot_search_space.cc:208] All configs were filtered out because none of them sufficiently match the hints. Maybe the hints set does not contain a good representative set of valid configs? Working around this by using the full hints set instead.\n",
      "2025-10-30 20:08:58.215794: I external/local_xla/xla/service/gpu/autotuning/dot_search_space.cc:208] All configs were filtered out because none of them sufficiently match the hints. Maybe the hints set does not contain a good representative set of valid configs? Working around this by using the full hints set instead.\n",
      "2025-10-30 20:08:58.748884: I external/local_xla/xla/stream_executor/cuda/subprocess_compilation.cc:346] ptxas warning : Registers are spilled to local memory in function 'gemm_fusion_dot_1018', 8 bytes spill stores, 8 bytes spill loads\n",
      "\n",
      "2025-10-30 20:09:00.026927: I external/local_xla/xla/stream_executor/cuda/subprocess_compilation.cc:346] ptxas warning : Registers are spilled to local memory in function 'gemm_fusion_dot_1437', 64 bytes spill stores, 64 bytes spill loads\n",
      "\n"
     ]
    },
    {
     "name": "stdout",
     "output_type": "stream",
     "text": [
      "\u001B[1m262/262\u001B[0m \u001B[32m━━━━━━━━━━━━━━━━━━━━\u001B[0m\u001B[37m\u001B[0m \u001B[1m0s\u001B[0m 30ms/step - loss: 0.6341 - m: 0.6380 - m_1: 0.2411 - m_2: 0.2639"
     ]
    },
    {
     "name": "stderr",
     "output_type": "stream",
     "text": [
      "2025-10-30 20:09:03.584342: I external/local_xla/xla/service/gpu/autotuning/dot_search_space.cc:208] All configs were filtered out because none of them sufficiently match the hints. Maybe the hints set does not contain a good representative set of valid configs? Working around this by using the full hints set instead.\n",
      "2025-10-30 20:09:03.985622: I external/local_xla/xla/stream_executor/cuda/subprocess_compilation.cc:346] ptxas warning : Registers are spilled to local memory in function 'gemm_fusion_dot_230', 12 bytes spill stores, 12 bytes spill loads\n",
      "\n"
     ]
    },
    {
     "name": "stdout",
     "output_type": "stream",
     "text": [
      "\n",
      "Epoch 1: val_loss improved from None to 0.77988, saving model to best_model6.keras\n",
      "\u001B[1m262/262\u001B[0m \u001B[32m━━━━━━━━━━━━━━━━━━━━\u001B[0m\u001B[37m\u001B[0m \u001B[1m16s\u001B[0m 42ms/step - loss: 0.5975 - m: 0.6011 - m_1: 0.3079 - m_2: 0.2652 - val_loss: 0.7799 - val_m: 0.8015 - val_m_1: 0.1815 - val_m_2: 0.1672\n",
      "Epoch 2/25\n",
      "\u001B[1m260/262\u001B[0m \u001B[32m━━━━━━━━━━━━━━━━━━━\u001B[0m\u001B[37m━\u001B[0m \u001B[1m0s\u001B[0m 16ms/step - loss: 0.5450 - m: 0.5480 - m_1: 0.2491 - m_2: 0.2400\n",
      "Epoch 2: val_loss improved from 0.77988 to 0.63006, saving model to best_model6.keras\n",
      "\u001B[1m262/262\u001B[0m \u001B[32m━━━━━━━━━━━━━━━━━━━━\u001B[0m\u001B[37m\u001B[0m \u001B[1m5s\u001B[0m 18ms/step - loss: 0.5442 - m: 0.5471 - m_1: 0.3060 - m_2: 0.2955 - val_loss: 0.6301 - val_m: 0.6659 - val_m_1: 0.1230 - val_m_2: 0.1673\n",
      "Epoch 3/25\n",
      "\u001B[1m260/262\u001B[0m \u001B[32m━━━━━━━━━━━━━━━━━━━\u001B[0m\u001B[37m━\u001B[0m \u001B[1m0s\u001B[0m 14ms/step - loss: 0.5094 - m: 0.5120 - m_1: 0.2178 - m_2: 0.2410\n",
      "Epoch 3: val_loss did not improve from 0.63006\n",
      "\u001B[1m262/262\u001B[0m \u001B[32m━━━━━━━━━━━━━━━━━━━━\u001B[0m\u001B[37m\u001B[0m \u001B[1m4s\u001B[0m 15ms/step - loss: 0.5134 - m: 0.5161 - m_1: 0.2785 - m_2: 0.2828 - val_loss: 0.6306 - val_m: 0.6660 - val_m_1: 0.1198 - val_m_2: 0.1673\n",
      "Epoch 4/25\n",
      "\u001B[1m261/262\u001B[0m \u001B[32m━━━━━━━━━━━━━━━━━━━\u001B[0m\u001B[37m━\u001B[0m \u001B[1m0s\u001B[0m 14ms/step - loss: 0.4880 - m: 0.4904 - m_1: 0.2443 - m_2: 0.2693\n",
      "Epoch 4: val_loss did not improve from 0.63006\n",
      "\u001B[1m262/262\u001B[0m \u001B[32m━━━━━━━━━━━━━━━━━━━━\u001B[0m\u001B[37m\u001B[0m \u001B[1m4s\u001B[0m 15ms/step - loss: 0.4934 - m: 0.4957 - m_1: 0.3051 - m_2: 0.2878 - val_loss: 0.6480 - val_m: 0.6824 - val_m_1: 0.1271 - val_m_2: 0.1743\n",
      "Epoch 5/25\n",
      "\u001B[1m258/262\u001B[0m \u001B[32m━━━━━━━━━━━━━━━━━━━\u001B[0m\u001B[37m━\u001B[0m \u001B[1m0s\u001B[0m 14ms/step - loss: 0.4556 - m: 0.4575 - m_1: 0.2140 - m_2: 0.2350\n",
      "Epoch 5: val_loss improved from 0.63006 to 0.56092, saving model to best_model6.keras\n",
      "\u001B[1m262/262\u001B[0m \u001B[32m━━━━━━━━━━━━━━━━━━━━\u001B[0m\u001B[37m\u001B[0m \u001B[1m4s\u001B[0m 15ms/step - loss: 0.4714 - m: 0.4736 - m_1: 0.2749 - m_2: 0.2698 - val_loss: 0.5609 - val_m: 0.5920 - val_m_1: 0.1308 - val_m_2: 0.1755\n",
      "Epoch 6/25\n",
      "\u001B[1m261/262\u001B[0m \u001B[32m━━━━━━━━━━━━━━━━━━━\u001B[0m\u001B[37m━\u001B[0m \u001B[1m0s\u001B[0m 14ms/step - loss: 0.4455 - m: 0.4473 - m_1: 0.2253 - m_2: 0.1966\n",
      "Epoch 6: val_loss improved from 0.56092 to 0.54260, saving model to best_model6.keras\n",
      "\u001B[1m262/262\u001B[0m \u001B[32m━━━━━━━━━━━━━━━━━━━━\u001B[0m\u001B[37m\u001B[0m \u001B[1m4s\u001B[0m 15ms/step - loss: 0.4600 - m: 0.4617 - m_1: 0.2782 - m_2: 0.2506 - val_loss: 0.5426 - val_m: 0.5748 - val_m_1: 0.1294 - val_m_2: 0.1721\n",
      "Epoch 7/25\n",
      "\u001B[1m261/262\u001B[0m \u001B[32m━━━━━━━━━━━━━━━━━━━\u001B[0m\u001B[37m━\u001B[0m \u001B[1m0s\u001B[0m 14ms/step - loss: 0.4190 - m: 0.4207 - m_1: 0.2116 - m_2: 0.1980\n",
      "Epoch 7: val_loss improved from 0.54260 to 0.48585, saving model to best_model6.keras\n",
      "\u001B[1m262/262\u001B[0m \u001B[32m━━━━━━━━━━━━━━━━━━━━\u001B[0m\u001B[37m\u001B[0m \u001B[1m4s\u001B[0m 15ms/step - loss: 0.4436 - m: 0.4453 - m_1: 0.2834 - m_2: 0.2686 - val_loss: 0.4859 - val_m: 0.5190 - val_m_1: 0.1289 - val_m_2: 0.1734\n",
      "Epoch 8/25\n",
      "\u001B[1m260/262\u001B[0m \u001B[32m━━━━━━━━━━━━━━━━━━━\u001B[0m\u001B[37m━\u001B[0m \u001B[1m0s\u001B[0m 14ms/step - loss: 0.4055 - m: 0.4067 - m_1: 0.2184 - m_2: 0.2477\n",
      "Epoch 8: val_loss improved from 0.48585 to 0.44923, saving model to best_model6.keras\n",
      "\u001B[1m262/262\u001B[0m \u001B[32m━━━━━━━━━━━━━━━━━━━━\u001B[0m\u001B[37m\u001B[0m \u001B[1m4s\u001B[0m 16ms/step - loss: 0.4340 - m: 0.4355 - m_1: 0.3100 - m_2: 0.2762 - val_loss: 0.4492 - val_m: 0.4743 - val_m_1: 0.1319 - val_m_2: 0.1695\n",
      "Epoch 9/25\n",
      "\u001B[1m260/262\u001B[0m \u001B[32m━━━━━━━━━━━━━━━━━━━\u001B[0m\u001B[37m━\u001B[0m \u001B[1m0s\u001B[0m 14ms/step - loss: 0.3950 - m: 0.3963 - m_1: 0.2280 - m_2: 0.2597\n",
      "Epoch 9: val_loss did not improve from 0.44923\n",
      "\u001B[1m262/262\u001B[0m \u001B[32m━━━━━━━━━━━━━━━━━━━━\u001B[0m\u001B[37m\u001B[0m \u001B[1m4s\u001B[0m 15ms/step - loss: 0.4245 - m: 0.4258 - m_1: 0.2878 - m_2: 0.2996 - val_loss: 0.5089 - val_m: 0.5391 - val_m_1: 0.1099 - val_m_2: 0.1733\n",
      "Epoch 10/25\n",
      "\u001B[1m261/262\u001B[0m \u001B[32m━━━━━━━━━━━━━━━━━━━\u001B[0m\u001B[37m━\u001B[0m \u001B[1m0s\u001B[0m 13ms/step - loss: 0.3917 - m: 0.3930 - m_1: 0.2281 - m_2: 0.2072\n",
      "Epoch 10: val_loss did not improve from 0.44923\n",
      "\u001B[1m262/262\u001B[0m \u001B[32m━━━━━━━━━━━━━━━━━━━━\u001B[0m\u001B[37m\u001B[0m \u001B[1m4s\u001B[0m 15ms/step - loss: 0.4204 - m: 0.4217 - m_1: 0.2847 - m_2: 0.2441 - val_loss: 0.4748 - val_m: 0.5092 - val_m_1: 0.1215 - val_m_2: 0.1665\n",
      "Epoch 11/25\n",
      "\u001B[1m258/262\u001B[0m \u001B[32m━━━━━━━━━━━━━━━━━━━\u001B[0m\u001B[37m━\u001B[0m \u001B[1m0s\u001B[0m 13ms/step - loss: 0.3805 - m: 0.3818 - m_1: 0.2155 - m_2: 0.2022\n",
      "Epoch 11: val_loss improved from 0.44923 to 0.44770, saving model to best_model6.keras\n",
      "\u001B[1m262/262\u001B[0m \u001B[32m━━━━━━━━━━━━━━━━━━━━\u001B[0m\u001B[37m\u001B[0m \u001B[1m4s\u001B[0m 15ms/step - loss: 0.4130 - m: 0.4143 - m_1: 0.2853 - m_2: 0.2735 - val_loss: 0.4477 - val_m: 0.4744 - val_m_1: 0.1082 - val_m_2: 0.1728\n",
      "Epoch 12/25\n",
      "\u001B[1m260/262\u001B[0m \u001B[32m━━━━━━━━━━━━━━━━━━━\u001B[0m\u001B[37m━\u001B[0m \u001B[1m0s\u001B[0m 14ms/step - loss: 0.3777 - m: 0.3789 - m_1: 0.2186 - m_2: 0.2655\n",
      "Epoch 12: val_loss did not improve from 0.44770\n",
      "\u001B[1m262/262\u001B[0m \u001B[32m━━━━━━━━━━━━━━━━━━━━\u001B[0m\u001B[37m\u001B[0m \u001B[1m4s\u001B[0m 15ms/step - loss: 0.4091 - m: 0.4103 - m_1: 0.3016 - m_2: 0.2954 - val_loss: 0.6121 - val_m: 0.6391 - val_m_1: 0.1265 - val_m_2: 0.1659\n",
      "Epoch 13/25\n",
      "\u001B[1m261/262\u001B[0m \u001B[32m━━━━━━━━━━━━━━━━━━━\u001B[0m\u001B[37m━\u001B[0m \u001B[1m0s\u001B[0m 13ms/step - loss: 0.3672 - m: 0.3682 - m_1: 0.2043 - m_2: 0.2341\n",
      "Epoch 13: val_loss improved from 0.44770 to 0.42900, saving model to best_model6.keras\n",
      "\u001B[1m262/262\u001B[0m \u001B[32m━━━━━━━━━━━━━━━━━━━━\u001B[0m\u001B[37m\u001B[0m \u001B[1m4s\u001B[0m 15ms/step - loss: 0.3996 - m: 0.4009 - m_1: 0.2668 - m_2: 0.2753 - val_loss: 0.4290 - val_m: 0.4523 - val_m_1: 0.1318 - val_m_2: 0.1760\n",
      "Epoch 14/25\n",
      "\u001B[1m261/262\u001B[0m \u001B[32m━━━━━━━━━━━━━━━━━━━\u001B[0m\u001B[37m━\u001B[0m \u001B[1m0s\u001B[0m 14ms/step - loss: 0.3578 - m: 0.3588 - m_1: 0.2086 - m_2: 0.2367\n",
      "Epoch 14: val_loss improved from 0.42900 to 0.42544, saving model to best_model6.keras\n",
      "\u001B[1m262/262\u001B[0m \u001B[32m━━━━━━━━━━━━━━━━━━━━\u001B[0m\u001B[37m\u001B[0m \u001B[1m4s\u001B[0m 15ms/step - loss: 0.3924 - m: 0.3934 - m_1: 0.2653 - m_2: 0.2677 - val_loss: 0.4254 - val_m: 0.4534 - val_m_1: 0.1167 - val_m_2: 0.1697\n",
      "Epoch 15/25\n",
      "\u001B[1m261/262\u001B[0m \u001B[32m━━━━━━━━━━━━━━━━━━━\u001B[0m\u001B[37m━\u001B[0m \u001B[1m0s\u001B[0m 14ms/step - loss: 0.3565 - m: 0.3572 - m_1: 0.2087 - m_2: 0.2360\n",
      "Epoch 15: val_loss did not improve from 0.42544\n",
      "\u001B[1m262/262\u001B[0m \u001B[32m━━━━━━━━━━━━━━━━━━━━\u001B[0m\u001B[37m\u001B[0m \u001B[1m4s\u001B[0m 15ms/step - loss: 0.3885 - m: 0.3895 - m_1: 0.2684 - m_2: 0.2780 - val_loss: 0.4309 - val_m: 0.4650 - val_m_1: 0.1141 - val_m_2: 0.1672\n",
      "Epoch 16/25\n",
      "\u001B[1m260/262\u001B[0m \u001B[32m━━━━━━━━━━━━━━━━━━━\u001B[0m\u001B[37m━\u001B[0m \u001B[1m0s\u001B[0m 14ms/step - loss: 0.3493 - m: 0.3498 - m_1: 0.1949 - m_2: 0.2276\n",
      "Epoch 16: val_loss did not improve from 0.42544\n",
      "\u001B[1m262/262\u001B[0m \u001B[32m━━━━━━━━━━━━━━━━━━━━\u001B[0m\u001B[37m\u001B[0m \u001B[1m4s\u001B[0m 15ms/step - loss: 0.3798 - m: 0.3807 - m_1: 0.2401 - m_2: 0.2489 - val_loss: 0.4262 - val_m: 0.4543 - val_m_1: 0.1155 - val_m_2: 0.1696\n",
      "Epoch 17/25\n",
      "\u001B[1m261/262\u001B[0m \u001B[32m━━━━━━━━━━━━━━━━━━━\u001B[0m\u001B[37m━\u001B[0m \u001B[1m0s\u001B[0m 14ms/step - loss: 0.3434 - m: 0.3441 - m_1: 0.1957 - m_2: 0.2508\n",
      "Epoch 17: val_loss improved from 0.42544 to 0.41243, saving model to best_model6.keras\n",
      "\u001B[1m262/262\u001B[0m \u001B[32m━━━━━━━━━━━━━━━━━━━━\u001B[0m\u001B[37m\u001B[0m \u001B[1m4s\u001B[0m 15ms/step - loss: 0.3749 - m: 0.3757 - m_1: 0.2770 - m_2: 0.2539 - val_loss: 0.4124 - val_m: 0.4433 - val_m_1: 0.1048 - val_m_2: 0.1698\n",
      "Epoch 18/25\n",
      "\u001B[1m261/262\u001B[0m \u001B[32m━━━━━━━━━━━━━━━━━━━\u001B[0m\u001B[37m━\u001B[0m \u001B[1m0s\u001B[0m 13ms/step - loss: 0.3393 - m: 0.3401 - m_1: 0.2478 - m_2: 0.2147\n",
      "Epoch 18: val_loss improved from 0.41243 to 0.39382, saving model to best_model6.keras\n",
      "\u001B[1m262/262\u001B[0m \u001B[32m━━━━━━━━━━━━━━━━━━━━\u001B[0m\u001B[37m\u001B[0m \u001B[1m4s\u001B[0m 15ms/step - loss: 0.3686 - m: 0.3692 - m_1: 0.3294 - m_2: 0.2422 - val_loss: 0.3938 - val_m: 0.4214 - val_m_1: 0.1089 - val_m_2: 0.1682\n",
      "Epoch 19/25\n",
      "\u001B[1m261/262\u001B[0m \u001B[32m━━━━━━━━━━━━━━━━━━━\u001B[0m\u001B[37m━\u001B[0m \u001B[1m0s\u001B[0m 14ms/step - loss: 0.3369 - m: 0.3377 - m_1: 0.2145 - m_2: 0.2047\n",
      "Epoch 19: val_loss did not improve from 0.39382\n",
      "\u001B[1m262/262\u001B[0m \u001B[32m━━━━━━━━━━━━━━━━━━━━\u001B[0m\u001B[37m\u001B[0m \u001B[1m4s\u001B[0m 15ms/step - loss: 0.3653 - m: 0.3662 - m_1: 0.2690 - m_2: 0.2368 - val_loss: 0.4160 - val_m: 0.4443 - val_m_1: 0.1124 - val_m_2: 0.1743\n",
      "Epoch 20/25\n",
      "\u001B[1m261/262\u001B[0m \u001B[32m━━━━━━━━━━━━━━━━━━━\u001B[0m\u001B[37m━\u001B[0m \u001B[1m0s\u001B[0m 14ms/step - loss: 0.3292 - m: 0.3300 - m_1: 0.1863 - m_2: 0.2331\n",
      "Epoch 20: val_loss did not improve from 0.39382\n",
      "\u001B[1m262/262\u001B[0m \u001B[32m━━━━━━━━━━━━━━━━━━━━\u001B[0m\u001B[37m\u001B[0m \u001B[1m4s\u001B[0m 15ms/step - loss: 0.3610 - m: 0.3619 - m_1: 0.2647 - m_2: 0.2316 - val_loss: 0.3965 - val_m: 0.4208 - val_m_1: 0.1058 - val_m_2: 0.1689\n",
      "Epoch 21/25\n",
      "\u001B[1m261/262\u001B[0m \u001B[32m━━━━━━━━━━━━━━━━━━━\u001B[0m\u001B[37m━\u001B[0m \u001B[1m0s\u001B[0m 14ms/step - loss: 0.3268 - m: 0.3275 - m_1: 0.2202 - m_2: 0.1913\n",
      "Epoch 21: val_loss improved from 0.39382 to 0.38996, saving model to best_model6.keras\n",
      "\u001B[1m262/262\u001B[0m \u001B[32m━━━━━━━━━━━━━━━━━━━━\u001B[0m\u001B[37m\u001B[0m \u001B[1m4s\u001B[0m 15ms/step - loss: 0.3560 - m: 0.3568 - m_1: 0.2785 - m_2: 0.2400 - val_loss: 0.3900 - val_m: 0.4159 - val_m_1: 0.1003 - val_m_2: 0.1654\n",
      "Epoch 22/25\n",
      "\u001B[1m261/262\u001B[0m \u001B[32m━━━━━━━━━━━━━━━━━━━\u001B[0m\u001B[37m━\u001B[0m \u001B[1m0s\u001B[0m 14ms/step - loss: 0.3156 - m: 0.3162 - m_1: 0.1866 - m_2: 0.2316\n",
      "Epoch 22: val_loss did not improve from 0.38996\n",
      "\u001B[1m262/262\u001B[0m \u001B[32m━━━━━━━━━━━━━━━━━━━━\u001B[0m\u001B[37m\u001B[0m \u001B[1m4s\u001B[0m 15ms/step - loss: 0.3473 - m: 0.3480 - m_1: 0.2462 - m_2: 0.2544 - val_loss: 0.4162 - val_m: 0.4484 - val_m_1: 0.1014 - val_m_2: 0.1690\n",
      "Epoch 23/25\n",
      "\u001B[1m261/262\u001B[0m \u001B[32m━━━━━━━━━━━━━━━━━━━\u001B[0m\u001B[37m━\u001B[0m \u001B[1m0s\u001B[0m 13ms/step - loss: 0.3213 - m: 0.3220 - m_1: 0.1773 - m_2: 0.2551\n",
      "Epoch 23: val_loss improved from 0.38996 to 0.38150, saving model to best_model6.keras\n",
      "\u001B[1m262/262\u001B[0m \u001B[32m━━━━━━━━━━━━━━━━━━━━\u001B[0m\u001B[37m\u001B[0m \u001B[1m4s\u001B[0m 15ms/step - loss: 0.3466 - m: 0.3475 - m_1: 0.2379 - m_2: 0.2569 - val_loss: 0.3815 - val_m: 0.4131 - val_m_1: 0.0963 - val_m_2: 0.1672\n",
      "Epoch 24/25\n",
      "\u001B[1m261/262\u001B[0m \u001B[32m━━━━━━━━━━━━━━━━━━━\u001B[0m\u001B[37m━\u001B[0m \u001B[1m0s\u001B[0m 14ms/step - loss: 0.3147 - m: 0.3157 - m_1: 0.1664 - m_2: 0.1894\n",
      "Epoch 24: val_loss did not improve from 0.38150\n",
      "\u001B[1m262/262\u001B[0m \u001B[32m━━━━━━━━━━━━━━━━━━━━\u001B[0m\u001B[37m\u001B[0m \u001B[1m4s\u001B[0m 15ms/step - loss: 0.3407 - m: 0.3415 - m_1: 0.2372 - m_2: 0.2221 - val_loss: 0.3824 - val_m: 0.4086 - val_m_1: 0.1075 - val_m_2: 0.1669\n",
      "Epoch 25/25\n",
      "\u001B[1m261/262\u001B[0m \u001B[32m━━━━━━━━━━━━━━━━━━━\u001B[0m\u001B[37m━\u001B[0m \u001B[1m0s\u001B[0m 13ms/step - loss: 0.3045 - m: 0.3051 - m_1: 0.1751 - m_2: 0.2771\n",
      "Epoch 25: val_loss improved from 0.38150 to 0.37316, saving model to best_model6.keras\n",
      "\u001B[1m262/262\u001B[0m \u001B[32m━━━━━━━━━━━━━━━━━━━━\u001B[0m\u001B[37m\u001B[0m \u001B[1m4s\u001B[0m 15ms/step - loss: 0.3340 - m: 0.3349 - m_1: 0.2289 - m_2: 0.2495 - val_loss: 0.3732 - val_m: 0.4033 - val_m_1: 0.0992 - val_m_2: 0.1655\n",
      "////////////////////\n",
      "\u001B[1m74/77\u001B[0m \u001B[32m━━━━━━━━━━━━━━━━━━━\u001B[0m\u001B[37m━\u001B[0m \u001B[1m0s\u001B[0m 4ms/step - loss: 1.0301 - m: 1.0423 - m_1: 0.3136 - m_2: 0.2044"
     ]
    },
    {
     "name": "stderr",
     "output_type": "stream",
     "text": [
      "2025-10-30 20:10:41.614121: I external/local_xla/xla/service/gpu/autotuning/dot_search_space.cc:208] All configs were filtered out because none of them sufficiently match the hints. Maybe the hints set does not contain a good representative set of valid configs? Working around this by using the full hints set instead.\n",
      "2025-10-30 20:10:41.987696: I external/local_xla/xla/stream_executor/cuda/subprocess_compilation.cc:346] ptxas warning : Registers are spilled to local memory in function 'gemm_fusion_dot_230', 12 bytes spill stores, 12 bytes spill loads\n",
      "\n"
     ]
    },
    {
     "name": "stdout",
     "output_type": "stream",
     "text": [
      "\u001B[1m77/77\u001B[0m \u001B[32m━━━━━━━━━━━━━━━━━━━━\u001B[0m\u001B[37m\u001B[0m \u001B[1m2s\u001B[0m 20ms/step - loss: 0.8619 - m: 0.8819 - m_1: 0.1613 - m_2: 0.1866\n",
      "////////////////////\n",
      "Done. Results saved to model_comparison.csv\n"
     ]
    }
   ],
   "execution_count": 13
  },
  {
   "metadata": {
    "ExecuteTime": {
     "end_time": "2025-10-30T12:10:43.112269Z",
     "start_time": "2025-10-30T12:10:43.031662Z"
    }
   },
   "cell_type": "code",
   "source": [
    "df = pd.read_csv(\"model_comparison.csv\")\n",
    "df.columns"
   ],
   "id": "f79daa7eefeb756d",
   "outputs": [
    {
     "data": {
      "text/plain": [
       "Index(['model', 'best_epoch', 'checkpoint', 'best_val_loss', 'eval_mae_0_orig',\n",
       "       'eval_mae_1_orig', 'eval_mae_2_orig', 'loss', 'm', 'm_1', 'm_2',\n",
       "       'y_std_0', 'y_std_1', 'y_std_2'],\n",
       "      dtype='object')"
      ]
     },
     "execution_count": 14,
     "metadata": {},
     "output_type": "execute_result"
    }
   ],
   "execution_count": 14
  },
  {
   "metadata": {
    "ExecuteTime": {
     "end_time": "2025-10-30T12:10:43.245551Z",
     "start_time": "2025-10-30T12:10:43.123088Z"
    }
   },
   "cell_type": "code",
   "source": [
    "import pandas as pd\n",
    "\n",
    "# Assuming your data is in df\n",
    "# df = pd.read_csv(\"your_file.csv\")  # or pd.DataFrame({...})\n",
    "\n",
    "# Option 1: simple sum or average of MAEs\n",
    "df['custom_loss'] = (df['eval_mae_0_orig'] + df['eval_mae_1_orig'] + df['eval_mae_2_orig']) / 3\n",
    "\n",
    "# Option 2: weighted sum (give more importance to a target, e.g., MAP)\n",
    "weights = {'eval_mae_0_orig': 0.5, 'eval_mae_1_orig': 0.3, 'eval_mae_2_orig': 0.2}\n",
    "df['custom_weighted_loss'] = (\n",
    "    df['eval_mae_0_orig']*weights['eval_mae_0_orig'] +\n",
    "    df['eval_mae_1_orig']*weights['eval_mae_1_orig'] +\n",
    "    df['eval_mae_2_orig']*weights['eval_mae_2_orig']\n",
    ")\n",
    "\n",
    "# Sort models by custom loss\n",
    "df_sorted = df.sort_values(by='custom_weighted_loss', ascending=True)\n",
    "\n",
    "print(df_sorted[['model', 'custom_weighted_loss']])\n"
   ],
   "id": "ab4a9538555931c4",
   "outputs": [
    {
     "name": "stdout",
     "output_type": "stream",
     "text": [
      "    model  custom_weighted_loss\n",
      "2  model3              6.498616\n",
      "3  model4              6.720749\n",
      "0  model1              6.757022\n",
      "1  model2              6.806010\n",
      "5  model6              6.892917\n",
      "4  model5              7.126026\n"
     ]
    }
   ],
   "execution_count": 15
  },
  {
   "metadata": {
    "ExecuteTime": {
     "end_time": "2025-10-30T12:10:46.453562Z",
     "start_time": "2025-10-30T12:10:43.250318Z"
    }
   },
   "cell_type": "code",
   "source": [
    "import pandas as pd\n",
    "import matplotlib.pyplot as plt\n",
    "import seaborn as sns\n",
    "\n",
    "sns.set(style=\"whitegrid\")\n",
    "\n",
    "# 1 Best validation loss (sorted)\n",
    "df_sorted = df.sort_values(by='custom_weighted_loss', ascending=True)\n",
    "plt.figure(figsize=(10,6))\n",
    "sns.barplot(data=df_sorted, x='model', y='custom_weighted_loss', palette=\"viridis\")\n",
    "plt.title('Best Validation Loss per Model (Sorted)')\n",
    "plt.ylabel('Best Val Loss')\n",
    "plt.xlabel('Model')\n",
    "plt.xticks(rotation=45)\n",
    "plt.show()\n",
    "\n",
    "# 2 Evaluation MAE for each target, sorted individually\n",
    "mae_cols = ['eval_mae_0_orig', 'eval_mae_1_orig', 'eval_mae_2_orig']\n",
    "target_names = ['MAP', 'SPO2', 'ETCO2']\n",
    "\n",
    "for col, target in zip(mae_cols, target_names):\n",
    "    df_target_sorted = df.sort_values(by=col, ascending=True)  # sort per target\n",
    "    plt.figure(figsize=(10,6))\n",
    "    sns.barplot(data=df_target_sorted, x='model', y=col, palette=\"magma\")\n",
    "    plt.title(f'Evaluation MAE Orig per Model - {target} (Sorted)')\n",
    "    plt.ylabel('MAE')\n",
    "    plt.xlabel('Model')\n",
    "    plt.xticks(rotation=45)\n",
    "    plt.show()\n"
   ],
   "id": "9bd53d4b263c8559",
   "outputs": [
    {
     "name": "stderr",
     "output_type": "stream",
     "text": [
      "/tmp/ipykernel_132252/3768344279.py:10: FutureWarning: \n",
      "\n",
      "Passing `palette` without assigning `hue` is deprecated and will be removed in v0.14.0. Assign the `x` variable to `hue` and set `legend=False` for the same effect.\n",
      "\n",
      "  sns.barplot(data=df_sorted, x='model', y='custom_weighted_loss', palette=\"viridis\")\n"
     ]
    },
    {
     "data": {
      "text/plain": [
       "<Figure size 1000x600 with 1 Axes>"
      ],
      "image/png": "[encoded data removed]"
     },
     "metadata": {},
     "output_type": "display_data"
    },
    {
     "name": "stderr",
     "output_type": "stream",
     "text": [
      "/tmp/ipykernel_132252/3768344279.py:24: FutureWarning: \n",
      "\n",
      "Passing `palette` without assigning `hue` is deprecated and will be removed in v0.14.0. Assign the `x` variable to `hue` and set `legend=False` for the same effect.\n",
      "\n",
      "  sns.barplot(data=df_target_sorted, x='model', y=col, palette=\"magma\")\n"
     ]
    },
    {
     "data": {
      "text/plain": [
       "<Figure size 1000x600 with 1 Axes>"
      ],
      "image/png": "[encoded data removed]"
     },
     "metadata": {},
     "output_type": "display_data"
    },
    {
     "name": "stderr",
     "output_type": "stream",
     "text": [
      "/tmp/ipykernel_132252/3768344279.py:24: FutureWarning: \n",
      "\n",
      "Passing `palette` without assigning `hue` is deprecated and will be removed in v0.14.0. Assign the `x` variable to `hue` and set `legend=False` for the same effect.\n",
      "\n",
      "  sns.barplot(data=df_target_sorted, x='model', y=col, palette=\"magma\")\n"
     ]
    },
    {
     "data": {
      "text/plain": [
       "<Figure size 1000x600 with 1 Axes>"
      ],
      "image/png": "[encoded data removed]"
     },
     "metadata": {},
     "output_type": "display_data"
    },
    {
     "name": "stderr",
     "output_type": "stream",
     "text": [
      "/tmp/ipykernel_132252/3768344279.py:24: FutureWarning: \n",
      "\n",
      "Passing `palette` without assigning `hue` is deprecated and will be removed in v0.14.0. Assign the `x` variable to `hue` and set `legend=False` for the same effect.\n",
      "\n",
      "  sns.barplot(data=df_target_sorted, x='model', y=col, palette=\"magma\")\n"
     ]
    },
    {
     "data": {
      "text/plain": [
       "<Figure size 1000x600 with 1 Axes>"
      ],
      "image/png": "[encoded data removed]"
     },
     "metadata": {},
     "output_type": "display_data"
    }
   ],
   "execution_count": 16
  }
 ],
 "metadata": {
  "kernelspec": {
   "display_name": "Python 3",
   "language": "python",
   "name": "python3"
  },
  "language_info": {
   "codemirror_mode": {
    "name": "ipython",
    "version": 2
   },
   "file_extension": ".py",
   "mimetype": "text/x-python",
   "name": "python",
   "nbconvert_exporter": "python",
   "pygments_lexer": "ipython2",
   "version": "2.7.6"
  }
 },
 "nbformat": 4,
 "nbformat_minor": 5
}
